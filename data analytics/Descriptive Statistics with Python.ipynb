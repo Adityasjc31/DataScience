{
 "cells": [
  {
   "cell_type": "markdown",
   "metadata": {},
   "source": [
    "# Descriptive Statistics\n",
    "\n",
    "\n",
    "**Descriptive Statistics** gives us the basic summary measures about the dataset.  The summary measures include measures of central tendency (mean, median and mode) and measures of variability (variance, standard deviation, minimum/maximum values, IQR (Interquartile Range), skewness and kurtosis). \n",
    "\n",
    "**I have used the fortune 1000 dataset from the data world website for this project.**"
   ]
  },
  {
   "cell_type": "markdown",
   "metadata": {},
   "source": [
    "## 1. Introduction to descriptive statistics\n",
    "\n",
    "\n",
    "Descriptive statistics are numbers that are used to describe and summarize the data. They are used to describe the basic features of the data under consideration. They provide simple summary measures which give an overview of the dataset. Summary measures that are commonly used to describe a data set are measures of central tendency and measures of variability or dispersion. \n",
    "\n",
    "\n",
    "Measures of central tendency include the `mean`, `median` and `mode`. These measures summarize a given data set by providing a single data point. These measures describe the center position of a distribution for a data set. We analyze the frequency of each data point in the distribution and describes it using the mean, median or mode. They provide the average of a data set. They can be either a representation of entire population or a sample of the population.\n",
    "\n",
    "\n",
    "Measures of variability or dispersion include the `variance` or `standard deviation`, `coefficient of variation`,  `minimum` and `maximum` values, `IQR (Interquartile Range)`,  `skewness and `kurtosis`. These measures help us to analyze how spread-out the distribution is for a dataset. So, they provide the shape of the data set.\n"
   ]
  },
  {
   "cell_type": "markdown",
   "metadata": {},
   "source": [
    "## 2. Measures of central tendency\n",
    "\n",
    "\n",
    "**Central tendency** means a central value which describe a probability distribution. It may also be called a center or location of the distribution. The most common measures of central tendency are **mean**, **median** and **mode**. The most common measure of central tendency is the **mean**. For skewed distribution or when there is concern about outliers, the **median** may be preferred. So, median is more robust measure than the mean.\n",
    "\n",
    "\n",
    "\n",
    "### Mean\n",
    "\n",
    "- The most common measure of central tendency is the mean.\n",
    "- Mean is also known as the simple average.\n",
    "- It is denoted by greek letter µ for population and by ¯x for sample.\n",
    "- We can find mean of a number of elements by adding all the elements in a dataset and then dividing by the number of elements  in the dataset.\n",
    "- It is the most common measure of central tendency but it has a drawback.\n",
    "- The mean is affected by the presence of outliers.\n",
    "- So, mean alone is not enough for making business decisions.\n",
    "\n",
    "\n",
    "### Median\n",
    "\n",
    "- Median is the number which divides the dataset into two equal halves.\n",
    "- To calculate the median, we have to arrange our dataset of n numbers in ascending order.\n",
    "- The median of this dataset is the number at (n+1)/2 th position, if n is odd.\n",
    "- If n is even, then the median is the average of the (n/2)th number and (n+2)/2 th number.\n",
    "- Median is robust to outliers.\n",
    "- So, for skewed distribution or when there is concern about outliers, the median may be preferred.\n",
    "\n",
    "\n",
    "### Mode\n",
    "\n",
    "- Mode of a dataset is the value that occurs most often in the dataset.\n",
    "- Mode is the value that has the highest frequency of occurrence in the dataset.\n",
    "\n",
    "\n",
    "There is no best measure that give us the complete picture. So, these measures of central tendency (mean, median and mode) should be used together to represent the full picture. \n",
    "\n"
   ]
  },
  {
   "cell_type": "markdown",
   "metadata": {},
   "source": [
    "## 3. Measures of dispersion or variability\n",
    "\n",
    "\n",
    "**Dispersion** is an indicator of how far away from the center, we can find the data values. The most common measures of dispersion are **variance**, **standard deviation** and **interquartile range (IQR)**. **Variance** is the standard measure of spread. The **standard deviation** is the square root of the variance. The **variance** and **standard deviation** are two useful measures of spread. \n",
    "\n",
    "\n",
    "\n",
    "### Variance\n",
    "\n",
    "- Variance measures the dispersion of a set of data points around their mean value.\n",
    "- It is the mean of the squares of the individual deviations.\n",
    "- Variance gives results in the original units squared.\n",
    "\n",
    "\n",
    "\n",
    "### Standard deviation\n",
    "\n",
    "- Standard deviation is the most common used measure of variability.\n",
    "- It is the square-root of the variance.\n",
    "- For Normally distributed data, approximately 95% of the values lie within 2 s.d. of the mean. \n",
    "- Standard deviation gives results in the original units.\n",
    "\n",
    "\n",
    "### Coefficient of Variation (CV)\n",
    "\n",
    "- Coefficient of Variation (CV) is equal to the standard deviation divided by the mean.\n",
    "- It is also known as `relative standard deviation`.\n",
    "\n",
    "\n",
    "### IQR (Interquartile range)\n",
    "\n",
    "- A third measure of spread is the **interquartile range (IQR)**.\n",
    "- The IQR is calculated using the boundaries of data situated between the 1st and the 3rd quartiles. \n",
    "- The interquartile range (IQR) can be calculated as follows:-\n",
    "       IQR = Q3 – Q1\n",
    "- In the same way that the median is more robust than the mean, the IQR is a more robust measure of spread than variance and standard deviation and should therefore be preferred for small or asymmetrical distributions. \n",
    "- It is a robust measure of spread.\n",
    "\n",
    "\n",
    "### Measures of shape\n",
    "\n",
    "Now, we will take a look at measures of shape of distribution. There are two statistical measures that can tell us about the shape of the distribution. These measures are **skewness** and **kurtosis**. These measures can be used to convey information about the shape of the distribution of the dataset.\n",
    "\n",
    "\n",
    "### Skewness\n",
    "- **Skewness** is a measure of a distribution's symmetry or more precisely lack of symmetry. \n",
    "- It is used to mean the absence of symmetry from the mean of the dataset. \n",
    "- It is a characteristic of the deviation from the mean. \n",
    "- It is used to indicate the shape of the distribution of data.\n",
    "\n",
    "\n",
    "#### Negative skewness\n",
    "\n",
    "- Negative values for skewness indicate negative skewness. \n",
    "- In this case, the data are skewed or tail to left. \n",
    "- By skewed left, we mean that the left tail is long relative to the right tail. \n",
    "- The data values may extend further to the left but concentrated in the right. \n",
    "- So, there is a long tail and distortion is caused by extremely small values which pull the mean downward so that it is less than the median. \n",
    "- Hence, in this case we have \n",
    "      **Mean < Median < Mode**\n",
    "      \n",
    "\n",
    "#### Zero skewness\n",
    "\n",
    "- Zero skewness means skewness value of zero. \n",
    "- It means the dataset is symmetrical. \n",
    "- A data set is symmetrical if it looks the same to the left and right to the center point. \n",
    "- The dataset looks bell shaped or symmetrical. \n",
    "- A perfectly symmetrical data set will have a skewness of zero. \n",
    "- So, the normal distribution which is perfectly symmetrical has a skewness of 0. \n",
    "- So, in this case, we have\n",
    "      **Mean = Median = Mode**\n",
    "      \n",
    "\n",
    "#### Positive skewness\n",
    "\n",
    "- Positive values for skewness indicate positive skewness. \n",
    "- The dataset are skewed or tail to right. \n",
    "- By skewed right, we mean that the right tail is long relative to the left tail. \n",
    "- The data values are concentrated in the right. \n",
    "- So, there is a long tail to the right that is caused by extremely large values which pull the mean upward so that it is greater than the median. \n",
    "- So, we have\n",
    "      **Mean > Median > Mode**\n",
    "       \n",
    "#### Reference range on skewness values\n",
    "\n",
    "The rule of thumb for skewness values are:\n",
    "\n",
    "- If the skewness is between -0.5 and 0.5, the data are fairly symmetrical.\n",
    "- If the skewness is between -1 and – 0.5 or between 0.5 and 1, the data are moderately skewed.\n",
    "- If the skewness is less than -1 or greater than 1, the data are highly skewed.\n",
    "\n",
    "\n",
    "### Kurtosis\n",
    "\n",
    "- Kurtosis is the degree of peakedness of a distribution. \n",
    "- Data sets with high kurtosis tend to have a distinct peak near the mean, decline rather rapidly and have heavy tails.\n",
    "- Data sets with low kurtosis tend to have a flat top near the mean rather than a sharp peak. \n",
    "\n",
    "#### Reference range for kurtosis\n",
    "\n",
    "- The reference standard is a normal distribution, which has a kurtosis of 3. \n",
    "- Often, **excess kurtosis** is presented instead of kurtosis, where **excess kurtosis** is simply **kurtosis - 3**. \n",
    "\n",
    "#### Mesokurtic curve\n",
    "\n",
    "- A normal distribution has kurtosis exactly 3 (**excess kurtosis** exactly 0). \n",
    "- Any distribution with kurtosis ≈3 (excess ≈ 0) is called **mesokurtic**.\n",
    "\n",
    "#### Platykurtic curve\n",
    "\n",
    "- A distribution with kurtosis < 3 (**excess kurtosis** < 0) is called **platykurtic**. \n",
    "- As compared to a normal distribution, its central peak is lower and broader, and its tails are shorter and thinner.\n",
    "\n",
    "#### Leptokurtic curve\n",
    "\n",
    "- A distribution with kurtosis > 3 (**excess kurtosis** > 0) is called **leptokurtic**. \n",
    "- As compared to a normal distribution, its central peak is higher and sharper, and its tails are longer and fatter.\n",
    "\n",
    "### Summary\n",
    "\n",
    "So far, we have looked at the measures of central tendency of the data which include `mean`, `median` and `mode`. Also, we have taken a look at measures of spread of the data which consists of `variance`, `standard deviation`, `interquartile range (IQR)`, `minimum` and `maximum` values. We have also discussed `skewness` and `kurtosis` as measures of shape. These quantities can only be used for quantitative variables not for categorical variables."
   ]
  },
  {
   "cell_type": "markdown",
   "metadata": {},
   "source": [
    "## 4. Dataset description\n",
    "\n",
    "\n",
    "I have used the `fortune 1000 dataset` for this project. I have downloaded this dataset from the data world website. This data set can be downloaded from the following url –\n",
    "\n",
    "The data set consists of revenue and profit figures of fortune 1000 companies along with their rank."
   ]
  },
  {
   "cell_type": "markdown",
   "metadata": {},
   "source": [
    "## 5. Import libraries"
   ]
  },
  {
   "cell_type": "code",
   "execution_count": 2,
   "metadata": {},
   "outputs": [],
   "source": [
    "import pandas as pd\n",
    "import numpy as np\n",
    "import matplotlib.pyplot as plt\n",
    "import seaborn as sns\n",
    "%matplotlib inline"
   ]
  },
  {
   "cell_type": "markdown",
   "metadata": {},
   "source": [
    "### Ignore warnings"
   ]
  },
  {
   "cell_type": "code",
   "execution_count": 3,
   "metadata": {},
   "outputs": [],
   "source": [
    "import warnings\n",
    "warnings.filterwarnings('ignore')"
   ]
  },
  {
   "cell_type": "markdown",
   "metadata": {},
   "source": [
    "## 6. Import dataset"
   ]
  },
  {
   "cell_type": "code",
   "execution_count": 4,
   "metadata": {},
   "outputs": [],
   "source": [
    "data = pd.read_csv(\"Fortune_1000.csv\")"
   ]
  },
  {
   "cell_type": "markdown",
   "metadata": {},
   "source": [
    "## 7. Exploratory data analysis\n",
    "\n",
    "\n",
    "Now, I will explore the data to gain insights about the data."
   ]
  },
  {
   "cell_type": "markdown",
   "metadata": {},
   "source": [
    "### View dimensions of dataset"
   ]
  },
  {
   "cell_type": "code",
   "execution_count": 5,
   "metadata": {},
   "outputs": [
    {
     "data": {
      "text/plain": [
       "(1000, 18)"
      ]
     },
     "execution_count": 5,
     "metadata": {},
     "output_type": "execute_result"
    }
   ],
   "source": [
    "data.shape"
   ]
  },
  {
   "cell_type": "markdown",
   "metadata": {},
   "source": [
    "We can see that there are 1000 instances and 18 variables in the data set."
   ]
  },
  {
   "cell_type": "markdown",
   "metadata": {},
   "source": [
    "### Preview the dataset"
   ]
  },
  {
   "cell_type": "code",
   "execution_count": 48,
   "metadata": {},
   "outputs": [
    {
     "data": {
      "text/html": [
       "<div>\n",
       "<style scoped>\n",
       "    .dataframe tbody tr th:only-of-type {\n",
       "        vertical-align: middle;\n",
       "    }\n",
       "\n",
       "    .dataframe tbody tr th {\n",
       "        vertical-align: top;\n",
       "    }\n",
       "\n",
       "    .dataframe thead th {\n",
       "        text-align: right;\n",
       "    }\n",
       "</style>\n",
       "<table border=\"1\" class=\"dataframe\">\n",
       "  <thead>\n",
       "    <tr style=\"text-align: right;\">\n",
       "      <th></th>\n",
       "      <th>company</th>\n",
       "      <th>rank</th>\n",
       "      <th>rank_change</th>\n",
       "      <th>revenue</th>\n",
       "      <th>profit</th>\n",
       "      <th>num. of employees</th>\n",
       "      <th>sector</th>\n",
       "      <th>city</th>\n",
       "      <th>state</th>\n",
       "      <th>newcomer</th>\n",
       "      <th>ceo_founder</th>\n",
       "      <th>ceo_woman</th>\n",
       "      <th>profitable</th>\n",
       "      <th>prev_rank</th>\n",
       "      <th>CEO</th>\n",
       "      <th>Website</th>\n",
       "      <th>Ticker</th>\n",
       "      <th>Market Cap</th>\n",
       "    </tr>\n",
       "  </thead>\n",
       "  <tbody>\n",
       "    <tr>\n",
       "      <th>0</th>\n",
       "      <td>Walmart</td>\n",
       "      <td>1</td>\n",
       "      <td>0.0</td>\n",
       "      <td>572754.0</td>\n",
       "      <td>13673.0</td>\n",
       "      <td>2300000.0</td>\n",
       "      <td>Retailing</td>\n",
       "      <td>Bentonville</td>\n",
       "      <td>AR</td>\n",
       "      <td>no</td>\n",
       "      <td>no</td>\n",
       "      <td>no</td>\n",
       "      <td>yes</td>\n",
       "      <td>1.0</td>\n",
       "      <td>C. Douglas McMillon</td>\n",
       "      <td>https://www.stock.walmart.com</td>\n",
       "      <td>WMT</td>\n",
       "      <td>352037</td>\n",
       "    </tr>\n",
       "    <tr>\n",
       "      <th>1</th>\n",
       "      <td>Amazon</td>\n",
       "      <td>2</td>\n",
       "      <td>0.0</td>\n",
       "      <td>469822.0</td>\n",
       "      <td>33364.0</td>\n",
       "      <td>1608000.0</td>\n",
       "      <td>Retailing</td>\n",
       "      <td>Seattle</td>\n",
       "      <td>WA</td>\n",
       "      <td>no</td>\n",
       "      <td>no</td>\n",
       "      <td>no</td>\n",
       "      <td>yes</td>\n",
       "      <td>2.0</td>\n",
       "      <td>Andrew R. Jassy</td>\n",
       "      <td>www.amazon.com</td>\n",
       "      <td>AMZN</td>\n",
       "      <td>1202717</td>\n",
       "    </tr>\n",
       "  </tbody>\n",
       "</table>\n",
       "</div>"
      ],
      "text/plain": [
       "   company  rank  rank_change   revenue   profit  num. of employees  \\\n",
       "0  Walmart     1          0.0  572754.0  13673.0          2300000.0   \n",
       "1   Amazon     2          0.0  469822.0  33364.0          1608000.0   \n",
       "\n",
       "      sector         city state newcomer ceo_founder ceo_woman profitable  \\\n",
       "0  Retailing  Bentonville    AR       no          no        no        yes   \n",
       "1  Retailing      Seattle    WA       no          no        no        yes   \n",
       "\n",
       "  prev_rank                  CEO                        Website Ticker  \\\n",
       "0       1.0  C. Douglas McMillon  https://www.stock.walmart.com    WMT   \n",
       "1       2.0      Andrew R. Jassy                 www.amazon.com   AMZN   \n",
       "\n",
       "  Market Cap  \n",
       "0     352037  \n",
       "1    1202717  "
      ]
     },
     "execution_count": 48,
     "metadata": {},
     "output_type": "execute_result"
    }
   ],
   "source": [
    "data.head(2)"
   ]
  },
  {
   "cell_type": "markdown",
   "metadata": {},
   "source": [
    "### View summary of dataset"
   ]
  },
  {
   "cell_type": "code",
   "execution_count": 8,
   "metadata": {},
   "outputs": [
    {
     "name": "stdout",
     "output_type": "stream",
     "text": [
      "<class 'pandas.core.frame.DataFrame'>\n",
      "RangeIndex: 1000 entries, 0 to 999\n",
      "Data columns (total 18 columns):\n",
      " #   Column             Non-Null Count  Dtype  \n",
      "---  ------             --------------  -----  \n",
      " 0   company            1000 non-null   object \n",
      " 1   rank               1000 non-null   int64  \n",
      " 2   rank_change        1000 non-null   float64\n",
      " 3   revenue            1000 non-null   float64\n",
      " 4   profit             997 non-null    float64\n",
      " 5   num. of employees  999 non-null    float64\n",
      " 6   sector             1000 non-null   object \n",
      " 7   city               1000 non-null   object \n",
      " 8   state              1000 non-null   object \n",
      " 9   newcomer           1000 non-null   object \n",
      " 10  ceo_founder        1000 non-null   object \n",
      " 11  ceo_woman          1000 non-null   object \n",
      " 12  profitable         1000 non-null   object \n",
      " 13  prev_rank          1000 non-null   object \n",
      " 14  CEO                1000 non-null   object \n",
      " 15  Website            1000 non-null   object \n",
      " 16  Ticker             951 non-null    object \n",
      " 17  Market Cap         969 non-null    object \n",
      "dtypes: float64(4), int64(1), object(13)\n",
      "memory usage: 140.8+ KB\n"
     ]
    }
   ],
   "source": [
    "data.info()"
   ]
  },
  {
   "cell_type": "markdown",
   "metadata": {},
   "source": [
    "### Check for missing values"
   ]
  },
  {
   "cell_type": "code",
   "execution_count": 9,
   "metadata": {},
   "outputs": [
    {
     "data": {
      "text/plain": [
       "company               0\n",
       "rank                  0\n",
       "rank_change           0\n",
       "revenue               0\n",
       "profit                3\n",
       "num. of employees     1\n",
       "sector                0\n",
       "city                  0\n",
       "state                 0\n",
       "newcomer              0\n",
       "ceo_founder           0\n",
       "ceo_woman             0\n",
       "profitable            0\n",
       "prev_rank             0\n",
       "CEO                   0\n",
       "Website               0\n",
       "Ticker               49\n",
       "Market Cap           31\n",
       "dtype: int64"
      ]
     },
     "execution_count": 9,
     "metadata": {},
     "output_type": "execute_result"
    }
   ],
   "source": [
    "data.isnull().sum()"
   ]
  },
  {
   "cell_type": "markdown",
   "metadata": {},
   "source": [
    "## 8. Descriptive statistics with `describe()` function\n",
    "\n",
    "\n",
    "\n",
    "Descriptive or summary statistics in python – pandas, can be obtained by using the `describe()` function. The `describe()` function gives us the `count`, `mean`, `standard deviation(std)`, `minimum`, `Q1(25%)`, `median(50%)`, `Q3(75%)`, `IQR(Q3 - Q1)` and `maximum` values.\n",
    "\n",
    "\n",
    "I will demonstrate the usage of `describe()` function as follows."
   ]
  },
  {
   "cell_type": "markdown",
   "metadata": {},
   "source": [
    "### Summary statistics of numerical columns"
   ]
  },
  {
   "cell_type": "code",
   "execution_count": 10,
   "metadata": {},
   "outputs": [
    {
     "data": {
      "text/html": [
       "<div>\n",
       "<style scoped>\n",
       "    .dataframe tbody tr th:only-of-type {\n",
       "        vertical-align: middle;\n",
       "    }\n",
       "\n",
       "    .dataframe tbody tr th {\n",
       "        vertical-align: top;\n",
       "    }\n",
       "\n",
       "    .dataframe thead th {\n",
       "        text-align: right;\n",
       "    }\n",
       "</style>\n",
       "<table border=\"1\" class=\"dataframe\">\n",
       "  <thead>\n",
       "    <tr style=\"text-align: right;\">\n",
       "      <th></th>\n",
       "      <th>count</th>\n",
       "      <th>mean</th>\n",
       "      <th>std</th>\n",
       "      <th>min</th>\n",
       "      <th>25%</th>\n",
       "      <th>50%</th>\n",
       "      <th>75%</th>\n",
       "      <th>max</th>\n",
       "    </tr>\n",
       "  </thead>\n",
       "  <tbody>\n",
       "    <tr>\n",
       "      <th>rank</th>\n",
       "      <td>1000.0</td>\n",
       "      <td>500.50</td>\n",
       "      <td>288.82</td>\n",
       "      <td>1.0</td>\n",
       "      <td>250.75</td>\n",
       "      <td>500.5</td>\n",
       "      <td>750.25</td>\n",
       "      <td>1000.0</td>\n",
       "    </tr>\n",
       "    <tr>\n",
       "      <th>rank_change</th>\n",
       "      <td>1000.0</td>\n",
       "      <td>-0.70</td>\n",
       "      <td>31.82</td>\n",
       "      <td>-178.0</td>\n",
       "      <td>-3.00</td>\n",
       "      <td>0.0</td>\n",
       "      <td>0.00</td>\n",
       "      <td>295.0</td>\n",
       "    </tr>\n",
       "    <tr>\n",
       "      <th>revenue</th>\n",
       "      <td>1000.0</td>\n",
       "      <td>17986.80</td>\n",
       "      <td>40813.28</td>\n",
       "      <td>2107.2</td>\n",
       "      <td>3500.75</td>\n",
       "      <td>6375.5</td>\n",
       "      <td>14615.48</td>\n",
       "      <td>572754.0</td>\n",
       "    </tr>\n",
       "    <tr>\n",
       "      <th>profit</th>\n",
       "      <td>997.0</td>\n",
       "      <td>2026.48</td>\n",
       "      <td>6421.58</td>\n",
       "      <td>-6520.0</td>\n",
       "      <td>195.40</td>\n",
       "      <td>572.0</td>\n",
       "      <td>1498.30</td>\n",
       "      <td>94680.0</td>\n",
       "    </tr>\n",
       "    <tr>\n",
       "      <th>num. of employees</th>\n",
       "      <td>999.0</td>\n",
       "      <td>35788.67</td>\n",
       "      <td>104654.65</td>\n",
       "      <td>160.0</td>\n",
       "      <td>6500.00</td>\n",
       "      <td>13530.0</td>\n",
       "      <td>28900.00</td>\n",
       "      <td>2300000.0</td>\n",
       "    </tr>\n",
       "  </tbody>\n",
       "</table>\n",
       "</div>"
      ],
      "text/plain": [
       "                    count      mean        std     min      25%      50%  \\\n",
       "rank               1000.0    500.50     288.82     1.0   250.75    500.5   \n",
       "rank_change        1000.0     -0.70      31.82  -178.0    -3.00      0.0   \n",
       "revenue            1000.0  17986.80   40813.28  2107.2  3500.75   6375.5   \n",
       "profit              997.0   2026.48    6421.58 -6520.0   195.40    572.0   \n",
       "num. of employees   999.0  35788.67  104654.65   160.0  6500.00  13530.0   \n",
       "\n",
       "                        75%        max  \n",
       "rank                 750.25     1000.0  \n",
       "rank_change            0.00      295.0  \n",
       "revenue            14615.48   572754.0  \n",
       "profit              1498.30    94680.0  \n",
       "num. of employees  28900.00  2300000.0  "
      ]
     },
     "execution_count": 10,
     "metadata": {},
     "output_type": "execute_result"
    }
   ],
   "source": [
    "data.describe().round(2).T"
   ]
  },
  {
   "cell_type": "markdown",
   "metadata": {},
   "source": [
    "We can see that the `describe()` function excludes the character columns and gives summary statistics of numeric columns only."
   ]
  },
  {
   "cell_type": "markdown",
   "metadata": {},
   "source": [
    "### Summary statistics of character columns\n",
    "\n",
    "\n",
    "- The `describe()` function with an argument named `include` along with `value` object(include='object') gives the summary statistics of the character columns."
   ]
  },
  {
   "cell_type": "code",
   "execution_count": 12,
   "metadata": {},
   "outputs": [
    {
     "data": {
      "text/html": [
       "<div>\n",
       "<style scoped>\n",
       "    .dataframe tbody tr th:only-of-type {\n",
       "        vertical-align: middle;\n",
       "    }\n",
       "\n",
       "    .dataframe tbody tr th {\n",
       "        vertical-align: top;\n",
       "    }\n",
       "\n",
       "    .dataframe thead th {\n",
       "        text-align: right;\n",
       "    }\n",
       "</style>\n",
       "<table border=\"1\" class=\"dataframe\">\n",
       "  <thead>\n",
       "    <tr style=\"text-align: right;\">\n",
       "      <th></th>\n",
       "      <th>count</th>\n",
       "      <th>unique</th>\n",
       "      <th>top</th>\n",
       "      <th>freq</th>\n",
       "    </tr>\n",
       "  </thead>\n",
       "  <tbody>\n",
       "    <tr>\n",
       "      <th>company</th>\n",
       "      <td>1000</td>\n",
       "      <td>1000</td>\n",
       "      <td>Walmart</td>\n",
       "      <td>1</td>\n",
       "    </tr>\n",
       "    <tr>\n",
       "      <th>sector</th>\n",
       "      <td>1000</td>\n",
       "      <td>21</td>\n",
       "      <td>Financials</td>\n",
       "      <td>166</td>\n",
       "    </tr>\n",
       "    <tr>\n",
       "      <th>city</th>\n",
       "      <td>1000</td>\n",
       "      <td>400</td>\n",
       "      <td>New York</td>\n",
       "      <td>68</td>\n",
       "    </tr>\n",
       "    <tr>\n",
       "      <th>state</th>\n",
       "      <td>1000</td>\n",
       "      <td>46</td>\n",
       "      <td>CA</td>\n",
       "      <td>131</td>\n",
       "    </tr>\n",
       "    <tr>\n",
       "      <th>newcomer</th>\n",
       "      <td>1000</td>\n",
       "      <td>2</td>\n",
       "      <td>no</td>\n",
       "      <td>970</td>\n",
       "    </tr>\n",
       "    <tr>\n",
       "      <th>ceo_founder</th>\n",
       "      <td>1000</td>\n",
       "      <td>2</td>\n",
       "      <td>no</td>\n",
       "      <td>944</td>\n",
       "    </tr>\n",
       "    <tr>\n",
       "      <th>ceo_woman</th>\n",
       "      <td>1000</td>\n",
       "      <td>2</td>\n",
       "      <td>no</td>\n",
       "      <td>917</td>\n",
       "    </tr>\n",
       "    <tr>\n",
       "      <th>profitable</th>\n",
       "      <td>1000</td>\n",
       "      <td>2</td>\n",
       "      <td>yes</td>\n",
       "      <td>883</td>\n",
       "    </tr>\n",
       "    <tr>\n",
       "      <th>prev_rank</th>\n",
       "      <td>1000</td>\n",
       "      <td>469</td>\n",
       "      <td></td>\n",
       "      <td>531</td>\n",
       "    </tr>\n",
       "    <tr>\n",
       "      <th>CEO</th>\n",
       "      <td>1000</td>\n",
       "      <td>994</td>\n",
       "      <td>#REF!</td>\n",
       "      <td>5</td>\n",
       "    </tr>\n",
       "    <tr>\n",
       "      <th>Website</th>\n",
       "      <td>1000</td>\n",
       "      <td>1000</td>\n",
       "      <td>https://www.stock.walmart.com</td>\n",
       "      <td>1</td>\n",
       "    </tr>\n",
       "    <tr>\n",
       "      <th>Ticker</th>\n",
       "      <td>951</td>\n",
       "      <td>951</td>\n",
       "      <td>WMT</td>\n",
       "      <td>1</td>\n",
       "    </tr>\n",
       "    <tr>\n",
       "      <th>Market Cap</th>\n",
       "      <td>969</td>\n",
       "      <td>959</td>\n",
       "      <td>-</td>\n",
       "      <td>8</td>\n",
       "    </tr>\n",
       "  </tbody>\n",
       "</table>\n",
       "</div>"
      ],
      "text/plain": [
       "            count unique                            top freq\n",
       "company      1000   1000                        Walmart    1\n",
       "sector       1000     21                     Financials  166\n",
       "city         1000    400                       New York   68\n",
       "state        1000     46                             CA  131\n",
       "newcomer     1000      2                             no  970\n",
       "ceo_founder  1000      2                             no  944\n",
       "ceo_woman    1000      2                             no  917\n",
       "profitable   1000      2                            yes  883\n",
       "prev_rank    1000    469                                 531\n",
       "CEO          1000    994                          #REF!    5\n",
       "Website      1000   1000  https://www.stock.walmart.com    1\n",
       "Ticker        951    951                            WMT    1\n",
       "Market Cap    969    959                              -    8"
      ]
     },
     "execution_count": 12,
     "metadata": {},
     "output_type": "execute_result"
    }
   ],
   "source": [
    "data.describe(include=\"object\").T"
   ]
  },
  {
   "cell_type": "markdown",
   "metadata": {},
   "source": [
    "### Summary statistics of all the columns\n",
    "\n",
    "\n",
    "- The `describe()` function with include='all' gives the summary statistics of all the columns.\n",
    "\n",
    "\n",
    "- We need to add a variable named include='all' to get the summary statistics or descriptive statistics of both numeric and character columns."
   ]
  },
  {
   "cell_type": "code",
   "execution_count": 13,
   "metadata": {},
   "outputs": [
    {
     "data": {
      "text/html": [
       "<div>\n",
       "<style scoped>\n",
       "    .dataframe tbody tr th:only-of-type {\n",
       "        vertical-align: middle;\n",
       "    }\n",
       "\n",
       "    .dataframe tbody tr th {\n",
       "        vertical-align: top;\n",
       "    }\n",
       "\n",
       "    .dataframe thead th {\n",
       "        text-align: right;\n",
       "    }\n",
       "</style>\n",
       "<table border=\"1\" class=\"dataframe\">\n",
       "  <thead>\n",
       "    <tr style=\"text-align: right;\">\n",
       "      <th></th>\n",
       "      <th>count</th>\n",
       "      <th>unique</th>\n",
       "      <th>top</th>\n",
       "      <th>freq</th>\n",
       "      <th>mean</th>\n",
       "      <th>std</th>\n",
       "      <th>min</th>\n",
       "      <th>25%</th>\n",
       "      <th>50%</th>\n",
       "      <th>75%</th>\n",
       "      <th>max</th>\n",
       "    </tr>\n",
       "  </thead>\n",
       "  <tbody>\n",
       "    <tr>\n",
       "      <th>company</th>\n",
       "      <td>1000</td>\n",
       "      <td>1000</td>\n",
       "      <td>Walmart</td>\n",
       "      <td>1</td>\n",
       "      <td>NaN</td>\n",
       "      <td>NaN</td>\n",
       "      <td>NaN</td>\n",
       "      <td>NaN</td>\n",
       "      <td>NaN</td>\n",
       "      <td>NaN</td>\n",
       "      <td>NaN</td>\n",
       "    </tr>\n",
       "    <tr>\n",
       "      <th>rank</th>\n",
       "      <td>1000.0</td>\n",
       "      <td>NaN</td>\n",
       "      <td>NaN</td>\n",
       "      <td>NaN</td>\n",
       "      <td>500.497</td>\n",
       "      <td>288.818067</td>\n",
       "      <td>1.0</td>\n",
       "      <td>250.75</td>\n",
       "      <td>500.5</td>\n",
       "      <td>750.25</td>\n",
       "      <td>1000.0</td>\n",
       "    </tr>\n",
       "    <tr>\n",
       "      <th>rank_change</th>\n",
       "      <td>1000.0</td>\n",
       "      <td>NaN</td>\n",
       "      <td>NaN</td>\n",
       "      <td>NaN</td>\n",
       "      <td>-0.701</td>\n",
       "      <td>31.818674</td>\n",
       "      <td>-178.0</td>\n",
       "      <td>-3.0</td>\n",
       "      <td>0.0</td>\n",
       "      <td>0.0</td>\n",
       "      <td>295.0</td>\n",
       "    </tr>\n",
       "    <tr>\n",
       "      <th>revenue</th>\n",
       "      <td>1000.0</td>\n",
       "      <td>NaN</td>\n",
       "      <td>NaN</td>\n",
       "      <td>NaN</td>\n",
       "      <td>17986.8014</td>\n",
       "      <td>40813.281554</td>\n",
       "      <td>2107.2</td>\n",
       "      <td>3500.75</td>\n",
       "      <td>6375.5</td>\n",
       "      <td>14615.475</td>\n",
       "      <td>572754.0</td>\n",
       "    </tr>\n",
       "    <tr>\n",
       "      <th>profit</th>\n",
       "      <td>997.0</td>\n",
       "      <td>NaN</td>\n",
       "      <td>NaN</td>\n",
       "      <td>NaN</td>\n",
       "      <td>2026.476329</td>\n",
       "      <td>6421.578081</td>\n",
       "      <td>-6520.0</td>\n",
       "      <td>195.4</td>\n",
       "      <td>572.0</td>\n",
       "      <td>1498.3</td>\n",
       "      <td>94680.0</td>\n",
       "    </tr>\n",
       "    <tr>\n",
       "      <th>num. of employees</th>\n",
       "      <td>999.0</td>\n",
       "      <td>NaN</td>\n",
       "      <td>NaN</td>\n",
       "      <td>NaN</td>\n",
       "      <td>35788.668669</td>\n",
       "      <td>104654.648971</td>\n",
       "      <td>160.0</td>\n",
       "      <td>6500.0</td>\n",
       "      <td>13530.0</td>\n",
       "      <td>28900.0</td>\n",
       "      <td>2300000.0</td>\n",
       "    </tr>\n",
       "    <tr>\n",
       "      <th>sector</th>\n",
       "      <td>1000</td>\n",
       "      <td>21</td>\n",
       "      <td>Financials</td>\n",
       "      <td>166</td>\n",
       "      <td>NaN</td>\n",
       "      <td>NaN</td>\n",
       "      <td>NaN</td>\n",
       "      <td>NaN</td>\n",
       "      <td>NaN</td>\n",
       "      <td>NaN</td>\n",
       "      <td>NaN</td>\n",
       "    </tr>\n",
       "    <tr>\n",
       "      <th>city</th>\n",
       "      <td>1000</td>\n",
       "      <td>400</td>\n",
       "      <td>New York</td>\n",
       "      <td>68</td>\n",
       "      <td>NaN</td>\n",
       "      <td>NaN</td>\n",
       "      <td>NaN</td>\n",
       "      <td>NaN</td>\n",
       "      <td>NaN</td>\n",
       "      <td>NaN</td>\n",
       "      <td>NaN</td>\n",
       "    </tr>\n",
       "    <tr>\n",
       "      <th>state</th>\n",
       "      <td>1000</td>\n",
       "      <td>46</td>\n",
       "      <td>CA</td>\n",
       "      <td>131</td>\n",
       "      <td>NaN</td>\n",
       "      <td>NaN</td>\n",
       "      <td>NaN</td>\n",
       "      <td>NaN</td>\n",
       "      <td>NaN</td>\n",
       "      <td>NaN</td>\n",
       "      <td>NaN</td>\n",
       "    </tr>\n",
       "    <tr>\n",
       "      <th>newcomer</th>\n",
       "      <td>1000</td>\n",
       "      <td>2</td>\n",
       "      <td>no</td>\n",
       "      <td>970</td>\n",
       "      <td>NaN</td>\n",
       "      <td>NaN</td>\n",
       "      <td>NaN</td>\n",
       "      <td>NaN</td>\n",
       "      <td>NaN</td>\n",
       "      <td>NaN</td>\n",
       "      <td>NaN</td>\n",
       "    </tr>\n",
       "    <tr>\n",
       "      <th>ceo_founder</th>\n",
       "      <td>1000</td>\n",
       "      <td>2</td>\n",
       "      <td>no</td>\n",
       "      <td>944</td>\n",
       "      <td>NaN</td>\n",
       "      <td>NaN</td>\n",
       "      <td>NaN</td>\n",
       "      <td>NaN</td>\n",
       "      <td>NaN</td>\n",
       "      <td>NaN</td>\n",
       "      <td>NaN</td>\n",
       "    </tr>\n",
       "    <tr>\n",
       "      <th>ceo_woman</th>\n",
       "      <td>1000</td>\n",
       "      <td>2</td>\n",
       "      <td>no</td>\n",
       "      <td>917</td>\n",
       "      <td>NaN</td>\n",
       "      <td>NaN</td>\n",
       "      <td>NaN</td>\n",
       "      <td>NaN</td>\n",
       "      <td>NaN</td>\n",
       "      <td>NaN</td>\n",
       "      <td>NaN</td>\n",
       "    </tr>\n",
       "    <tr>\n",
       "      <th>profitable</th>\n",
       "      <td>1000</td>\n",
       "      <td>2</td>\n",
       "      <td>yes</td>\n",
       "      <td>883</td>\n",
       "      <td>NaN</td>\n",
       "      <td>NaN</td>\n",
       "      <td>NaN</td>\n",
       "      <td>NaN</td>\n",
       "      <td>NaN</td>\n",
       "      <td>NaN</td>\n",
       "      <td>NaN</td>\n",
       "    </tr>\n",
       "    <tr>\n",
       "      <th>prev_rank</th>\n",
       "      <td>1000</td>\n",
       "      <td>469</td>\n",
       "      <td></td>\n",
       "      <td>531</td>\n",
       "      <td>NaN</td>\n",
       "      <td>NaN</td>\n",
       "      <td>NaN</td>\n",
       "      <td>NaN</td>\n",
       "      <td>NaN</td>\n",
       "      <td>NaN</td>\n",
       "      <td>NaN</td>\n",
       "    </tr>\n",
       "    <tr>\n",
       "      <th>CEO</th>\n",
       "      <td>1000</td>\n",
       "      <td>994</td>\n",
       "      <td>#REF!</td>\n",
       "      <td>5</td>\n",
       "      <td>NaN</td>\n",
       "      <td>NaN</td>\n",
       "      <td>NaN</td>\n",
       "      <td>NaN</td>\n",
       "      <td>NaN</td>\n",
       "      <td>NaN</td>\n",
       "      <td>NaN</td>\n",
       "    </tr>\n",
       "    <tr>\n",
       "      <th>Website</th>\n",
       "      <td>1000</td>\n",
       "      <td>1000</td>\n",
       "      <td>https://www.stock.walmart.com</td>\n",
       "      <td>1</td>\n",
       "      <td>NaN</td>\n",
       "      <td>NaN</td>\n",
       "      <td>NaN</td>\n",
       "      <td>NaN</td>\n",
       "      <td>NaN</td>\n",
       "      <td>NaN</td>\n",
       "      <td>NaN</td>\n",
       "    </tr>\n",
       "    <tr>\n",
       "      <th>Ticker</th>\n",
       "      <td>951</td>\n",
       "      <td>951</td>\n",
       "      <td>WMT</td>\n",
       "      <td>1</td>\n",
       "      <td>NaN</td>\n",
       "      <td>NaN</td>\n",
       "      <td>NaN</td>\n",
       "      <td>NaN</td>\n",
       "      <td>NaN</td>\n",
       "      <td>NaN</td>\n",
       "      <td>NaN</td>\n",
       "    </tr>\n",
       "    <tr>\n",
       "      <th>Market Cap</th>\n",
       "      <td>969</td>\n",
       "      <td>959</td>\n",
       "      <td>-</td>\n",
       "      <td>8</td>\n",
       "      <td>NaN</td>\n",
       "      <td>NaN</td>\n",
       "      <td>NaN</td>\n",
       "      <td>NaN</td>\n",
       "      <td>NaN</td>\n",
       "      <td>NaN</td>\n",
       "      <td>NaN</td>\n",
       "    </tr>\n",
       "  </tbody>\n",
       "</table>\n",
       "</div>"
      ],
      "text/plain": [
       "                    count unique                            top freq  \\\n",
       "company              1000   1000                        Walmart    1   \n",
       "rank               1000.0    NaN                            NaN  NaN   \n",
       "rank_change        1000.0    NaN                            NaN  NaN   \n",
       "revenue            1000.0    NaN                            NaN  NaN   \n",
       "profit              997.0    NaN                            NaN  NaN   \n",
       "num. of employees   999.0    NaN                            NaN  NaN   \n",
       "sector               1000     21                     Financials  166   \n",
       "city                 1000    400                       New York   68   \n",
       "state                1000     46                             CA  131   \n",
       "newcomer             1000      2                             no  970   \n",
       "ceo_founder          1000      2                             no  944   \n",
       "ceo_woman            1000      2                             no  917   \n",
       "profitable           1000      2                            yes  883   \n",
       "prev_rank            1000    469                                 531   \n",
       "CEO                  1000    994                          #REF!    5   \n",
       "Website              1000   1000  https://www.stock.walmart.com    1   \n",
       "Ticker                951    951                            WMT    1   \n",
       "Market Cap            969    959                              -    8   \n",
       "\n",
       "                           mean            std     min      25%      50%  \\\n",
       "company                     NaN            NaN     NaN      NaN      NaN   \n",
       "rank                    500.497     288.818067     1.0   250.75    500.5   \n",
       "rank_change              -0.701      31.818674  -178.0     -3.0      0.0   \n",
       "revenue              17986.8014   40813.281554  2107.2  3500.75   6375.5   \n",
       "profit              2026.476329    6421.578081 -6520.0    195.4    572.0   \n",
       "num. of employees  35788.668669  104654.648971   160.0   6500.0  13530.0   \n",
       "sector                      NaN            NaN     NaN      NaN      NaN   \n",
       "city                        NaN            NaN     NaN      NaN      NaN   \n",
       "state                       NaN            NaN     NaN      NaN      NaN   \n",
       "newcomer                    NaN            NaN     NaN      NaN      NaN   \n",
       "ceo_founder                 NaN            NaN     NaN      NaN      NaN   \n",
       "ceo_woman                   NaN            NaN     NaN      NaN      NaN   \n",
       "profitable                  NaN            NaN     NaN      NaN      NaN   \n",
       "prev_rank                   NaN            NaN     NaN      NaN      NaN   \n",
       "CEO                         NaN            NaN     NaN      NaN      NaN   \n",
       "Website                     NaN            NaN     NaN      NaN      NaN   \n",
       "Ticker                      NaN            NaN     NaN      NaN      NaN   \n",
       "Market Cap                  NaN            NaN     NaN      NaN      NaN   \n",
       "\n",
       "                         75%        max  \n",
       "company                  NaN        NaN  \n",
       "rank                  750.25     1000.0  \n",
       "rank_change              0.0      295.0  \n",
       "revenue            14615.475   572754.0  \n",
       "profit                1498.3    94680.0  \n",
       "num. of employees    28900.0  2300000.0  \n",
       "sector                   NaN        NaN  \n",
       "city                     NaN        NaN  \n",
       "state                    NaN        NaN  \n",
       "newcomer                 NaN        NaN  \n",
       "ceo_founder              NaN        NaN  \n",
       "ceo_woman                NaN        NaN  \n",
       "profitable               NaN        NaN  \n",
       "prev_rank                NaN        NaN  \n",
       "CEO                      NaN        NaN  \n",
       "Website                  NaN        NaN  \n",
       "Ticker                   NaN        NaN  \n",
       "Market Cap               NaN        NaN  "
      ]
     },
     "execution_count": 13,
     "metadata": {},
     "output_type": "execute_result"
    }
   ],
   "source": [
    "data.describe(include=\"all\").T"
   ]
  },
  {
   "cell_type": "markdown",
   "metadata": {},
   "source": [
    "## 9. Computation of measures of central tendency \n",
    "\n",
    "\n",
    "- In this section, I will compute the measures of central tendency - mean, median and mode. \n",
    "\n",
    "- These statistics give us a approximate value of the middle of a numeric variable.\n",
    "\n",
    "- I will use the `Revenue (in millions)` variable for calculations."
   ]
  },
  {
   "cell_type": "markdown",
   "metadata": {},
   "source": [
    "### Mean"
   ]
  },
  {
   "cell_type": "code",
   "execution_count": 17,
   "metadata": {},
   "outputs": [
    {
     "name": "stdout",
     "output_type": "stream",
     "text": [
      "Average profit is  17987.0\n"
     ]
    }
   ],
   "source": [
    "average_profit = data.revenue.mean()\n",
    "print(\"Average profit is \", round(average_profit,0))"
   ]
  },
  {
   "cell_type": "markdown",
   "metadata": {},
   "source": [
    "### Median"
   ]
  },
  {
   "cell_type": "code",
   "execution_count": 18,
   "metadata": {},
   "outputs": [
    {
     "name": "stdout",
     "output_type": "stream",
     "text": [
      "Median profit is  6376.0\n"
     ]
    }
   ],
   "source": [
    "median_profit = data.revenue.median()\n",
    "print(\"Median profit is \", round(median_profit,0))"
   ]
  },
  {
   "cell_type": "markdown",
   "metadata": {},
   "source": [
    "### Mode"
   ]
  },
  {
   "cell_type": "code",
   "execution_count": 22,
   "metadata": {},
   "outputs": [
    {
     "name": "stdout",
     "output_type": "stream",
     "text": [
      "Mode of city is  0    New York\n",
      "Name: city, dtype: object\n"
     ]
    }
   ],
   "source": [
    "mode_city = data.city.mode()\n",
    "print(\"Mode of city is \", mode_city)"
   ]
  },
  {
   "cell_type": "code",
   "execution_count": 23,
   "metadata": {},
   "outputs": [
    {
     "data": {
      "text/plain": [
       "New York         68\n",
       "Houston          35\n",
       "Chicago          26\n",
       "Atlanta          24\n",
       "San Francisco    22\n",
       "                 ..\n",
       "Coral Gables      1\n",
       "Warsaw            1\n",
       "Ankeny            1\n",
       "Jackson           1\n",
       "Jericho           1\n",
       "Name: city, Length: 400, dtype: int64"
      ]
     },
     "execution_count": 23,
     "metadata": {},
     "output_type": "execute_result"
    }
   ],
   "source": [
    "data.city.value_counts()"
   ]
  },
  {
   "cell_type": "markdown",
   "metadata": {},
   "source": [
    "### Observation\n",
    "\n",
    "\n",
    "- We can see that `mean > median > mode`. So, the distribution of `Revenue (in millions)` is positively skewed. I will plot its distribution to confirm the same."
   ]
  },
  {
   "cell_type": "markdown",
   "metadata": {},
   "source": [
    "### Plot the distribution "
   ]
  },
  {
   "cell_type": "code",
   "execution_count": 25,
   "metadata": {},
   "outputs": [
    {
     "data": {
      "image/png": "[encoded data removed]",
      "text/plain": [
       "<Figure size 640x480 with 1 Axes>"
      ]
     },
     "metadata": {},
     "output_type": "display_data"
    }
   ],
   "source": [
    "data1 = data.revenue\n",
    "\n",
    "sns.distplot(data1, bins=10, hist=True, kde=True, \n",
    "             label=\"Revenue in (Millions)\")\n",
    "plt.show()"
   ]
  },
  {
   "cell_type": "markdown",
   "metadata": {},
   "source": [
    "The above plot confirms that the `Revenue (in millions)` is positively skewed."
   ]
  },
  {
   "cell_type": "markdown",
   "metadata": {},
   "source": [
    "## 10. Computation of measures of dispersion or variability\n",
    "\n",
    "\n",
    "- In this section, I will compute the measures of dispersion or variability - minimum and maximum values, range, variance, standard-deviation, IQR. \n",
    "\n",
    "- Again, I will use the `Revenue (in millions)` variable for calculations.\n"
   ]
  },
  {
   "cell_type": "markdown",
   "metadata": {},
   "source": [
    "### Minimum value"
   ]
  },
  {
   "cell_type": "code",
   "execution_count": 28,
   "metadata": {},
   "outputs": [
    {
     "data": {
      "text/plain": [
       "2107.2"
      ]
     },
     "execution_count": 28,
     "metadata": {},
     "output_type": "execute_result"
    }
   ],
   "source": [
    "min = data.revenue.min()\n",
    "min"
   ]
  },
  {
   "cell_type": "markdown",
   "metadata": {},
   "source": [
    "### Maximum value"
   ]
  },
  {
   "cell_type": "code",
   "execution_count": 29,
   "metadata": {},
   "outputs": [
    {
     "data": {
      "text/plain": [
       "572754.0"
      ]
     },
     "execution_count": 29,
     "metadata": {},
     "output_type": "execute_result"
    }
   ],
   "source": [
    "max = data.revenue.max()\n",
    "max"
   ]
  },
  {
   "cell_type": "markdown",
   "metadata": {},
   "source": [
    "### Range"
   ]
  },
  {
   "cell_type": "code",
   "execution_count": 30,
   "metadata": {},
   "outputs": [
    {
     "data": {
      "text/plain": [
       "570646.8"
      ]
     },
     "execution_count": 30,
     "metadata": {},
     "output_type": "execute_result"
    }
   ],
   "source": [
    "range = max-min\n",
    "range"
   ]
  },
  {
   "cell_type": "markdown",
   "metadata": {},
   "source": [
    "### Variance"
   ]
  },
  {
   "cell_type": "code",
   "execution_count": 31,
   "metadata": {},
   "outputs": [
    {
     "data": {
      "text/plain": [
       "1665723951.1924667"
      ]
     },
     "execution_count": 31,
     "metadata": {},
     "output_type": "execute_result"
    }
   ],
   "source": [
    "data.revenue.var()"
   ]
  },
  {
   "cell_type": "markdown",
   "metadata": {},
   "source": [
    "### Standard deviation"
   ]
  },
  {
   "cell_type": "code",
   "execution_count": 32,
   "metadata": {},
   "outputs": [
    {
     "data": {
      "text/plain": [
       "40813.281553833265"
      ]
     },
     "execution_count": 32,
     "metadata": {},
     "output_type": "execute_result"
    }
   ],
   "source": [
    "data.revenue.std()"
   ]
  },
  {
   "cell_type": "markdown",
   "metadata": {},
   "source": [
    "### Median (Q2 or 50th percentile)"
   ]
  },
  {
   "cell_type": "code",
   "execution_count": 33,
   "metadata": {},
   "outputs": [
    {
     "data": {
      "text/plain": [
       "6375.5"
      ]
     },
     "execution_count": 33,
     "metadata": {},
     "output_type": "execute_result"
    }
   ],
   "source": [
    "Q2 = data.revenue.quantile(0.5)\n",
    "Q2"
   ]
  },
  {
   "cell_type": "markdown",
   "metadata": {},
   "source": [
    "### Q3 or 75th percentile"
   ]
  },
  {
   "cell_type": "code",
   "execution_count": 34,
   "metadata": {},
   "outputs": [
    {
     "data": {
      "text/plain": [
       "14615.475"
      ]
     },
     "execution_count": 34,
     "metadata": {},
     "output_type": "execute_result"
    }
   ],
   "source": [
    "Q3 = data.revenue.quantile(0.75)\n",
    "Q3"
   ]
  },
  {
   "cell_type": "markdown",
   "metadata": {},
   "source": [
    "### Q1 or 25th percentile"
   ]
  },
  {
   "cell_type": "code",
   "execution_count": 35,
   "metadata": {},
   "outputs": [
    {
     "data": {
      "text/plain": [
       "3500.75"
      ]
     },
     "execution_count": 35,
     "metadata": {},
     "output_type": "execute_result"
    }
   ],
   "source": [
    "Q1 = data.revenue.quantile(0.25)\n",
    "Q1"
   ]
  },
  {
   "cell_type": "markdown",
   "metadata": {},
   "source": [
    "### Interquartile Range\n"
   ]
  },
  {
   "cell_type": "code",
   "execution_count": 37,
   "metadata": {},
   "outputs": [
    {
     "data": {
      "text/plain": [
       "11114.725"
      ]
     },
     "execution_count": 37,
     "metadata": {},
     "output_type": "execute_result"
    }
   ],
   "source": [
    "# IQR = Q3-Q1\n",
    "\n",
    "IQR = Q3-Q1\n",
    "IQR"
   ]
  },
  {
   "cell_type": "markdown",
   "metadata": {},
   "source": [
    "### Draw boxplot"
   ]
  },
  {
   "cell_type": "code",
   "execution_count": 38,
   "metadata": {},
   "outputs": [
    {
     "data": {
      "image/png": "[encoded data removed]",
      "text/plain": [
       "<Figure size 640x480 with 1 Axes>"
      ]
     },
     "metadata": {},
     "output_type": "display_data"
    }
   ],
   "source": [
    "plt.boxplot(data.revenue)\n",
    "plt.show()"
   ]
  },
  {
   "cell_type": "code",
   "execution_count": 39,
   "metadata": {},
   "outputs": [
    {
     "data": {
      "image/png": "[encoded data removed]",
      "text/plain": [
       "<Figure size 640x480 with 1 Axes>"
      ]
     },
     "metadata": {},
     "output_type": "display_data"
    }
   ],
   "source": [
    "plt.boxplot(data.profit)\n",
    "plt.show()"
   ]
  },
  {
   "cell_type": "code",
   "execution_count": 42,
   "metadata": {},
   "outputs": [
    {
     "data": {
      "text/html": [
       "<div>\n",
       "<style scoped>\n",
       "    .dataframe tbody tr th:only-of-type {\n",
       "        vertical-align: middle;\n",
       "    }\n",
       "\n",
       "    .dataframe tbody tr th {\n",
       "        vertical-align: top;\n",
       "    }\n",
       "\n",
       "    .dataframe thead th {\n",
       "        text-align: right;\n",
       "    }\n",
       "</style>\n",
       "<table border=\"1\" class=\"dataframe\">\n",
       "  <thead>\n",
       "    <tr style=\"text-align: right;\">\n",
       "      <th></th>\n",
       "      <th>company</th>\n",
       "      <th>rank</th>\n",
       "      <th>rank_change</th>\n",
       "      <th>revenue</th>\n",
       "      <th>profit</th>\n",
       "      <th>num. of employees</th>\n",
       "      <th>sector</th>\n",
       "      <th>city</th>\n",
       "      <th>state</th>\n",
       "      <th>newcomer</th>\n",
       "      <th>ceo_founder</th>\n",
       "      <th>ceo_woman</th>\n",
       "      <th>profitable</th>\n",
       "      <th>prev_rank</th>\n",
       "      <th>CEO</th>\n",
       "      <th>Website</th>\n",
       "      <th>Ticker</th>\n",
       "      <th>Market Cap</th>\n",
       "    </tr>\n",
       "  </thead>\n",
       "  <tbody>\n",
       "    <tr>\n",
       "      <th>8</th>\n",
       "      <td>McKesson</td>\n",
       "      <td>9</td>\n",
       "      <td>-2.0</td>\n",
       "      <td>238228.0</td>\n",
       "      <td>-4539.0</td>\n",
       "      <td>67500.0</td>\n",
       "      <td>Health Care</td>\n",
       "      <td>Irving</td>\n",
       "      <td>TX</td>\n",
       "      <td>no</td>\n",
       "      <td>no</td>\n",
       "      <td>no</td>\n",
       "      <td>no</td>\n",
       "      <td>7.0</td>\n",
       "      <td>Brian S. Tyler</td>\n",
       "      <td>www.mckesson.com</td>\n",
       "      <td>MCK</td>\n",
       "      <td>47377</td>\n",
       "    </tr>\n",
       "    <tr>\n",
       "      <th>47</th>\n",
       "      <td>General Electric</td>\n",
       "      <td>48</td>\n",
       "      <td>-10.0</td>\n",
       "      <td>74196.0</td>\n",
       "      <td>-6520.0</td>\n",
       "      <td>168000.0</td>\n",
       "      <td>Industrials</td>\n",
       "      <td>Boston</td>\n",
       "      <td>MA</td>\n",
       "      <td>no</td>\n",
       "      <td>no</td>\n",
       "      <td>no</td>\n",
       "      <td>no</td>\n",
       "      <td>38.0</td>\n",
       "      <td>H. Lawrence Culp Jr.</td>\n",
       "      <td>www.ge.com</td>\n",
       "      <td>GE</td>\n",
       "      <td>73458</td>\n",
       "    </tr>\n",
       "    <tr>\n",
       "      <th>59</th>\n",
       "      <td>Boeing</td>\n",
       "      <td>60</td>\n",
       "      <td>-6.0</td>\n",
       "      <td>62286.0</td>\n",
       "      <td>-4202.0</td>\n",
       "      <td>142000.0</td>\n",
       "      <td>Aerospace &amp; Defense</td>\n",
       "      <td>Chicago</td>\n",
       "      <td>IL</td>\n",
       "      <td>no</td>\n",
       "      <td>no</td>\n",
       "      <td>no</td>\n",
       "      <td>no</td>\n",
       "      <td>54.0</td>\n",
       "      <td>David L. Calhoun</td>\n",
       "      <td>www.boeing.com</td>\n",
       "      <td>BA</td>\n",
       "      <td>92372</td>\n",
       "    </tr>\n",
       "    <tr>\n",
       "      <th>113</th>\n",
       "      <td>American Airlines Group</td>\n",
       "      <td>114</td>\n",
       "      <td>60.0</td>\n",
       "      <td>29882.0</td>\n",
       "      <td>-1993.0</td>\n",
       "      <td>123400.0</td>\n",
       "      <td>Transportation</td>\n",
       "      <td>Fort Worth</td>\n",
       "      <td>TX</td>\n",
       "      <td>no</td>\n",
       "      <td>no</td>\n",
       "      <td>no</td>\n",
       "      <td>no</td>\n",
       "      <td>174.0</td>\n",
       "      <td>Robert D. Isom</td>\n",
       "      <td>www.aa.com</td>\n",
       "      <td>AAL</td>\n",
       "      <td>9847</td>\n",
       "    </tr>\n",
       "    <tr>\n",
       "      <th>145</th>\n",
       "      <td>United Airlines Holdings</td>\n",
       "      <td>146</td>\n",
       "      <td>54.0</td>\n",
       "      <td>24634.0</td>\n",
       "      <td>-1964.0</td>\n",
       "      <td>84100.0</td>\n",
       "      <td>Transportation</td>\n",
       "      <td>Chicago</td>\n",
       "      <td>IL</td>\n",
       "      <td>no</td>\n",
       "      <td>no</td>\n",
       "      <td>no</td>\n",
       "      <td>no</td>\n",
       "      <td>200.0</td>\n",
       "      <td>J. Scott Kirby</td>\n",
       "      <td>https://www.united.com</td>\n",
       "      <td>UAL</td>\n",
       "      <td>15049.7</td>\n",
       "    </tr>\n",
       "    <tr>\n",
       "      <th>...</th>\n",
       "      <td>...</td>\n",
       "      <td>...</td>\n",
       "      <td>...</td>\n",
       "      <td>...</td>\n",
       "      <td>...</td>\n",
       "      <td>...</td>\n",
       "      <td>...</td>\n",
       "      <td>...</td>\n",
       "      <td>...</td>\n",
       "      <td>...</td>\n",
       "      <td>...</td>\n",
       "      <td>...</td>\n",
       "      <td>...</td>\n",
       "      <td>...</td>\n",
       "      <td>...</td>\n",
       "      <td>...</td>\n",
       "      <td>...</td>\n",
       "      <td>...</td>\n",
       "    </tr>\n",
       "    <tr>\n",
       "      <th>986</th>\n",
       "      <td>Dun &amp; Bradstreet Holdings</td>\n",
       "      <td>987</td>\n",
       "      <td>0.0</td>\n",
       "      <td>2165.6</td>\n",
       "      <td>-71.7</td>\n",
       "      <td>6296.0</td>\n",
       "      <td>Business Services</td>\n",
       "      <td>Jacksonville</td>\n",
       "      <td>FL</td>\n",
       "      <td>no</td>\n",
       "      <td>no</td>\n",
       "      <td>no</td>\n",
       "      <td>no</td>\n",
       "      <td></td>\n",
       "      <td>Anthony M. Jabbour</td>\n",
       "      <td>https://www.dnb.com</td>\n",
       "      <td>DNB</td>\n",
       "      <td>7554</td>\n",
       "    </tr>\n",
       "    <tr>\n",
       "      <th>990</th>\n",
       "      <td>Harsco</td>\n",
       "      <td>991</td>\n",
       "      <td>0.0</td>\n",
       "      <td>2147.0</td>\n",
       "      <td>-3.2</td>\n",
       "      <td>12000.0</td>\n",
       "      <td>Business Services</td>\n",
       "      <td>Camp Hill</td>\n",
       "      <td>PA</td>\n",
       "      <td>no</td>\n",
       "      <td>no</td>\n",
       "      <td>no</td>\n",
       "      <td>no</td>\n",
       "      <td></td>\n",
       "      <td>F. Nicholas Grasberger III</td>\n",
       "      <td>https://www.harsco.com</td>\n",
       "      <td>HSC</td>\n",
       "      <td>969.7</td>\n",
       "    </tr>\n",
       "    <tr>\n",
       "      <th>993</th>\n",
       "      <td>Genesis Energy</td>\n",
       "      <td>994</td>\n",
       "      <td>0.0</td>\n",
       "      <td>2125.5</td>\n",
       "      <td>-165.1</td>\n",
       "      <td>1898.0</td>\n",
       "      <td>Energy</td>\n",
       "      <td>Houston</td>\n",
       "      <td>TX</td>\n",
       "      <td>no</td>\n",
       "      <td>no</td>\n",
       "      <td>no</td>\n",
       "      <td>no</td>\n",
       "      <td></td>\n",
       "      <td>Grant E. Sims</td>\n",
       "      <td>https://www.genesisenergy.com</td>\n",
       "      <td>GEL</td>\n",
       "      <td>1435.4</td>\n",
       "    </tr>\n",
       "    <tr>\n",
       "      <th>995</th>\n",
       "      <td>Vizio Holding</td>\n",
       "      <td>996</td>\n",
       "      <td>0.0</td>\n",
       "      <td>2124.0</td>\n",
       "      <td>-39.4</td>\n",
       "      <td>800.0</td>\n",
       "      <td>Industrials</td>\n",
       "      <td>Irvine</td>\n",
       "      <td>CA</td>\n",
       "      <td>no</td>\n",
       "      <td>yes</td>\n",
       "      <td>no</td>\n",
       "      <td>no</td>\n",
       "      <td></td>\n",
       "      <td>William W. Wang</td>\n",
       "      <td>https://www.vizio.com</td>\n",
       "      <td>VZIO</td>\n",
       "      <td>1705.1</td>\n",
       "    </tr>\n",
       "    <tr>\n",
       "      <th>999</th>\n",
       "      <td>DocuSign</td>\n",
       "      <td>1000</td>\n",
       "      <td>0.0</td>\n",
       "      <td>2107.2</td>\n",
       "      <td>-70.0</td>\n",
       "      <td>7461.0</td>\n",
       "      <td>Technology</td>\n",
       "      <td>San Francisco</td>\n",
       "      <td>CA</td>\n",
       "      <td>no</td>\n",
       "      <td>no</td>\n",
       "      <td>no</td>\n",
       "      <td>no</td>\n",
       "      <td></td>\n",
       "      <td>Allan C. Thygesen</td>\n",
       "      <td>https://www.docusign.com</td>\n",
       "      <td>DOCU</td>\n",
       "      <td>21302.8</td>\n",
       "    </tr>\n",
       "  </tbody>\n",
       "</table>\n",
       "<p>114 rows × 18 columns</p>\n",
       "</div>"
      ],
      "text/plain": [
       "                       company  rank  rank_change   revenue  profit  \\\n",
       "8                     McKesson     9         -2.0  238228.0 -4539.0   \n",
       "47            General Electric    48        -10.0   74196.0 -6520.0   \n",
       "59                      Boeing    60         -6.0   62286.0 -4202.0   \n",
       "113    American Airlines Group   114         60.0   29882.0 -1993.0   \n",
       "145   United Airlines Holdings   146         54.0   24634.0 -1964.0   \n",
       "..                         ...   ...          ...       ...     ...   \n",
       "986  Dun & Bradstreet Holdings   987          0.0    2165.6   -71.7   \n",
       "990                     Harsco   991          0.0    2147.0    -3.2   \n",
       "993             Genesis Energy   994          0.0    2125.5  -165.1   \n",
       "995              Vizio Holding   996          0.0    2124.0   -39.4   \n",
       "999                   DocuSign  1000          0.0    2107.2   -70.0   \n",
       "\n",
       "     num. of employees               sector           city state newcomer  \\\n",
       "8              67500.0          Health Care         Irving    TX       no   \n",
       "47            168000.0          Industrials         Boston    MA       no   \n",
       "59            142000.0  Aerospace & Defense        Chicago    IL       no   \n",
       "113           123400.0       Transportation     Fort Worth    TX       no   \n",
       "145            84100.0       Transportation        Chicago    IL       no   \n",
       "..                 ...                  ...            ...   ...      ...   \n",
       "986             6296.0    Business Services   Jacksonville    FL       no   \n",
       "990            12000.0    Business Services      Camp Hill    PA       no   \n",
       "993             1898.0               Energy        Houston    TX       no   \n",
       "995              800.0          Industrials         Irvine    CA       no   \n",
       "999             7461.0           Technology  San Francisco    CA       no   \n",
       "\n",
       "    ceo_founder ceo_woman profitable prev_rank                         CEO  \\\n",
       "8            no        no         no       7.0              Brian S. Tyler   \n",
       "47           no        no         no      38.0        H. Lawrence Culp Jr.   \n",
       "59           no        no         no      54.0            David L. Calhoun   \n",
       "113          no        no         no     174.0              Robert D. Isom   \n",
       "145          no        no         no     200.0              J. Scott Kirby   \n",
       "..          ...       ...        ...       ...                         ...   \n",
       "986          no        no         no                    Anthony M. Jabbour   \n",
       "990          no        no         no            F. Nicholas Grasberger III   \n",
       "993          no        no         no                         Grant E. Sims   \n",
       "995         yes        no         no                       William W. Wang   \n",
       "999          no        no         no                     Allan C. Thygesen   \n",
       "\n",
       "                           Website Ticker Market Cap  \n",
       "8                 www.mckesson.com    MCK      47377  \n",
       "47                      www.ge.com     GE      73458  \n",
       "59                  www.boeing.com     BA      92372  \n",
       "113                     www.aa.com    AAL       9847  \n",
       "145         https://www.united.com    UAL    15049.7  \n",
       "..                             ...    ...        ...  \n",
       "986            https://www.dnb.com    DNB       7554  \n",
       "990         https://www.harsco.com    HSC      969.7  \n",
       "993  https://www.genesisenergy.com    GEL     1435.4  \n",
       "995          https://www.vizio.com   VZIO     1705.1  \n",
       "999       https://www.docusign.com   DOCU    21302.8  \n",
       "\n",
       "[114 rows x 18 columns]"
      ]
     },
     "execution_count": 42,
     "metadata": {},
     "output_type": "execute_result"
    }
   ],
   "source": [
    "data[data.profit < 0]"
   ]
  },
  {
   "cell_type": "code",
   "execution_count": 44,
   "metadata": {},
   "outputs": [
    {
     "data": {
      "text/html": [
       "<div>\n",
       "<style scoped>\n",
       "    .dataframe tbody tr th:only-of-type {\n",
       "        vertical-align: middle;\n",
       "    }\n",
       "\n",
       "    .dataframe tbody tr th {\n",
       "        vertical-align: top;\n",
       "    }\n",
       "\n",
       "    .dataframe thead th {\n",
       "        text-align: right;\n",
       "    }\n",
       "</style>\n",
       "<table border=\"1\" class=\"dataframe\">\n",
       "  <thead>\n",
       "    <tr style=\"text-align: right;\">\n",
       "      <th></th>\n",
       "      <th>company</th>\n",
       "      <th>rank</th>\n",
       "      <th>rank_change</th>\n",
       "      <th>revenue</th>\n",
       "      <th>profit</th>\n",
       "      <th>num. of employees</th>\n",
       "      <th>sector</th>\n",
       "      <th>city</th>\n",
       "      <th>state</th>\n",
       "      <th>newcomer</th>\n",
       "      <th>ceo_founder</th>\n",
       "      <th>ceo_woman</th>\n",
       "      <th>profitable</th>\n",
       "      <th>prev_rank</th>\n",
       "      <th>CEO</th>\n",
       "      <th>Website</th>\n",
       "      <th>Ticker</th>\n",
       "      <th>Market Cap</th>\n",
       "    </tr>\n",
       "  </thead>\n",
       "  <tbody>\n",
       "    <tr>\n",
       "      <th>0</th>\n",
       "      <td>Walmart</td>\n",
       "      <td>1</td>\n",
       "      <td>0.0</td>\n",
       "      <td>572754.0</td>\n",
       "      <td>13673.0</td>\n",
       "      <td>2300000.0</td>\n",
       "      <td>Retailing</td>\n",
       "      <td>Bentonville</td>\n",
       "      <td>AR</td>\n",
       "      <td>no</td>\n",
       "      <td>no</td>\n",
       "      <td>no</td>\n",
       "      <td>yes</td>\n",
       "      <td>1.0</td>\n",
       "      <td>C. Douglas McMillon</td>\n",
       "      <td>https://www.stock.walmart.com</td>\n",
       "      <td>WMT</td>\n",
       "      <td>352037</td>\n",
       "    </tr>\n",
       "    <tr>\n",
       "      <th>1</th>\n",
       "      <td>Amazon</td>\n",
       "      <td>2</td>\n",
       "      <td>0.0</td>\n",
       "      <td>469822.0</td>\n",
       "      <td>33364.0</td>\n",
       "      <td>1608000.0</td>\n",
       "      <td>Retailing</td>\n",
       "      <td>Seattle</td>\n",
       "      <td>WA</td>\n",
       "      <td>no</td>\n",
       "      <td>no</td>\n",
       "      <td>no</td>\n",
       "      <td>yes</td>\n",
       "      <td>2.0</td>\n",
       "      <td>Andrew R. Jassy</td>\n",
       "      <td>www.amazon.com</td>\n",
       "      <td>AMZN</td>\n",
       "      <td>1202717</td>\n",
       "    </tr>\n",
       "    <tr>\n",
       "      <th>2</th>\n",
       "      <td>Apple</td>\n",
       "      <td>3</td>\n",
       "      <td>0.0</td>\n",
       "      <td>365817.0</td>\n",
       "      <td>94680.0</td>\n",
       "      <td>154000.0</td>\n",
       "      <td>Technology</td>\n",
       "      <td>Cupertino</td>\n",
       "      <td>CA</td>\n",
       "      <td>no</td>\n",
       "      <td>no</td>\n",
       "      <td>no</td>\n",
       "      <td>yes</td>\n",
       "      <td>3.0</td>\n",
       "      <td>Timothy D. Cook</td>\n",
       "      <td>www.apple.com</td>\n",
       "      <td>AAPL</td>\n",
       "      <td>2443962</td>\n",
       "    </tr>\n",
       "    <tr>\n",
       "      <th>3</th>\n",
       "      <td>CVS Health</td>\n",
       "      <td>4</td>\n",
       "      <td>0.0</td>\n",
       "      <td>292111.0</td>\n",
       "      <td>7910.0</td>\n",
       "      <td>258000.0</td>\n",
       "      <td>Health Care</td>\n",
       "      <td>Woonsocket</td>\n",
       "      <td>RI</td>\n",
       "      <td>no</td>\n",
       "      <td>no</td>\n",
       "      <td>yes</td>\n",
       "      <td>yes</td>\n",
       "      <td>4.0</td>\n",
       "      <td>Karen Lynch</td>\n",
       "      <td>https://www.cvshealth.com</td>\n",
       "      <td>CVS</td>\n",
       "      <td>125204</td>\n",
       "    </tr>\n",
       "    <tr>\n",
       "      <th>4</th>\n",
       "      <td>UnitedHealth Group</td>\n",
       "      <td>5</td>\n",
       "      <td>0.0</td>\n",
       "      <td>287597.0</td>\n",
       "      <td>17285.0</td>\n",
       "      <td>350000.0</td>\n",
       "      <td>Health Care</td>\n",
       "      <td>Minnetonka</td>\n",
       "      <td>MN</td>\n",
       "      <td>no</td>\n",
       "      <td>no</td>\n",
       "      <td>no</td>\n",
       "      <td>yes</td>\n",
       "      <td>5.0</td>\n",
       "      <td>Andrew P. Witty</td>\n",
       "      <td>www.unitedhealthgroup.com</td>\n",
       "      <td>UNH</td>\n",
       "      <td>500468</td>\n",
       "    </tr>\n",
       "    <tr>\n",
       "      <th>...</th>\n",
       "      <td>...</td>\n",
       "      <td>...</td>\n",
       "      <td>...</td>\n",
       "      <td>...</td>\n",
       "      <td>...</td>\n",
       "      <td>...</td>\n",
       "      <td>...</td>\n",
       "      <td>...</td>\n",
       "      <td>...</td>\n",
       "      <td>...</td>\n",
       "      <td>...</td>\n",
       "      <td>...</td>\n",
       "      <td>...</td>\n",
       "      <td>...</td>\n",
       "      <td>...</td>\n",
       "      <td>...</td>\n",
       "      <td>...</td>\n",
       "      <td>...</td>\n",
       "    </tr>\n",
       "    <tr>\n",
       "      <th>992</th>\n",
       "      <td>Chemed</td>\n",
       "      <td>993</td>\n",
       "      <td>0.0</td>\n",
       "      <td>2139.3</td>\n",
       "      <td>268.6</td>\n",
       "      <td>14137.0</td>\n",
       "      <td>Health Care</td>\n",
       "      <td>Cincinnati</td>\n",
       "      <td>OH</td>\n",
       "      <td>no</td>\n",
       "      <td>no</td>\n",
       "      <td>no</td>\n",
       "      <td>yes</td>\n",
       "      <td></td>\n",
       "      <td>Kevin J. McNamara</td>\n",
       "      <td>https://www.chemed.com</td>\n",
       "      <td>CHE</td>\n",
       "      <td>7592.5</td>\n",
       "    </tr>\n",
       "    <tr>\n",
       "      <th>994</th>\n",
       "      <td>BWX Technologies</td>\n",
       "      <td>995</td>\n",
       "      <td>0.0</td>\n",
       "      <td>2124.1</td>\n",
       "      <td>305.9</td>\n",
       "      <td>6600.0</td>\n",
       "      <td>Aerospace &amp; Defense</td>\n",
       "      <td>Lynchburg</td>\n",
       "      <td>VA</td>\n",
       "      <td>no</td>\n",
       "      <td>no</td>\n",
       "      <td>no</td>\n",
       "      <td>yes</td>\n",
       "      <td></td>\n",
       "      <td>Rex D. Geveden</td>\n",
       "      <td>https://www.bwxt.com</td>\n",
       "      <td>BWXT</td>\n",
       "      <td>4925.6</td>\n",
       "    </tr>\n",
       "    <tr>\n",
       "      <th>996</th>\n",
       "      <td>1-800-Flowers.com</td>\n",
       "      <td>997</td>\n",
       "      <td>0.0</td>\n",
       "      <td>2122.2</td>\n",
       "      <td>118.7</td>\n",
       "      <td>4800.0</td>\n",
       "      <td>Retailing</td>\n",
       "      <td>Jericho</td>\n",
       "      <td>NY</td>\n",
       "      <td>no</td>\n",
       "      <td>no</td>\n",
       "      <td>no</td>\n",
       "      <td>yes</td>\n",
       "      <td></td>\n",
       "      <td>Christopher G. McCann</td>\n",
       "      <td>https://www.1800flowers.com</td>\n",
       "      <td>FLWS</td>\n",
       "      <td>830</td>\n",
       "    </tr>\n",
       "    <tr>\n",
       "      <th>997</th>\n",
       "      <td>Cowen</td>\n",
       "      <td>998</td>\n",
       "      <td>0.0</td>\n",
       "      <td>2112.8</td>\n",
       "      <td>295.6</td>\n",
       "      <td>1534.0</td>\n",
       "      <td>Financials</td>\n",
       "      <td>New York</td>\n",
       "      <td>NY</td>\n",
       "      <td>no</td>\n",
       "      <td>no</td>\n",
       "      <td>no</td>\n",
       "      <td>yes</td>\n",
       "      <td></td>\n",
       "      <td>Jeffrey Solomon</td>\n",
       "      <td>https://www.cowen.com</td>\n",
       "      <td>COWN</td>\n",
       "      <td>1078</td>\n",
       "    </tr>\n",
       "    <tr>\n",
       "      <th>998</th>\n",
       "      <td>Ashland</td>\n",
       "      <td>999</td>\n",
       "      <td>0.0</td>\n",
       "      <td>2111.0</td>\n",
       "      <td>220.0</td>\n",
       "      <td>4100.0</td>\n",
       "      <td>Chemicals</td>\n",
       "      <td>Wilmington</td>\n",
       "      <td>DE</td>\n",
       "      <td>no</td>\n",
       "      <td>no</td>\n",
       "      <td>no</td>\n",
       "      <td>yes</td>\n",
       "      <td></td>\n",
       "      <td>Guillermo Novo</td>\n",
       "      <td>https://www.ashland.com</td>\n",
       "      <td>ASH</td>\n",
       "      <td>5601.9</td>\n",
       "    </tr>\n",
       "  </tbody>\n",
       "</table>\n",
       "<p>883 rows × 18 columns</p>\n",
       "</div>"
      ],
      "text/plain": [
       "                company  rank  rank_change   revenue   profit  \\\n",
       "0               Walmart     1          0.0  572754.0  13673.0   \n",
       "1                Amazon     2          0.0  469822.0  33364.0   \n",
       "2                 Apple     3          0.0  365817.0  94680.0   \n",
       "3            CVS Health     4          0.0  292111.0   7910.0   \n",
       "4    UnitedHealth Group     5          0.0  287597.0  17285.0   \n",
       "..                  ...   ...          ...       ...      ...   \n",
       "992              Chemed   993          0.0    2139.3    268.6   \n",
       "994    BWX Technologies   995          0.0    2124.1    305.9   \n",
       "996   1-800-Flowers.com   997          0.0    2122.2    118.7   \n",
       "997               Cowen   998          0.0    2112.8    295.6   \n",
       "998             Ashland   999          0.0    2111.0    220.0   \n",
       "\n",
       "     num. of employees               sector         city state newcomer  \\\n",
       "0            2300000.0            Retailing  Bentonville    AR       no   \n",
       "1            1608000.0            Retailing      Seattle    WA       no   \n",
       "2             154000.0           Technology    Cupertino    CA       no   \n",
       "3             258000.0          Health Care   Woonsocket    RI       no   \n",
       "4             350000.0          Health Care   Minnetonka    MN       no   \n",
       "..                 ...                  ...          ...   ...      ...   \n",
       "992            14137.0          Health Care   Cincinnati    OH       no   \n",
       "994             6600.0  Aerospace & Defense    Lynchburg    VA       no   \n",
       "996             4800.0            Retailing      Jericho    NY       no   \n",
       "997             1534.0           Financials     New York    NY       no   \n",
       "998             4100.0            Chemicals   Wilmington    DE       no   \n",
       "\n",
       "    ceo_founder ceo_woman profitable prev_rank                    CEO  \\\n",
       "0            no        no        yes       1.0    C. Douglas McMillon   \n",
       "1            no        no        yes       2.0        Andrew R. Jassy   \n",
       "2            no        no        yes       3.0        Timothy D. Cook   \n",
       "3            no       yes        yes       4.0            Karen Lynch   \n",
       "4            no        no        yes       5.0        Andrew P. Witty   \n",
       "..          ...       ...        ...       ...                    ...   \n",
       "992          no        no        yes                Kevin J. McNamara   \n",
       "994          no        no        yes                   Rex D. Geveden   \n",
       "996          no        no        yes            Christopher G. McCann   \n",
       "997          no        no        yes                  Jeffrey Solomon   \n",
       "998          no        no        yes                   Guillermo Novo   \n",
       "\n",
       "                           Website Ticker Market Cap  \n",
       "0    https://www.stock.walmart.com    WMT     352037  \n",
       "1                   www.amazon.com   AMZN    1202717  \n",
       "2                    www.apple.com   AAPL    2443962  \n",
       "3        https://www.cvshealth.com    CVS     125204  \n",
       "4        www.unitedhealthgroup.com    UNH     500468  \n",
       "..                             ...    ...        ...  \n",
       "992         https://www.chemed.com    CHE     7592.5  \n",
       "994           https://www.bwxt.com   BWXT     4925.6  \n",
       "996    https://www.1800flowers.com   FLWS        830  \n",
       "997          https://www.cowen.com   COWN       1078  \n",
       "998        https://www.ashland.com    ASH     5601.9  \n",
       "\n",
       "[883 rows x 18 columns]"
      ]
     },
     "execution_count": 44,
     "metadata": {},
     "output_type": "execute_result"
    }
   ],
   "source": [
    "data2 = data[data.profit > 0]\n",
    "data2"
   ]
  },
  {
   "cell_type": "code",
   "execution_count": 45,
   "metadata": {},
   "outputs": [
    {
     "data": {
      "image/png": "[encoded data removed]",
      "text/plain": [
       "<Figure size 640x480 with 1 Axes>"
      ]
     },
     "metadata": {},
     "output_type": "display_data"
    }
   ],
   "source": [
    "plt.boxplot(data2.profit)\n",
    "plt.show()"
   ]
  },
  {
   "cell_type": "markdown",
   "metadata": {},
   "source": [
    "## 11. Computation of measures of shape of distribution\n",
    "\n",
    "\n",
    "- In this section, I will compute the measures of shape of distribution - skewness and kurtosis. \n",
    "\n",
    "- Again, I will use the `Revenue (in millions)` variable for calculations.\n"
   ]
  },
  {
   "cell_type": "markdown",
   "metadata": {},
   "source": [
    "### Skewness\n"
   ]
  },
  {
   "cell_type": "code",
   "execution_count": 46,
   "metadata": {},
   "outputs": [
    {
     "data": {
      "text/plain": [
       "6.845409715756327"
      ]
     },
     "execution_count": 46,
     "metadata": {},
     "output_type": "execute_result"
    }
   ],
   "source": [
    "data.revenue.skew()"
   ]
  },
  {
   "cell_type": "markdown",
   "metadata": {},
   "source": [
    "### Interpretation\n",
    "\n",
    "I find the skewness to be 6.845. So, it is greater than 1. Hence, we can conclude that the `Revenue (in millions)` data is highly skewed."
   ]
  },
  {
   "cell_type": "markdown",
   "metadata": {},
   "source": [
    "### Kurtosis"
   ]
  },
  {
   "cell_type": "code",
   "execution_count": 47,
   "metadata": {},
   "outputs": [
    {
     "data": {
      "text/plain": [
       "64.19728090964593"
      ]
     },
     "execution_count": 47,
     "metadata": {},
     "output_type": "execute_result"
    }
   ],
   "source": [
    "data.revenue.kurt()"
   ]
  },
  {
   "cell_type": "markdown",
   "metadata": {},
   "source": [
    "### Interpretation\n",
    "\n",
    "I find the kurtosis to be 64.197. So, it is greater than 3 and so excess kurtosis > 0. Hence, we can conclude that the `Revenue (in millions)` curve is a leptokurtic curve. As compared to a normal distribution, its central peak is higher and sharper, and its tails are longer and fatter."
   ]
  },
  {
   "cell_type": "code",
   "execution_count": null,
   "metadata": {},
   "outputs": [],
   "source": []
  }
 ],
 "metadata": {
  "kernelspec": {
   "display_name": "Python 3 (ipykernel)",
   "language": "python",
   "name": "python3"
  },
  "language_info": {
   "codemirror_mode": {
    "name": "ipython",
    "version": 3
   },
   "file_extension": ".py",
   "mimetype": "text/x-python",
   "name": "python",
   "nbconvert_exporter": "python",
   "pygments_lexer": "ipython3",
   "version": "3.11.4"
  }
 },
 "nbformat": 4,
 "nbformat_minor": 2
}
