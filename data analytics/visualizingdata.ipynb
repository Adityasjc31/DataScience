{
 "cells": [
  {
   "cell_type": "markdown",
   "metadata": {},
   "source": [
    "#### 15/09/23\n",
    "# Charts\n",
    "1. Pie Chart\n",
    "2. Bar Chart\n",
    "3. Histogram\n",
    "4. Line Chart\n",
    "5. Scatter plot\n",
    "6. Box plot\n",
    "7. Heat map\n",
    "8. Tree map\n",
    "9. Word cloud\n",
    "10. Funnel chart\n",
    "11. Area chart"
   ]
  },
  {
   "cell_type": "markdown",
   "metadata": {},
   "source": [
    "## Deciding to use the chart\n",
    "\n",
    "`Q1. What is the purpose of creating the chart`<br>\n",
    "  - Compare\n",
    "  - Composition\n",
    "  - Relationship\n",
    "  - Trend\n",
    "  - Distribution\n",
    "\n",
    "`Q2. How many variables to include in the chart` <br>\n",
    "  Types : <br>\n",
    "  - `Univariate`\n",
    "  - `Bivariate`\n",
    "  - `Multivariate`<br>\n",
    "  `Univariate` - Histogram,Box plot<br>\n",
    "\n",
    "`Q3 - What is the nature of data in that column/variable`"
   ]
  }
 ],
 "metadata": {
  "kernelspec": {
   "display_name": "Python 3",
   "language": "python",
   "name": "python3"
  },
  "language_info": {
   "name": "python",
   "version": "3.10.6"
  },
  "orig_nbformat": 4
 },
 "nbformat": 4,
 "nbformat_minor": 2
}
