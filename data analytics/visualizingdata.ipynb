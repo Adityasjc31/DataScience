{
 "cells": [
  {
   "cell_type": "markdown",
   "metadata": {},
   "source": [
    "#### 15/09/23\n",
    "# Charts\n",
    "1. Pie Chart\n",
    "2. Bar Chart\n",
    "3. Histogram\n",
    "4. Line Chart\n",
    "5. Scatter plot\n",
    "6. Box plot\n",
    "7. Heat map\n",
    "8. Tree map\n",
    "9. Word cloud\n",
    "10. Funnel chart\n",
    "11. Area chart"
   ]
  },
  {
   "cell_type": "markdown",
   "metadata": {},
   "source": [
    "## Deciding to use the chart\n",
    "\n",
    "`Q1. What is the purpose of creating the chart`<br>\n",
    "  - Compare\n",
    "  - Composition\n",
    "  - Relationship\n",
    "  - Trend\n",
    "  - Distribution\n",
    "\n",
    "`Q2. How many variables to include in the chart` <br>\n",
    "  Types : <br>\n",
    "  - `Univariate`\n",
    "  - `Bivariate`\n",
    "  - `Multivariate`<br>\n",
    "  `Univariate` - Histogram,Box plot<br>\n",
    "\n",
    "`Q3 - What is the nature of data in that column/variable`"
   ]
  },
  {
   "cell_type": "markdown",
   "metadata": {},
   "source": [
    "### 19/09/23\n",
    "\n",
    "# Matplotlib"
   ]
  },
  {
   "cell_type": "code",
   "execution_count": null,
   "metadata": {},
   "outputs": [],
   "source": [
    "import matplotlib.pyplot as plt"
   ]
  },
  {
   "cell_type": "code",
   "execution_count": null,
   "metadata": {},
   "outputs": [],
   "source": [
    "%matplotlib inline"
   ]
  },
  {
   "cell_type": "code",
   "execution_count": null,
   "metadata": {},
   "outputs": [],
   "source": [
    "import numpy as np\n",
    "x = np.linspace(0,5,11)\n",
    "y = x ** 2"
   ]
  },
  {
   "cell_type": "code",
   "execution_count": null,
   "metadata": {},
   "outputs": [],
   "source": [
    "x"
   ]
  },
  {
   "cell_type": "code",
   "execution_count": null,
   "metadata": {},
   "outputs": [],
   "source": [
    "y"
   ]
  },
  {
   "cell_type": "code",
   "execution_count": null,
   "metadata": {},
   "outputs": [],
   "source": [
    "plt.plot(x,y,'r')# r is red\n",
    "plt.xlabel('X axis Title')\n",
    "plt.ylabel('Y axis Title')\n",
    "plt.title(\"Line Example chart\")"
   ]
  },
  {
   "cell_type": "code",
   "execution_count": null,
   "metadata": {},
   "outputs": [],
   "source": [
    "plt.plot(x,y,'#0000ff')# r is red\n",
    "plt.xlabel('X axis Title')\n",
    "plt.ylabel('Y axis Title')\n",
    "plt.title(\"Line Example chart\")"
   ]
  },
  {
   "cell_type": "code",
   "execution_count": null,
   "metadata": {},
   "outputs": [],
   "source": [
    "plt.subplot(121)\n",
    "plt.plot(x,y,'r-d')# d stands for diamond\n",
    "\n",
    "plt.subplot(1,2,2)\n",
    "plt.plot(y,x,\"g-*\")"
   ]
  },
  {
   "cell_type": "code",
   "execution_count": null,
   "metadata": {},
   "outputs": [],
   "source": [
    "plt.subplot(211)\n",
    "plt.plot(x,y,'r-d')# d stands for diamond\n",
    "\n",
    "plt.subplot(2,1,2)\n",
    "plt.plot(y,x,\"g-*\")"
   ]
  },
  {
   "cell_type": "code",
   "execution_count": null,
   "metadata": {},
   "outputs": [],
   "source": [
    "plt.subplot(1,3,1)\n",
    "plt.plot(x,y,\"r\")\n",
    "plt.subplot(1,3,2)\n",
    "plt.plot(x,y,\"g\")\n",
    "plt.subplot(1,3,3)\n",
    "plt.plot(x,y,\"b\")"
   ]
  },
  {
   "cell_type": "code",
   "execution_count": null,
   "metadata": {},
   "outputs": [],
   "source": [
    "plt.subplot(3,1,1)\n",
    "plt.plot(x,y,\"r\")\n",
    "plt.subplot(3,1,2)\n",
    "plt.plot(x,y,\"g\")\n",
    "plt.subplot(3,1,3)\n",
    "plt.plot(x,y,\"b\")"
   ]
  },
  {
   "cell_type": "code",
   "execution_count": null,
   "metadata": {},
   "outputs": [],
   "source": [
    "plt.plot(y,x,\"-ro\",linewidth=5.5,markersize=15)"
   ]
  },
  {
   "cell_type": "markdown",
   "metadata": {},
   "source": [
    "## Matplotlib is object oriented supported"
   ]
  },
  {
   "cell_type": "code",
   "execution_count": null,
   "metadata": {},
   "outputs": [],
   "source": [
    "fig = plt.figure()\n",
    "\n",
    "axes = fig.add_axes([0.1,0.1,0.8,0.7]) #left,bottom,width,height\n",
    "\n",
    "axes.plot(x,y,'b')\n",
    "axes.set_xlabel('X axis')\n",
    "axes.set_ylabel('Y axis')\n",
    "axes.set_title(\"Title goes here\")"
   ]
  },
  {
   "cell_type": "code",
   "execution_count": null,
   "metadata": {},
   "outputs": [],
   "source": [
    "fig = plt.figure()\n",
    "axes1 = fig.add_axes([0.1,0.1,0.8,0.8]) #main axes\n",
    "axes2 = fig.add_axes([0.2,0.5,0.4,0.3]) #inset axes\n",
    "\n",
    "axes1.plot(x,y,'b')\n",
    "axes1.set_xlabel('X axis')\n",
    "axes1.set_ylabel('Y axis')\n",
    "axes1.set_title(\"XY format\")\n",
    "\n",
    "axes2.plot(y,x,'r')\n",
    "axes2.set_xlabel('X axis')\n",
    "axes2.set_ylabel('Y axis')\n",
    "axes.set_title(\"YX Format\")"
   ]
  },
  {
   "cell_type": "markdown",
   "metadata": {},
   "source": [
    "### 20/09/23"
   ]
  },
  {
   "cell_type": "code",
   "execution_count": null,
   "metadata": {},
   "outputs": [],
   "source": [
    "plt.figure(figsize=(15,5))\n",
    "plt.subplot(1,3,1)\n",
    "plt.plot(x,y,\"r\")\n",
    "plt.subplot(1,3,2)\n",
    "plt.plot(x,y,\"g\")\n",
    "plt.subplot(1,3,3)\n",
    "plt.plot(x,y,\"b\")"
   ]
  },
  {
   "cell_type": "code",
   "execution_count": null,
   "metadata": {},
   "outputs": [],
   "source": [
    "plt.figure(figsize=(15,5),dpi=100)\n",
    "plt.subplot(1,3,1)\n",
    "plt.plot(x,y,\"r\")\n",
    "plt.subplot(1,3,2)\n",
    "plt.plot(x,y,\"g\")\n",
    "plt.subplot(1,3,3)\n",
    "plt.plot(x,y,\"b\")\n",
    "plt.tight_layout()\n",
    "plt.savefig(\"../dataset/output/myPlots.png\")"
   ]
  },
  {
   "cell_type": "code",
   "execution_count": null,
   "metadata": {},
   "outputs": [],
   "source": [
    "z = 2*x\n",
    "z"
   ]
  },
  {
   "cell_type": "code",
   "execution_count": null,
   "metadata": {},
   "outputs": [],
   "source": [
    "plt.plot(x)\n",
    "\n",
    "plt.plot(x,'ro-')\n",
    "plt.plot(y,'m--+')\n",
    "plt.plot(z,'g--*')"
   ]
  },
  {
   "cell_type": "code",
   "execution_count": null,
   "metadata": {},
   "outputs": [],
   "source": [
    "babar = [34,56,78,23,45]\n",
    "rohit = [54,34,89,98,100]\n",
    "virat = [124,45,12,200,189]\n",
    "\n",
    "plt.plot(babar,'ro-',label=\"Babar Azam\")\n",
    "plt.plot(rohit,'m--+',label = \"Rohit Sharma\")\n",
    "plt.plot(virat,'g--*',label = \"Virat Kholi\")\n",
    "plt.legend(loc=10)"
   ]
  },
  {
   "cell_type": "code",
   "execution_count": null,
   "metadata": {},
   "outputs": [],
   "source": [
    "df = {\n",
    "    \"babar\": [34, 56, 78, 23, 45],\n",
    "    \"rohit\": [54, 34, 89, 98, 100],\n",
    "    \"virat\": [124, 45, 12, 200, 189],\n",
    "}\n",
    "import pandas as pd\n",
    "df = pd.DataFrame(df)\n",
    "\n",
    "plt.plot(df.babar,'ro-',label=\"Babar Azam\")\n",
    "plt.plot(df.rohit,'m--+',label = \"Rohit Sharma\")\n",
    "plt.plot(df.virat,'g--*',label = \"Virat Kholi\")"
   ]
  },
  {
   "cell_type": "code",
   "execution_count": null,
   "metadata": {},
   "outputs": [],
   "source": [
    "plt.scatter(df['rohit'],df['virat'],color=\"red\")"
   ]
  },
  {
   "cell_type": "code",
   "execution_count": null,
   "metadata": {},
   "outputs": [],
   "source": [
    "advert = pd.read_csv(\"../dataset/advertising.csv\")\n",
    "advert.columns\n",
    "plt.scatter(advert.TV,advert.Sales,color=\"red\")\n",
    "plt.xlabel(\"TV sales\")\n",
    "plt.ylabel(\"total sales($)\")\n",
    "plt.title(\"Sales anaylsis\")"
   ]
  },
  {
   "cell_type": "code",
   "execution_count": null,
   "metadata": {},
   "outputs": [],
   "source": [
    "cars = pd.read_csv(\"../dataset/cars.csv\")\n",
    "cars.columns\n",
    "plt.scatter(cars.age,cars.sales,color=\"red\")\n",
    "plt.xlabel(\"Age\")\n",
    "plt.ylabel(\"sales\")\n",
    "plt.title(\"Sales anaylsis\")"
   ]
  },
  {
   "cell_type": "code",
   "execution_count": null,
   "metadata": {},
   "outputs": [],
   "source": [
    "autompg = pd.read_csv(\"../dataset/auto-mpg.csv\")\n",
    "autompg.columns\n",
    "plt.scatter(autompg.horsepower,autompg.weight,color=\"red\")\n",
    "plt.xlabel(\"Horsepower\")\n",
    "plt.ylabel(\"Weight\")\n",
    "plt.title(\"Horsepower Vs Weight anaylsis\")"
   ]
  },
  {
   "cell_type": "code",
   "execution_count": null,
   "metadata": {},
   "outputs": [],
   "source": [
    "autompg[['horsepower','weight']]\n",
    "autompg.info()"
   ]
  },
  {
   "cell_type": "markdown",
   "metadata": {},
   "source": [
    "###  21/09/23\n",
    "`plt.`<br>\n",
    " - plot() : line plot\n",
    " - bar() : vertical bar\n",
    " - barh() : horizontal bar\n",
    " - hist() : histogram\n",
    " - box() : boxplot\n",
    " - area() : area plot\n",
    " - scatter() : scatter plot\n",
    " - pie() : pie plot\n",
    " - hexbin() : hexagonal bin plots<br>\n",
    "# Bar Chart\n",
    " `used to compare`"
   ]
  },
  {
   "cell_type": "code",
   "execution_count": null,
   "metadata": {},
   "outputs": [],
   "source": [
    "import matplotlib.pyplot as plt\n",
    "import numpy as np\n",
    "import pandas as pd\n",
    "import matplotlib as mpl"
   ]
  },
  {
   "cell_type": "code",
   "execution_count": null,
   "metadata": {},
   "outputs": [],
   "source": [
    "plt.figure(figsize=(5,5))\n",
    "id1 = np.arange(1,10)\n",
    "salary = np.arange(20,110,10)\n",
    "plt.bar(id1,salary)\n",
    "plt.xlabel(\"Employee ID\")\n",
    "plt.ylabel(\"Salary\")\n",
    "plt.title(\"Employee salary anaylsis\")"
   ]
  },
  {
   "cell_type": "code",
   "execution_count": null,
   "metadata": {},
   "outputs": [],
   "source": [
    "startups = pd.read_csv(\"../dataset/50_Startups.csv\")\n",
    "plt.figure(figsize=(5,3))\n",
    "ax = plt.axes()\n",
    "ax.set_facecolor(\"black\")\n",
    "plt.bar(startups['State'],startups['R&D Spend'])\n",
    "plt.xlabel(\"State\")\n",
    "plt.ylabel(\"R&D Spend\")\n",
    "plt.title(\"State Vs Profit\")"
   ]
  },
  {
   "cell_type": "code",
   "execution_count": null,
   "metadata": {},
   "outputs": [],
   "source": [
    "x1 = [1,3,5,7]\n",
    "x2 = [2,4,6,8]\n",
    "y1 = [7,7,7,7]\n",
    "y2 = [17,18,29,40]\n",
    "\n",
    "ax = plt.axes()\n",
    "ax.set_facecolor(\"#d4d8d8\")\n",
    "\n",
    "plt.bar(x1,y1,label=\"First\",color=\"red\")\n",
    "plt.bar(x2,y2,label=\"Second\",color=\"blue\")\n",
    "plt.xlabel(\"$X$\")\n",
    "plt.ylabel(\"$Y$\")\n",
    "plt.title(\"$ Bar $ Chart\")\n",
    "plt.legend()"
   ]
  },
  {
   "cell_type": "code",
   "execution_count": null,
   "metadata": {},
   "outputs": [],
   "source": [
    "startups.columns\n",
    "plt.figure(figsize=(12,5))\n",
    "ax = plt.axes()\n",
    "ax.set_facecolor(\"#000000\")\n",
    "\n",
    "plt.bar(startups['State'],startups['R&D Spend'],label=\"R&D Spend\",color=\"#FFFF00\")\n",
    "plt.bar(startups['State'],startups['Marketing Spend'],label=\"Marketing Spend\",color=\"#0000FF\")\n",
    "plt.bar(startups['State'],startups['Administration'],label=\"Administration\",color=\"#008000\")\n",
    "plt.xlabel(\"$State$\")\n",
    "plt.ylabel(\"$Y$\")\n",
    "plt.title(\"$ Bar $ Chart\")\n",
    "plt.legend()"
   ]
  },
  {
   "cell_type": "code",
   "execution_count": null,
   "metadata": {},
   "outputs": [],
   "source": [
    "plt.figure(figsize=(12,7))\n",
    "id1 = np.arange(1,10)\n",
    "salary = np.arange(20,110,10)\n",
    "barplot = plt.bar(id1,salary)\n",
    "for bar in barplot:\n",
    "    height = bar.get_height()\n",
    "    plt.text(bar.get_x()+bar.get_width()/2.0,height,int(height),va=\"bottom\")# type: ignore #va - vertical alignment\n",
    "\n",
    "plt.xlabel(\"Employee ID\")\n",
    "plt.ylabel(\"Salary\")\n",
    "plt.title(\"Employee salary anaylsis\")"
   ]
  },
  {
   "cell_type": "code",
   "execution_count": null,
   "metadata": {},
   "outputs": [],
   "source": [
    "plt.figure(figsize=(12,7))\n",
    "id1 = np.arange(1,10)\n",
    "salary = np.arange(20,110,10)\n",
    "barplot = plt.bar(id1,salary)\n",
    "for bar in barplot:\n",
    "    height = bar.get_height()\n",
    "    plt.text(bar.get_x()+bar.get_width()/2.0,height,int(height),va=\"bottom\")# type: ignore #va - vertical alignment\n",
    "    plt.yticks([])\n",
    "    plt.xticks([])\n",
    "\n",
    "plt.xlabel(\"Employee ID\")\n",
    "plt.ylabel(\"Salary\")\n",
    "plt.title(\"Employee salary anaylsis\")"
   ]
  },
  {
   "cell_type": "markdown",
   "metadata": {},
   "source": [
    "## Horizontal Bar chart"
   ]
  },
  {
   "cell_type": "code",
   "execution_count": null,
   "metadata": {},
   "outputs": [],
   "source": [
    "age = [28,33,43,45,57]\n",
    "name = ['jyoti','ahasn','suraj','fairoz','aditya']\n",
    "\n",
    "ax = plt.axes()\n",
    "ax.set_facecolor(\"#000000\")\n",
    "plt.barh(name,age,color=\"yellowgreen\")"
   ]
  },
  {
   "cell_type": "code",
   "execution_count": null,
   "metadata": {},
   "outputs": [],
   "source": [
    "y,x = zip(*sorted(zip(id1,salary)))\n",
    "plt.figure(figsize=(5,5))\n",
    "ax = plt.axes()\n",
    "ax.set_facecolor(\"#000000\")\n",
    "\n",
    "plt.barh(id1,salary)\n",
    "plt.xlabel(\"Employee ID\")\n",
    "plt.ylabel(\"Salary\")\n",
    "plt.title(\"Employee salary anaylsis\")"
   ]
  },
  {
   "cell_type": "code",
   "execution_count": null,
   "metadata": {},
   "outputs": [],
   "source": [
    "plt.barh(x,y)\n",
    "ax = plt.subplot()\n",
    "ax.invert_yaxis()"
   ]
  },
  {
   "cell_type": "code",
   "execution_count": null,
   "metadata": {},
   "outputs": [],
   "source": [
    "plt.style.available #Professional theme"
   ]
  },
  {
   "cell_type": "code",
   "execution_count": null,
   "metadata": {},
   "outputs": [],
   "source": [
    "plt.style.use('tableau-colorblind10')\n",
    "plt.barh(x,y)\n",
    "ax = plt.subplot()\n",
    "ax.invert_yaxis()"
   ]
  },
  {
   "cell_type": "markdown",
   "metadata": {},
   "source": [
    "### 22/09/23"
   ]
  },
  {
   "cell_type": "code",
   "execution_count": null,
   "metadata": {},
   "outputs": [],
   "source": [
    "plt.figure(figsize=(5,5))\n",
    "\n",
    "plt.barh(id1,salary)\n",
    "plt.xlabel(\"Employee ID\")\n",
    "plt.ylabel(\"Salary\")\n",
    "plt.title(\"Employee salary anaylsis\")\n",
    "plt.style.use('Solarize_Light2')"
   ]
  },
  {
   "cell_type": "code",
   "execution_count": null,
   "metadata": {},
   "outputs": [],
   "source": [
    "mpl.rcParams.update(mpl.rcParamsDefault)# To recover default settings"
   ]
  },
  {
   "cell_type": "code",
   "execution_count": null,
   "metadata": {},
   "outputs": [],
   "source": [
    "num1 = np.array([1,3,5,7,9])\n",
    "num2 = np.array([2,4,6,8])\n",
    "plt.figure(figsize=(8,4))\n",
    "plt.bar(num1,num1**2,width=0.5,color=\"red\")\n",
    "plt.bar(num2,num2**2,width=0.2,color=\"blue\")\n",
    "plt.show()"
   ]
  },
  {
   "cell_type": "code",
   "execution_count": null,
   "metadata": {},
   "outputs": [],
   "source": [
    "num1 = np.array([1,3,5,7,9])\n",
    "num2 = np.array([2,4,6,8])\n",
    "plt.figure(figsize=(10,6))\n",
    "plt.bar(num1,num1**2,width=0.5,color=\"red\")\n",
    "plt.bar(num2,num2**2,width=0.2,color=\"blue\")\n",
    "\n",
    "for x,y in zip(num1,num1**2):\n",
    "    plt.text(x,y+0.05,'%d' %y,ha=\"center\",va=\"bottom\")\n",
    "for x,y in zip(num2,num2**2):\n",
    "    plt.text(x,y+0.05,'%d' %y,ha=\"center\",va=\"bottom\")\n",
    "plt.show()"
   ]
  },
  {
   "cell_type": "markdown",
   "metadata": {},
   "source": [
    "## Stacked Vertical Bar"
   ]
  },
  {
   "cell_type": "code",
   "execution_count": 37,
   "metadata": {},
   "outputs": [
    {
     "data": {
      "image/png": "[encoded data removed]",
      "text/plain": [
       "<Figure size 1600x900 with 1 Axes>"
      ]
     },
     "metadata": {},
     "output_type": "display_data"
    }
   ],
   "source": [
    "x = np.arange(1,21)\n",
    "plt.figure(figsize=(16,9))\n",
    "\n",
    "y1 = np.random.uniform(0.1,0.7,20)# uniform - to distribute data normally\n",
    "y2 = np.random.uniform(0.1,0.7,20)\n",
    "\n",
    "plt.bar(x,+y1,facecolor=\"#c0ca33\",edgecolor=\"white\")\n",
    "plt.bar(x,-y2,facecolor=\"#ff9800\",edgecolor=\"white\")\n",
    "plt.show()"
   ]
  },
  {
   "cell_type": "markdown",
   "metadata": {},
   "source": [
    "## Pie chart"
   ]
  },
  {
   "cell_type": "code",
   "execution_count": 49,
   "metadata": {},
   "outputs": [],
   "source": [
    "goals = [20,12,11,4,3]\n",
    "players = ['Ronaldo','Messi','Suarez','Neymar','Salah']\n",
    "comp = pd.DataFrame({\"Goals\" : goals,\"players\" : players})\n",
    "\n",
    "# ax = comp.plot(y=\"Goals\",kind=\"pie\",label=comp[\"players\"],autopct = \"%1.0f%\",legend=False,title=\"No of Goals scored by each player\")\n",
    "\n",
    "# ax.set(ylabel='')"
   ]
  },
  {
   "cell_type": "code",
   "execution_count": 50,
   "metadata": {},
   "outputs": [
    {
     "data": {
      "image/png": "[encoded data removed]",
      "text/plain": [
       "<Figure size 640x480 with 1 Axes>"
      ]
     },
     "metadata": {},
     "output_type": "display_data"
    }
   ],
   "source": [
    "plt.pie(comp.Goals,labels=comp.players,autopct=\"%1.2f%%\")\n",
    "plt.show()"
   ]
  },
  {
   "cell_type": "code",
   "execution_count": 52,
   "metadata": {},
   "outputs": [
    {
     "data": {
      "image/png": "[encoded data removed]",
      "text/plain": [
       "<Figure size 640x480 with 1 Axes>"
      ]
     },
     "metadata": {},
     "output_type": "display_data"
    }
   ],
   "source": [
    "plt.pie(comp.Goals,labels=comp.players,autopct=\"%.2f%%\")\n",
    "plt.show()"
   ]
  },
  {
   "cell_type": "code",
   "execution_count": 55,
   "metadata": {},
   "outputs": [
    {
     "data": {
      "image/png": "[encoded data removed]",
      "text/plain": [
       "<Figure size 400x400 with 1 Axes>"
      ]
     },
     "metadata": {},
     "output_type": "display_data"
    }
   ],
   "source": [
    "plt.figure(figsize=(4,4))\n",
    "area = [48,30,20,15]\n",
    "labels = ['Low','Medium','High','Critical']\n",
    "colors = ['#8BC43A','#D4E157','#FFB300','#FF7043']\n",
    "\n",
    "plt.pie(area,labels=labels,colors=colors,startangle=45)\n",
    "plt.show()"
   ]
  },
  {
   "cell_type": "code",
   "execution_count": null,
   "metadata": {},
   "outputs": [],
   "source": []
  }
 ],
 "metadata": {
  "kernelspec": {
   "display_name": "Python 3",
   "language": "python",
   "name": "python3"
  },
  "language_info": {
   "codemirror_mode": {
    "name": "ipython",
    "version": 3
   },
   "file_extension": ".py",
   "mimetype": "text/x-python",
   "name": "python",
   "nbconvert_exporter": "python",
   "pygments_lexer": "ipython3",
   "version": "3.10.6"
  },
  "orig_nbformat": 4
 },
 "nbformat": 4,
 "nbformat_minor": 2
}
