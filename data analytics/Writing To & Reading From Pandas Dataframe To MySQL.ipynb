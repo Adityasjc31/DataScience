{
 "cells": [
  {
   "cell_type": "markdown",
   "metadata": {
    "_cell_guid": "b1076dfc-b9ad-4769-8c92-a6c4dae69d19",
    "_uuid": "8f2839f25d086af736a60e9eeb907d3b93b6e0e5"
   },
   "source": [
    "### In this class, I will be showing you:\n",
    "\n",
    "1. How to connect to MySQL, \n",
    "2. How to Create a Database,\n",
    "3. How to write your pandas data frame to MySQL and\n",
    "4. How to write sql queries that run on DB"
   ]
  },
  {
   "cell_type": "code",
   "execution_count": null,
   "metadata": {
    "execution": {
     "iopub.execute_input": "2023-01-06T18:28:57.623912Z",
     "iopub.status.busy": "2023-01-06T18:28:57.623484Z",
     "iopub.status.idle": "2023-01-06T18:28:57.629898Z",
     "shell.execute_reply": "2023-01-06T18:28:57.628523Z",
     "shell.execute_reply.started": "2023-01-06T18:28:57.623877Z"
    }
   },
   "outputs": [],
   "source": [
    "import pandas as pd \n",
    "from sqlalchemy import create_engine\n",
    "import mysql.connector\n",
    "import pymysql"
   ]
  },
  {
   "cell_type": "markdown",
   "metadata": {},
   "source": [
    "Now, let's create a simple data frame from lists using dictionary for further use"
   ]
  },
  {
   "cell_type": "code",
   "execution_count": null,
   "metadata": {
    "execution": {
     "iopub.execute_input": "2023-01-06T17:20:05.859343Z",
     "iopub.status.busy": "2023-01-06T17:20:05.858937Z",
     "iopub.status.idle": "2023-01-06T17:20:05.880681Z",
     "shell.execute_reply": "2023-01-06T17:20:05.879386Z",
     "shell.execute_reply.started": "2023-01-06T17:20:05.859308Z"
    }
   },
   "outputs": [],
   "source": [
    "courses = {'Courses':['English','French','German','Spanish'],\n",
    "           'Duration_in_days':['35','35','40','30']}\n",
    "\n",
    "df = pd.DataFrame.from_dict(courses)\n",
    "\n",
    "df"
   ]
  },
  {
   "cell_type": "markdown",
   "metadata": {
    "execution": {
     "iopub.execute_input": "2023-01-06T17:21:48.696551Z",
     "iopub.status.busy": "2023-01-06T17:21:48.696116Z",
     "iopub.status.idle": "2023-01-06T17:21:48.701612Z",
     "shell.execute_reply": "2023-01-06T17:21:48.700595Z",
     "shell.execute_reply.started": "2023-01-06T17:21:48.696512Z"
    }
   },
   "source": [
    "### Connecting to MySQL and Create a Database"
   ]
  },
  {
   "cell_type": "markdown",
   "metadata": {
    "execution": {
     "iopub.execute_input": "2023-01-06T17:29:41.243592Z",
     "iopub.status.busy": "2023-01-06T17:29:41.243165Z",
     "iopub.status.idle": "2023-01-06T17:29:41.251547Z",
     "shell.execute_reply": "2023-01-06T17:29:41.249525Z",
     "shell.execute_reply.started": "2023-01-06T17:29:41.243553Z"
    }
   },
   "source": [
    "In your MySQL you will have localhost, user, password information. Using them you can to a connect to the database as below. Using cursor we are also going to create a database called **my_tutorials**."
   ]
  },
  {
   "cell_type": "code",
   "execution_count": null,
   "metadata": {},
   "outputs": [],
   "source": [
    "try:\n",
    "    dbConnection = pymysql.connect(\n",
    "        host=\"localhost\",\n",
    "        user=\"root\",\n",
    "        password=\"123@mysql\"\n",
    "    )\n",
    "    print(\"Connection established\")\n",
    "    cursor = dbConnection.cursor()\n",
    "    cursor.execute(\"create database if not exists my_tutorials\")\n",
    "    dbConnection.commit()\n",
    "    print(\"Database created successfully\")\n",
    "    cursor.execute(\"use my_tutorials\")\n",
    "\n",
    "except mysql.connector.Error as err:\n",
    "    print(\"An error occurred:\", err)\n"
   ]
  },
  {
   "cell_type": "markdown",
   "metadata": {},
   "source": [
    "### Writing the Data Frame to a table in the database."
   ]
  },
  {
   "cell_type": "markdown",
   "metadata": {},
   "source": [
    "I will be creating an engine to connect to my new database"
   ]
  },
  {
   "cell_type": "code",
   "execution_count": null,
   "metadata": {
    "execution": {
     "iopub.execute_input": "2023-01-06T17:51:53.260441Z",
     "iopub.status.busy": "2023-01-06T17:51:53.260012Z",
     "iopub.status.idle": "2023-01-06T17:51:53.334594Z",
     "shell.execute_reply": "2023-01-06T17:51:53.332985Z",
     "shell.execute_reply.started": "2023-01-06T17:51:53.260407Z"
    }
   },
   "outputs": [],
   "source": [
    "hostname= \"localhost\"\n",
    "database= \"my_tutorials\"\n",
    "username= \"root\"\n",
    "password= \"123@mysql\"\n",
    "\n",
    "engine = create_engine(\"mysql+pymysql://{user}:{pw}@{host}/{db}\".format(host=hostname, db=database, user=username, pw=password))"
   ]
  },
  {
   "cell_type": "markdown",
   "metadata": {},
   "source": [
    "Now I can write my pandas data frame to my new_db as follows"
   ]
  },
  {
   "cell_type": "code",
   "execution_count": null,
   "metadata": {
    "execution": {
     "iopub.execute_input": "2023-01-06T18:27:34.855548Z",
     "iopub.status.busy": "2023-01-06T18:27:34.854856Z",
     "iopub.status.idle": "2023-01-06T18:27:34.874296Z",
     "shell.execute_reply": "2023-01-06T18:27:34.872752Z",
     "shell.execute_reply.started": "2023-01-06T18:27:34.855504Z"
    }
   },
   "outputs": [],
   "source": [
    "df.to_sql('table1', engine, if_exists='replace', index=False)"
   ]
  },
  {
   "cell_type": "markdown",
   "metadata": {
    "execution": {
     "iopub.execute_input": "2023-01-06T17:45:56.569357Z",
     "iopub.status.busy": "2023-01-06T17:45:56.568925Z",
     "iopub.status.idle": "2023-01-06T17:45:56.574762Z",
     "shell.execute_reply": "2023-01-06T17:45:56.573424Z",
     "shell.execute_reply.started": "2023-01-06T17:45:56.569323Z"
    }
   },
   "source": [
    "### SQL queries that run on DB"
   ]
  },
  {
   "cell_type": "code",
   "execution_count": null,
   "metadata": {
    "execution": {
     "iopub.execute_input": "2023-01-06T17:46:11.645412Z",
     "iopub.status.busy": "2023-01-06T17:46:11.644947Z",
     "iopub.status.idle": "2023-01-06T17:46:11.664937Z",
     "shell.execute_reply": "2023-01-06T17:46:11.663145Z",
     "shell.execute_reply.started": "2023-01-06T17:46:11.645375Z"
    }
   },
   "outputs": [],
   "source": [
    "cursor.execute(\"use new_db\")"
   ]
  },
  {
   "cell_type": "code",
   "execution_count": null,
   "metadata": {},
   "outputs": [],
   "source": [
    "cursor.execute('''  \n",
    "SELECT * from table1\n",
    "          ''')\n",
    "\n",
    "for row in cursor.fetchall():\n",
    "    print (row)"
   ]
  },
  {
   "cell_type": "markdown",
   "metadata": {},
   "source": [
    "It is also possible to read a mysql table directly into a dataframe as follows:"
   ]
  },
  {
   "cell_type": "code",
   "execution_count": null,
   "metadata": {
    "execution": {
     "iopub.execute_input": "2023-01-06T17:47:19.270365Z",
     "iopub.status.busy": "2023-01-06T17:47:19.269935Z",
     "iopub.status.idle": "2023-01-06T17:47:19.286919Z",
     "shell.execute_reply": "2023-01-06T17:47:19.285744Z",
     "shell.execute_reply.started": "2023-01-06T17:47:19.270332Z"
    }
   },
   "outputs": [],
   "source": [
    "df_sql = pd.read_sql('SELECT * from table1', con=engine)\n",
    "df_sql"
   ]
  },
  {
   "cell_type": "code",
   "execution_count": null,
   "metadata": {},
   "outputs": [],
   "source": [
    "cursor.close()\n",
    "mydb.close()"
   ]
  },
  {
   "cell_type": "markdown",
   "metadata": {},
   "source": [
    "## Reading Data from MySQL Database\n",
    "\n",
    "Once we have established a connection to the MySQL database, we can use Pandas to read data from the database. We can use the read_sql_query() function provided by Pandas to execute a SQL query on the database and return the results as a Pandas DataFrame."
   ]
  },
  {
   "cell_type": "code",
   "execution_count": null,
   "metadata": {},
   "outputs": [],
   "source": [
    "from sqlalchemy import create_engine\n",
    "import pymysql\n",
    "import pandas as pd\n",
    "\n",
    "hostname= \"localhost\"\n",
    "database= \"my_tutorials\"\n",
    "username= \"root\"\n",
    "password= \"123@mysql\"\n",
    "\n",
    "sqlEngine = create_engine(\"mysql+pymysql://{user}:{pw}@{host}/{db}\".format(host=hostname, db=database, user=username, pw=password))\n",
    "dbConnection    = sqlEngine.connect()\n",
    "\n",
    "frame           = pd.read_sql(\"select * from world.city\", dbConnection);\n",
    "\n",
    "pd.set_option('display.expand_frame_repr', False)\n",
    "\n",
    "print(frame)\n",
    "\n",
    "dbConnection.close()"
   ]
  },
  {
   "cell_type": "code",
   "execution_count": null,
   "metadata": {},
   "outputs": [],
   "source": []
  }
 ],
 "metadata": {
  "kernelspec": {
   "display_name": "Python 3 (ipykernel)",
   "language": "python",
   "name": "python3"
  },
  "language_info": {
   "codemirror_mode": {
    "name": "ipython",
    "version": 3
   },
   "file_extension": ".py",
   "mimetype": "text/x-python",
   "name": "python",
   "nbconvert_exporter": "python",
   "pygments_lexer": "ipython3",
   "version": "3.10.9"
  }
 },
 "nbformat": 4,
 "nbformat_minor": 4
}
