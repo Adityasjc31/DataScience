{
 "cells": [
  {
   "cell_type": "markdown",
   "metadata": {},
   "source": [
    "# NumPy \n",
    "\n",
    "NumPy (or Numpy) is a Linear Algebra Library for Python, the reason it is so important for Data Science with Python is that almost all of the libraries in the PyData Ecosystem rely on NumPy as one of their main building blocks.\n",
    "\n",
    "Numpy is also incredibly fast, as it has bindings to C libraries. For more info on why you would want to use Arrays instead of lists, check out this great [StackOverflow post](http://stackoverflow.com/questions/993984/why-numpy-instead-of-python-lists).\n",
    "\n",
    "We will only learn the basics of NumPy, to get started we need to install it!"
   ]
  },
  {
   "cell_type": "markdown",
   "metadata": {},
   "source": [
    "## Installation Instructions\n",
    "\n",
    "**It is highly recommended you install Python using the Anaconda distribution to make sure all underlying dependencies (such as Linear Algebra libraries) all sync up with the use of a conda install. If you have Anaconda, install NumPy by going to your terminal or command prompt and typing:**\n",
    "    \n",
    "    conda install numpy\n",
    "    \n",
    "**If you do not have Anaconda and can not install it, please refer to [Numpy's official documentation on various installation instructions.](http://docs.scipy.org/doc/numpy-1.10.1/user/install.html)**"
   ]
  },
  {
   "cell_type": "markdown",
   "metadata": {},
   "source": [
    "## Using NumPy\n",
    "\n",
    "Once you've installed NumPy you can import it as a library:"
   ]
  },
  {
   "cell_type": "code",
   "execution_count": 1,
   "metadata": {},
   "outputs": [
    {
     "name": "stdout",
     "output_type": "stream",
     "text": [
      "NumPy Version Installed:  1.24.3\n"
     ]
    }
   ],
   "source": [
    "import numpy as np\n",
    "print(\"NumPy Version Installed: \", np.__version__)"
   ]
  },
  {
   "cell_type": "markdown",
   "metadata": {},
   "source": [
    "Numpy has many built-in functions and capabilities. We won't cover them all but instead we will focus on some of the most important aspects of Numpy: vectors,arrays,matrices, and number generation. Let's start by discussing arrays.\n",
    "\n",
    "# Numpy Arrays\n",
    "\n",
    "NumPy arrays are the main way we will use Numpy throughout the course. Numpy arrays essentially come in two flavors: vectors and matrices. Vectors are strictly 1-d arrays and matrices are 2-d (but you should note a matrix can still have only one row or one column).\n",
    "\n",
    "Let's begin our introduction by exploring how to create NumPy arrays.\n",
    "\n",
    "## Creating NumPy Arrays\n",
    "\n",
    "### From a Python List\n",
    "\n",
    "We can create an array by directly converting a list or list of lists:"
   ]
  },
  {
   "cell_type": "code",
   "execution_count": 4,
   "metadata": {},
   "outputs": [
    {
     "name": "stdout",
     "output_type": "stream",
     "text": [
      "[67, 89, 90, 45, 76, 89]\n",
      "[67 89 90 45 76 89]\n"
     ]
    }
   ],
   "source": [
    "li = [67,89,90,45,76,89]\n",
    "print(li)\n",
    "np_ar1 = np.array(li)\n",
    "print(np_ar1)"
   ]
  },
  {
   "cell_type": "code",
   "execution_count": 5,
   "metadata": {},
   "outputs": [
    {
     "name": "stdout",
     "output_type": "stream",
     "text": [
      "<class 'numpy.ndarray'>\n"
     ]
    }
   ],
   "source": [
    "# Checking for the type\n",
    "\n",
    "print(type(np_ar1))"
   ]
  },
  {
   "cell_type": "code",
   "execution_count": 6,
   "metadata": {},
   "outputs": [
    {
     "name": "stdout",
     "output_type": "stream",
     "text": [
      "1\n"
     ]
    }
   ],
   "source": [
    "# Checking for the dimension\n",
    "print(np_ar1.ndim)"
   ]
  },
  {
   "cell_type": "code",
   "execution_count": 7,
   "metadata": {},
   "outputs": [
    {
     "name": "stdout",
     "output_type": "stream",
     "text": [
      "int32\n"
     ]
    }
   ],
   "source": [
    "# Checking for datatype\n",
    "\n",
    "print(np_ar1.dtype)"
   ]
  },
  {
   "cell_type": "code",
   "execution_count": 19,
   "metadata": {},
   "outputs": [
    {
     "name": "stdout",
     "output_type": "stream",
     "text": [
      "(6,)\n"
     ]
    }
   ],
   "source": [
    "# Checking for the shape\n",
    "print(np_ar1.shape)"
   ]
  },
  {
   "cell_type": "code",
   "execution_count": 14,
   "metadata": {},
   "outputs": [
    {
     "name": "stdout",
     "output_type": "stream",
     "text": [
      "Number of Items in a numpy array:  6\n"
     ]
    }
   ],
   "source": [
    "# Checking for size of the array\n",
    "\n",
    "print(\"Number of Items in a numpy array: \", np_ar1.size)"
   ]
  },
  {
   "cell_type": "code",
   "execution_count": 10,
   "metadata": {},
   "outputs": [
    {
     "name": "stdout",
     "output_type": "stream",
     "text": [
      "4 Bytes\n"
     ]
    }
   ],
   "source": [
    "# Checking for the Space occupied by an individual item\n",
    "print(np_ar1.itemsize, \"Bytes\")"
   ]
  },
  {
   "cell_type": "code",
   "execution_count": 11,
   "metadata": {},
   "outputs": [
    {
     "name": "stdout",
     "output_type": "stream",
     "text": [
      "24 Bytes\n"
     ]
    }
   ],
   "source": [
    "# Checking for the Space occupied by array\n",
    "print(np_ar1.itemsize*np_ar1.size, \"Bytes\")"
   ]
  },
  {
   "cell_type": "code",
   "execution_count": 15,
   "metadata": {},
   "outputs": [
    {
     "data": {
      "text/plain": [
       "24"
      ]
     },
     "execution_count": 15,
     "metadata": {},
     "output_type": "execute_result"
    }
   ],
   "source": [
    "# Checking for the Space occupied by array\n",
    "# Alternate solution\n",
    "\n",
    "np_ar1.nbytes"
   ]
  },
  {
   "cell_type": "code",
   "execution_count": 18,
   "metadata": {},
   "outputs": [
    {
     "name": "stdout",
     "output_type": "stream",
     "text": [
      "[67 89 90 45 76 89]\n",
      "1\n",
      "6\n"
     ]
    }
   ],
   "source": [
    "# Changing datatype\n",
    "\n",
    "li = [67,89,90,45,76,89]\n",
    "np_ar1 = np.array(li, dtype=\"int8\")\n",
    "print(np_ar1)\n",
    "print(np_ar1.itemsize)\n",
    "print(np_ar1.nbytes)"
   ]
  },
  {
   "cell_type": "markdown",
   "metadata": {},
   "source": [
    "## Creating a Matrix(2-D Array)"
   ]
  },
  {
   "cell_type": "code",
   "execution_count": 16,
   "metadata": {},
   "outputs": [
    {
     "name": "stdout",
     "output_type": "stream",
     "text": [
      "[[ 45  87  98]\n",
      " [ 65  38  89]\n",
      " [104  56  44]]\n",
      "<class 'numpy.ndarray'>\n",
      "Dimension:  2\n"
     ]
    }
   ],
   "source": [
    "np_ar2 = np.array([[45,87,98],\n",
    "                  [65,38,89],\n",
    "                  [104,56,44]])\n",
    "\n",
    "print(np_ar2)\n",
    "print(type(np_ar2))\n",
    "print(\"Dimension: \", np_ar2.ndim)"
   ]
  },
  {
   "cell_type": "code",
   "execution_count": 20,
   "metadata": {},
   "outputs": [
    {
     "name": "stdout",
     "output_type": "stream",
     "text": [
      "(3, 3)\n"
     ]
    }
   ],
   "source": [
    "# Checking for the shape\n",
    "print(np_ar2.shape)"
   ]
  },
  {
   "cell_type": "code",
   "execution_count": null,
   "metadata": {},
   "outputs": [],
   "source": []
  },
  {
   "cell_type": "markdown",
   "metadata": {},
   "source": [
    "## Creating a 3-D Array"
   ]
  },
  {
   "cell_type": "code",
   "execution_count": 24,
   "metadata": {},
   "outputs": [
    {
     "name": "stdout",
     "output_type": "stream",
     "text": [
      "[[[ 1  2  3]\n",
      "  [ 4  5  6]\n",
      "  [ 7  8  9]\n",
      "  [10 11 12]]\n",
      "\n",
      " [[13 14 15]\n",
      "  [16 17 18]\n",
      "  [19 20 21]\n",
      "  [22 23 24]]]\n",
      "<class 'numpy.ndarray'>\n",
      "3\n",
      "(2, 4, 3)\n"
     ]
    }
   ],
   "source": [
    "np_ar3 = np.array([[[1,2,3],\n",
    "                    [4,5,6],\n",
    "                   [7,8,9],\n",
    "                    [10,11,12]],\n",
    "                  [[13,14,15],\n",
    "                  [16,17,18],\n",
    "                  [19,20,21],\n",
    "                  [22,23,24]]])\n",
    "\n",
    "print(np_ar3)\n",
    "print(type(np_ar3))\n",
    "print(np_ar3.ndim)\n",
    "print(np_ar3.shape)"
   ]
  },
  {
   "cell_type": "markdown",
   "metadata": {},
   "source": [
    "## Creating a 4-D Array"
   ]
  },
  {
   "cell_type": "code",
   "execution_count": 2,
   "metadata": {},
   "outputs": [
    {
     "name": "stdout",
     "output_type": "stream",
     "text": [
      "[[[[56 78 90]]]]\n",
      "4\n",
      "(1, 1, 1, 3)\n"
     ]
    }
   ],
   "source": [
    "np_ar4d = np.array([[[[56,78,90]]]])\n",
    "print(np_ar4d)\n",
    "print(np_ar4d.ndim)\n",
    "print(np_ar4d.shape)"
   ]
  },
  {
   "cell_type": "markdown",
   "metadata": {},
   "source": [
    "## Built-in Methods\n",
    "\n",
    "There are lots of built-in ways to generate Arrays"
   ]
  },
  {
   "cell_type": "markdown",
   "metadata": {},
   "source": [
    "### arange\n",
    "\n",
    "Return evenly spaced values within a given interval."
   ]
  },
  {
   "cell_type": "code",
   "execution_count": 3,
   "metadata": {},
   "outputs": [
    {
     "name": "stdout",
     "output_type": "stream",
     "text": [
      "[0 1 2 3 4 5 6 7 8 9]\n"
     ]
    }
   ],
   "source": [
    "np_array1 = np.arange(10)\n",
    "print(np_array1)"
   ]
  },
  {
   "cell_type": "code",
   "execution_count": 4,
   "metadata": {},
   "outputs": [
    {
     "name": "stdout",
     "output_type": "stream",
     "text": [
      "[ 1  2  3  4  5  6  7  8  9 10 11 12 13 14 15]\n"
     ]
    }
   ],
   "source": [
    "np_array1 = np.arange(1,16)\n",
    "print(np_array1)"
   ]
  },
  {
   "cell_type": "markdown",
   "metadata": {},
   "source": [
    "### zeros and ones\n",
    "\n",
    "Generate arrays of zeros or ones"
   ]
  },
  {
   "cell_type": "code",
   "execution_count": 6,
   "metadata": {},
   "outputs": [
    {
     "data": {
      "text/plain": [
       "array([0., 0., 0., 0., 0.])"
      ]
     },
     "execution_count": 6,
     "metadata": {},
     "output_type": "execute_result"
    }
   ],
   "source": [
    "np_array2 = np.zeros(5)\n",
    "np_array2"
   ]
  },
  {
   "cell_type": "code",
   "execution_count": 7,
   "metadata": {},
   "outputs": [
    {
     "data": {
      "text/plain": [
       "array([[0., 0., 0.],\n",
       "       [0., 0., 0.],\n",
       "       [0., 0., 0.],\n",
       "       [0., 0., 0.],\n",
       "       [0., 0., 0.]])"
      ]
     },
     "execution_count": 7,
     "metadata": {},
     "output_type": "execute_result"
    }
   ],
   "source": [
    "np_array2 = np.zeros((5,3))\n",
    "np_array2"
   ]
  },
  {
   "cell_type": "code",
   "execution_count": 8,
   "metadata": {},
   "outputs": [
    {
     "data": {
      "text/plain": [
       "dtype('float64')"
      ]
     },
     "execution_count": 8,
     "metadata": {},
     "output_type": "execute_result"
    }
   ],
   "source": [
    "np_array2.dtype"
   ]
  },
  {
   "cell_type": "code",
   "execution_count": 9,
   "metadata": {},
   "outputs": [
    {
     "data": {
      "text/plain": [
       "array([[0, 0, 0],\n",
       "       [0, 0, 0],\n",
       "       [0, 0, 0],\n",
       "       [0, 0, 0],\n",
       "       [0, 0, 0]], dtype=int8)"
      ]
     },
     "execution_count": 9,
     "metadata": {},
     "output_type": "execute_result"
    }
   ],
   "source": [
    "np_array2 = np.zeros((5,3),dtype='int8')\n",
    "np_array2"
   ]
  },
  {
   "cell_type": "code",
   "execution_count": 10,
   "metadata": {},
   "outputs": [
    {
     "data": {
      "text/plain": [
       "dtype('int8')"
      ]
     },
     "execution_count": 10,
     "metadata": {},
     "output_type": "execute_result"
    }
   ],
   "source": [
    "np_array2.dtype"
   ]
  },
  {
   "cell_type": "code",
   "execution_count": 11,
   "metadata": {},
   "outputs": [
    {
     "data": {
      "text/plain": [
       "array([[[0, 0, 0],\n",
       "        [0, 0, 0],\n",
       "        [0, 0, 0],\n",
       "        [0, 0, 0],\n",
       "        [0, 0, 0]],\n",
       "\n",
       "       [[0, 0, 0],\n",
       "        [0, 0, 0],\n",
       "        [0, 0, 0],\n",
       "        [0, 0, 0],\n",
       "        [0, 0, 0]]], dtype=int8)"
      ]
     },
     "execution_count": 11,
     "metadata": {},
     "output_type": "execute_result"
    }
   ],
   "source": [
    "np_array2 = np.zeros((2,5,3),dtype='int8')\n",
    "np_array2"
   ]
  },
  {
   "cell_type": "code",
   "execution_count": 12,
   "metadata": {},
   "outputs": [
    {
     "data": {
      "text/plain": [
       "array([[[[0, 0, 0],\n",
       "         [0, 0, 0],\n",
       "         [0, 0, 0],\n",
       "         [0, 0, 0],\n",
       "         [0, 0, 0]],\n",
       "\n",
       "        [[0, 0, 0],\n",
       "         [0, 0, 0],\n",
       "         [0, 0, 0],\n",
       "         [0, 0, 0],\n",
       "         [0, 0, 0]]],\n",
       "\n",
       "\n",
       "       [[[0, 0, 0],\n",
       "         [0, 0, 0],\n",
       "         [0, 0, 0],\n",
       "         [0, 0, 0],\n",
       "         [0, 0, 0]],\n",
       "\n",
       "        [[0, 0, 0],\n",
       "         [0, 0, 0],\n",
       "         [0, 0, 0],\n",
       "         [0, 0, 0],\n",
       "         [0, 0, 0]]]], dtype=int8)"
      ]
     },
     "execution_count": 12,
     "metadata": {},
     "output_type": "execute_result"
    }
   ],
   "source": [
    "np_array2 = np.zeros((2,2,5,3),dtype='int8')\n",
    "np_array2"
   ]
  },
  {
   "cell_type": "code",
   "execution_count": null,
   "metadata": {},
   "outputs": [],
   "source": [
    "# Using np.ones()"
   ]
  },
  {
   "cell_type": "markdown",
   "metadata": {},
   "source": [
    "### linspace\n",
    "Return evenly spaced numbers over a specified interval."
   ]
  },
  {
   "cell_type": "code",
   "execution_count": 13,
   "metadata": {},
   "outputs": [
    {
     "data": {
      "text/plain": [
       "array([ 1.        ,  1.09090909,  1.18181818,  1.27272727,  1.36363636,\n",
       "        1.45454545,  1.54545455,  1.63636364,  1.72727273,  1.81818182,\n",
       "        1.90909091,  2.        ,  2.09090909,  2.18181818,  2.27272727,\n",
       "        2.36363636,  2.45454545,  2.54545455,  2.63636364,  2.72727273,\n",
       "        2.81818182,  2.90909091,  3.        ,  3.09090909,  3.18181818,\n",
       "        3.27272727,  3.36363636,  3.45454545,  3.54545455,  3.63636364,\n",
       "        3.72727273,  3.81818182,  3.90909091,  4.        ,  4.09090909,\n",
       "        4.18181818,  4.27272727,  4.36363636,  4.45454545,  4.54545455,\n",
       "        4.63636364,  4.72727273,  4.81818182,  4.90909091,  5.        ,\n",
       "        5.09090909,  5.18181818,  5.27272727,  5.36363636,  5.45454545,\n",
       "        5.54545455,  5.63636364,  5.72727273,  5.81818182,  5.90909091,\n",
       "        6.        ,  6.09090909,  6.18181818,  6.27272727,  6.36363636,\n",
       "        6.45454545,  6.54545455,  6.63636364,  6.72727273,  6.81818182,\n",
       "        6.90909091,  7.        ,  7.09090909,  7.18181818,  7.27272727,\n",
       "        7.36363636,  7.45454545,  7.54545455,  7.63636364,  7.72727273,\n",
       "        7.81818182,  7.90909091,  8.        ,  8.09090909,  8.18181818,\n",
       "        8.27272727,  8.36363636,  8.45454545,  8.54545455,  8.63636364,\n",
       "        8.72727273,  8.81818182,  8.90909091,  9.        ,  9.09090909,\n",
       "        9.18181818,  9.27272727,  9.36363636,  9.45454545,  9.54545455,\n",
       "        9.63636364,  9.72727273,  9.81818182,  9.90909091, 10.        ])"
      ]
     },
     "execution_count": 13,
     "metadata": {},
     "output_type": "execute_result"
    }
   ],
   "source": [
    "np_array3 = np.linspace(1,10,100)\n",
    "np_array3"
   ]
  },
  {
   "cell_type": "markdown",
   "metadata": {},
   "source": [
    "## eye\n",
    "\n",
    "Creates an identity matrix"
   ]
  },
  {
   "cell_type": "code",
   "execution_count": 16,
   "metadata": {},
   "outputs": [
    {
     "data": {
      "text/plain": [
       "array([[1., 0., 0., 0., 0.],\n",
       "       [0., 1., 0., 0., 0.]])"
      ]
     },
     "execution_count": 16,
     "metadata": {},
     "output_type": "execute_result"
    }
   ],
   "source": [
    "np_array4 = np.eye(2,5)\n",
    "np_array4"
   ]
  },
  {
   "cell_type": "code",
   "execution_count": 17,
   "metadata": {},
   "outputs": [
    {
     "data": {
      "text/plain": [
       "array([[1., 0., 0., 0., 0.],\n",
       "       [0., 1., 0., 0., 0.],\n",
       "       [0., 0., 1., 0., 0.],\n",
       "       [0., 0., 0., 1., 0.],\n",
       "       [0., 0., 0., 0., 1.]])"
      ]
     },
     "execution_count": 17,
     "metadata": {},
     "output_type": "execute_result"
    }
   ],
   "source": [
    "np_array4 = np.eye(5,5)\n",
    "np_array4"
   ]
  },
  {
   "cell_type": "code",
   "execution_count": 21,
   "metadata": {},
   "outputs": [
    {
     "data": {
      "text/plain": [
       "array([[1., 0., 0., 0., 0.],\n",
       "       [0., 1., 0., 0., 0.],\n",
       "       [0., 0., 1., 0., 0.],\n",
       "       [0., 0., 0., 1., 0.],\n",
       "       [0., 0., 0., 0., 1.]])"
      ]
     },
     "execution_count": 21,
     "metadata": {},
     "output_type": "execute_result"
    }
   ],
   "source": [
    "# Creating an identity matrix using identity() method\n",
    "\n",
    "np_array4 = np.identity(5)\n",
    "np_array4"
   ]
  },
  {
   "cell_type": "markdown",
   "metadata": {},
   "source": [
    "## Random \n",
    "\n",
    "Numpy also has lots of ways to create random number arrays:\n",
    "\n",
    "### rand\n",
    "Create an array of the given shape and populate it with\n",
    "random samples from a uniform distribution\n",
    "over ``[0, 1)``."
   ]
  },
  {
   "cell_type": "code",
   "execution_count": 28,
   "metadata": {},
   "outputs": [
    {
     "data": {
      "text/plain": [
       "array([[0.01777268, 0.71526066],\n",
       "       [0.27448227, 0.8042627 ]])"
      ]
     },
     "execution_count": 28,
     "metadata": {},
     "output_type": "execute_result"
    }
   ],
   "source": [
    "np_array5 = np.random.rand(2,2)\n",
    "np_array5"
   ]
  },
  {
   "cell_type": "code",
   "execution_count": null,
   "metadata": {},
   "outputs": [],
   "source": []
  },
  {
   "cell_type": "markdown",
   "metadata": {},
   "source": [
    "### randn\n",
    "\n",
    "Return a sample (or samples) from the \"standard normal\" distribution. Unlike rand which is uniform:"
   ]
  },
  {
   "cell_type": "code",
   "execution_count": 29,
   "metadata": {},
   "outputs": [
    {
     "data": {
      "text/plain": [
       "array([[-0.19970889,  1.52652506],\n",
       "       [ 1.43249424, -0.09841987]])"
      ]
     },
     "execution_count": 29,
     "metadata": {},
     "output_type": "execute_result"
    }
   ],
   "source": [
    "np_array5 = np.random.randn(2,2)\n",
    "np_array5"
   ]
  },
  {
   "cell_type": "code",
   "execution_count": null,
   "metadata": {},
   "outputs": [],
   "source": []
  },
  {
   "cell_type": "markdown",
   "metadata": {},
   "source": [
    "### randint\n",
    "Return random integers from `low` (inclusive) to `high` (exclusive)."
   ]
  },
  {
   "cell_type": "code",
   "execution_count": 32,
   "metadata": {},
   "outputs": [
    {
     "data": {
      "text/plain": [
       "array([[58,  8, 51, 12, 55],\n",
       "       [30, 37, 89, 68, 77],\n",
       "       [ 8,  9, 11, 62, 84]])"
      ]
     },
     "execution_count": 32,
     "metadata": {},
     "output_type": "execute_result"
    }
   ],
   "source": [
    "np_array6 = np.random.randint(1,100,(3,5))\n",
    "np_array6"
   ]
  },
  {
   "cell_type": "code",
   "execution_count": null,
   "metadata": {},
   "outputs": [],
   "source": []
  },
  {
   "cell_type": "markdown",
   "metadata": {},
   "source": [
    "## Array Attributes and Methods\n",
    "\n",
    "Let's discuss some useful attributes and methods or an array:"
   ]
  },
  {
   "cell_type": "code",
   "execution_count": null,
   "metadata": {},
   "outputs": [],
   "source": [
    "# dtype, ndim, size, itemsize, shape, nbytes"
   ]
  },
  {
   "cell_type": "code",
   "execution_count": null,
   "metadata": {},
   "outputs": [],
   "source": [
    "# (2,4,5,6) Array: 500-1000, floating number datatype"
   ]
  },
  {
   "cell_type": "code",
   "execution_count": null,
   "metadata": {},
   "outputs": [],
   "source": []
  },
  {
   "cell_type": "markdown",
   "metadata": {},
   "source": [
    "## Reshape\n",
    "Returns an array containing the same data with a new shape."
   ]
  },
  {
   "cell_type": "code",
   "execution_count": 33,
   "metadata": {},
   "outputs": [
    {
     "data": {
      "text/plain": [
       "array([[[[  1,   2,   3,   4,   5,   6],\n",
       "         [  7,   8,   9,  10,  11,  12],\n",
       "         [ 13,  14,  15,  16,  17,  18],\n",
       "         [ 19,  20,  21,  22,  23,  24],\n",
       "         [ 25,  26,  27,  28,  29,  30]],\n",
       "\n",
       "        [[ 31,  32,  33,  34,  35,  36],\n",
       "         [ 37,  38,  39,  40,  41,  42],\n",
       "         [ 43,  44,  45,  46,  47,  48],\n",
       "         [ 49,  50,  51,  52,  53,  54],\n",
       "         [ 55,  56,  57,  58,  59,  60]],\n",
       "\n",
       "        [[ 61,  62,  63,  64,  65,  66],\n",
       "         [ 67,  68,  69,  70,  71,  72],\n",
       "         [ 73,  74,  75,  76,  77,  78],\n",
       "         [ 79,  80,  81,  82,  83,  84],\n",
       "         [ 85,  86,  87,  88,  89,  90]],\n",
       "\n",
       "        [[ 91,  92,  93,  94,  95,  96],\n",
       "         [ 97,  98,  99, 100, 101, 102],\n",
       "         [103, 104, 105, 106, 107, 108],\n",
       "         [109, 110, 111, 112, 113, 114],\n",
       "         [115, 116, 117, 118, 119, 120]]],\n",
       "\n",
       "\n",
       "       [[[121, 122, 123, 124, 125, 126],\n",
       "         [127, 128, 129, 130, 131, 132],\n",
       "         [133, 134, 135, 136, 137, 138],\n",
       "         [139, 140, 141, 142, 143, 144],\n",
       "         [145, 146, 147, 148, 149, 150]],\n",
       "\n",
       "        [[151, 152, 153, 154, 155, 156],\n",
       "         [157, 158, 159, 160, 161, 162],\n",
       "         [163, 164, 165, 166, 167, 168],\n",
       "         [169, 170, 171, 172, 173, 174],\n",
       "         [175, 176, 177, 178, 179, 180]],\n",
       "\n",
       "        [[181, 182, 183, 184, 185, 186],\n",
       "         [187, 188, 189, 190, 191, 192],\n",
       "         [193, 194, 195, 196, 197, 198],\n",
       "         [199, 200, 201, 202, 203, 204],\n",
       "         [205, 206, 207, 208, 209, 210]],\n",
       "\n",
       "        [[211, 212, 213, 214, 215, 216],\n",
       "         [217, 218, 219, 220, 221, 222],\n",
       "         [223, 224, 225, 226, 227, 228],\n",
       "         [229, 230, 231, 232, 233, 234],\n",
       "         [235, 236, 237, 238, 239, 240]]]])"
      ]
     },
     "execution_count": 33,
     "metadata": {},
     "output_type": "execute_result"
    }
   ],
   "source": [
    "# (2,4,5,6)\n",
    "\n",
    "np_array7 = np.arange(1,241).reshape((2,4,5,6))\n",
    "np_array7"
   ]
  },
  {
   "cell_type": "code",
   "execution_count": 34,
   "metadata": {},
   "outputs": [
    {
     "data": {
      "text/plain": [
       "array([[[[[  1,   2,   3],\n",
       "          [  4,   5,   6],\n",
       "          [  7,   8,   9],\n",
       "          [ 10,  11,  12],\n",
       "          [ 13,  14,  15]],\n",
       "\n",
       "         [[ 16,  17,  18],\n",
       "          [ 19,  20,  21],\n",
       "          [ 22,  23,  24],\n",
       "          [ 25,  26,  27],\n",
       "          [ 28,  29,  30]],\n",
       "\n",
       "         [[ 31,  32,  33],\n",
       "          [ 34,  35,  36],\n",
       "          [ 37,  38,  39],\n",
       "          [ 40,  41,  42],\n",
       "          [ 43,  44,  45]],\n",
       "\n",
       "         [[ 46,  47,  48],\n",
       "          [ 49,  50,  51],\n",
       "          [ 52,  53,  54],\n",
       "          [ 55,  56,  57],\n",
       "          [ 58,  59,  60]]],\n",
       "\n",
       "\n",
       "        [[[ 61,  62,  63],\n",
       "          [ 64,  65,  66],\n",
       "          [ 67,  68,  69],\n",
       "          [ 70,  71,  72],\n",
       "          [ 73,  74,  75]],\n",
       "\n",
       "         [[ 76,  77,  78],\n",
       "          [ 79,  80,  81],\n",
       "          [ 82,  83,  84],\n",
       "          [ 85,  86,  87],\n",
       "          [ 88,  89,  90]],\n",
       "\n",
       "         [[ 91,  92,  93],\n",
       "          [ 94,  95,  96],\n",
       "          [ 97,  98,  99],\n",
       "          [100, 101, 102],\n",
       "          [103, 104, 105]],\n",
       "\n",
       "         [[106, 107, 108],\n",
       "          [109, 110, 111],\n",
       "          [112, 113, 114],\n",
       "          [115, 116, 117],\n",
       "          [118, 119, 120]]],\n",
       "\n",
       "\n",
       "        [[[121, 122, 123],\n",
       "          [124, 125, 126],\n",
       "          [127, 128, 129],\n",
       "          [130, 131, 132],\n",
       "          [133, 134, 135]],\n",
       "\n",
       "         [[136, 137, 138],\n",
       "          [139, 140, 141],\n",
       "          [142, 143, 144],\n",
       "          [145, 146, 147],\n",
       "          [148, 149, 150]],\n",
       "\n",
       "         [[151, 152, 153],\n",
       "          [154, 155, 156],\n",
       "          [157, 158, 159],\n",
       "          [160, 161, 162],\n",
       "          [163, 164, 165]],\n",
       "\n",
       "         [[166, 167, 168],\n",
       "          [169, 170, 171],\n",
       "          [172, 173, 174],\n",
       "          [175, 176, 177],\n",
       "          [178, 179, 180]]]],\n",
       "\n",
       "\n",
       "\n",
       "       [[[[181, 182, 183],\n",
       "          [184, 185, 186],\n",
       "          [187, 188, 189],\n",
       "          [190, 191, 192],\n",
       "          [193, 194, 195]],\n",
       "\n",
       "         [[196, 197, 198],\n",
       "          [199, 200, 201],\n",
       "          [202, 203, 204],\n",
       "          [205, 206, 207],\n",
       "          [208, 209, 210]],\n",
       "\n",
       "         [[211, 212, 213],\n",
       "          [214, 215, 216],\n",
       "          [217, 218, 219],\n",
       "          [220, 221, 222],\n",
       "          [223, 224, 225]],\n",
       "\n",
       "         [[226, 227, 228],\n",
       "          [229, 230, 231],\n",
       "          [232, 233, 234],\n",
       "          [235, 236, 237],\n",
       "          [238, 239, 240]]],\n",
       "\n",
       "\n",
       "        [[[241, 242, 243],\n",
       "          [244, 245, 246],\n",
       "          [247, 248, 249],\n",
       "          [250, 251, 252],\n",
       "          [253, 254, 255]],\n",
       "\n",
       "         [[256, 257, 258],\n",
       "          [259, 260, 261],\n",
       "          [262, 263, 264],\n",
       "          [265, 266, 267],\n",
       "          [268, 269, 270]],\n",
       "\n",
       "         [[271, 272, 273],\n",
       "          [274, 275, 276],\n",
       "          [277, 278, 279],\n",
       "          [280, 281, 282],\n",
       "          [283, 284, 285]],\n",
       "\n",
       "         [[286, 287, 288],\n",
       "          [289, 290, 291],\n",
       "          [292, 293, 294],\n",
       "          [295, 296, 297],\n",
       "          [298, 299, 300]]],\n",
       "\n",
       "\n",
       "        [[[301, 302, 303],\n",
       "          [304, 305, 306],\n",
       "          [307, 308, 309],\n",
       "          [310, 311, 312],\n",
       "          [313, 314, 315]],\n",
       "\n",
       "         [[316, 317, 318],\n",
       "          [319, 320, 321],\n",
       "          [322, 323, 324],\n",
       "          [325, 326, 327],\n",
       "          [328, 329, 330]],\n",
       "\n",
       "         [[331, 332, 333],\n",
       "          [334, 335, 336],\n",
       "          [337, 338, 339],\n",
       "          [340, 341, 342],\n",
       "          [343, 344, 345]],\n",
       "\n",
       "         [[346, 347, 348],\n",
       "          [349, 350, 351],\n",
       "          [352, 353, 354],\n",
       "          [355, 356, 357],\n",
       "          [358, 359, 360]]]],\n",
       "\n",
       "\n",
       "\n",
       "       [[[[361, 362, 363],\n",
       "          [364, 365, 366],\n",
       "          [367, 368, 369],\n",
       "          [370, 371, 372],\n",
       "          [373, 374, 375]],\n",
       "\n",
       "         [[376, 377, 378],\n",
       "          [379, 380, 381],\n",
       "          [382, 383, 384],\n",
       "          [385, 386, 387],\n",
       "          [388, 389, 390]],\n",
       "\n",
       "         [[391, 392, 393],\n",
       "          [394, 395, 396],\n",
       "          [397, 398, 399],\n",
       "          [400, 401, 402],\n",
       "          [403, 404, 405]],\n",
       "\n",
       "         [[406, 407, 408],\n",
       "          [409, 410, 411],\n",
       "          [412, 413, 414],\n",
       "          [415, 416, 417],\n",
       "          [418, 419, 420]]],\n",
       "\n",
       "\n",
       "        [[[421, 422, 423],\n",
       "          [424, 425, 426],\n",
       "          [427, 428, 429],\n",
       "          [430, 431, 432],\n",
       "          [433, 434, 435]],\n",
       "\n",
       "         [[436, 437, 438],\n",
       "          [439, 440, 441],\n",
       "          [442, 443, 444],\n",
       "          [445, 446, 447],\n",
       "          [448, 449, 450]],\n",
       "\n",
       "         [[451, 452, 453],\n",
       "          [454, 455, 456],\n",
       "          [457, 458, 459],\n",
       "          [460, 461, 462],\n",
       "          [463, 464, 465]],\n",
       "\n",
       "         [[466, 467, 468],\n",
       "          [469, 470, 471],\n",
       "          [472, 473, 474],\n",
       "          [475, 476, 477],\n",
       "          [478, 479, 480]]],\n",
       "\n",
       "\n",
       "        [[[481, 482, 483],\n",
       "          [484, 485, 486],\n",
       "          [487, 488, 489],\n",
       "          [490, 491, 492],\n",
       "          [493, 494, 495]],\n",
       "\n",
       "         [[496, 497, 498],\n",
       "          [499, 500, 501],\n",
       "          [502, 503, 504],\n",
       "          [505, 506, 507],\n",
       "          [508, 509, 510]],\n",
       "\n",
       "         [[511, 512, 513],\n",
       "          [514, 515, 516],\n",
       "          [517, 518, 519],\n",
       "          [520, 521, 522],\n",
       "          [523, 524, 525]],\n",
       "\n",
       "         [[526, 527, 528],\n",
       "          [529, 530, 531],\n",
       "          [532, 533, 534],\n",
       "          [535, 536, 537],\n",
       "          [538, 539, 540]]]],\n",
       "\n",
       "\n",
       "\n",
       "       [[[[541, 542, 543],\n",
       "          [544, 545, 546],\n",
       "          [547, 548, 549],\n",
       "          [550, 551, 552],\n",
       "          [553, 554, 555]],\n",
       "\n",
       "         [[556, 557, 558],\n",
       "          [559, 560, 561],\n",
       "          [562, 563, 564],\n",
       "          [565, 566, 567],\n",
       "          [568, 569, 570]],\n",
       "\n",
       "         [[571, 572, 573],\n",
       "          [574, 575, 576],\n",
       "          [577, 578, 579],\n",
       "          [580, 581, 582],\n",
       "          [583, 584, 585]],\n",
       "\n",
       "         [[586, 587, 588],\n",
       "          [589, 590, 591],\n",
       "          [592, 593, 594],\n",
       "          [595, 596, 597],\n",
       "          [598, 599, 600]]],\n",
       "\n",
       "\n",
       "        [[[601, 602, 603],\n",
       "          [604, 605, 606],\n",
       "          [607, 608, 609],\n",
       "          [610, 611, 612],\n",
       "          [613, 614, 615]],\n",
       "\n",
       "         [[616, 617, 618],\n",
       "          [619, 620, 621],\n",
       "          [622, 623, 624],\n",
       "          [625, 626, 627],\n",
       "          [628, 629, 630]],\n",
       "\n",
       "         [[631, 632, 633],\n",
       "          [634, 635, 636],\n",
       "          [637, 638, 639],\n",
       "          [640, 641, 642],\n",
       "          [643, 644, 645]],\n",
       "\n",
       "         [[646, 647, 648],\n",
       "          [649, 650, 651],\n",
       "          [652, 653, 654],\n",
       "          [655, 656, 657],\n",
       "          [658, 659, 660]]],\n",
       "\n",
       "\n",
       "        [[[661, 662, 663],\n",
       "          [664, 665, 666],\n",
       "          [667, 668, 669],\n",
       "          [670, 671, 672],\n",
       "          [673, 674, 675]],\n",
       "\n",
       "         [[676, 677, 678],\n",
       "          [679, 680, 681],\n",
       "          [682, 683, 684],\n",
       "          [685, 686, 687],\n",
       "          [688, 689, 690]],\n",
       "\n",
       "         [[691, 692, 693],\n",
       "          [694, 695, 696],\n",
       "          [697, 698, 699],\n",
       "          [700, 701, 702],\n",
       "          [703, 704, 705]],\n",
       "\n",
       "         [[706, 707, 708],\n",
       "          [709, 710, 711],\n",
       "          [712, 713, 714],\n",
       "          [715, 716, 717],\n",
       "          [718, 719, 720]]]]])"
      ]
     },
     "execution_count": 34,
     "metadata": {},
     "output_type": "execute_result"
    }
   ],
   "source": [
    "# (4,3,4,5,3)\n",
    "\n",
    "np_array8 = np.arange(1,721).reshape((4,3,4,5,3))\n",
    "np_array8"
   ]
  },
  {
   "cell_type": "code",
   "execution_count": 35,
   "metadata": {},
   "outputs": [
    {
     "data": {
      "text/plain": [
       "array([[[[[  1,   2,   3],\n",
       "          [  4,   5,   6],\n",
       "          [  7,   8,   9],\n",
       "          [ 10,  11,  12],\n",
       "          [ 13,  14,  15]],\n",
       "\n",
       "         [[ 16,  17,  18],\n",
       "          [ 19,  20,  21],\n",
       "          [ 22,  23,  24],\n",
       "          [ 25,  26,  27],\n",
       "          [ 28,  29,  30]],\n",
       "\n",
       "         [[ 31,  32,  33],\n",
       "          [ 34,  35,  36],\n",
       "          [ 37,  38,  39],\n",
       "          [ 40,  41,  42],\n",
       "          [ 43,  44,  45]],\n",
       "\n",
       "         [[ 46,  47,  48],\n",
       "          [ 49,  50,  51],\n",
       "          [ 52,  53,  54],\n",
       "          [ 55,  56,  57],\n",
       "          [ 58,  59,  60]]],\n",
       "\n",
       "\n",
       "        [[[ 61,  62,  63],\n",
       "          [ 64,  65,  66],\n",
       "          [ 67,  68,  69],\n",
       "          [ 70,  71,  72],\n",
       "          [ 73,  74,  75]],\n",
       "\n",
       "         [[ 76,  77,  78],\n",
       "          [ 79,  80,  81],\n",
       "          [ 82,  83,  84],\n",
       "          [ 85,  86,  87],\n",
       "          [ 88,  89,  90]],\n",
       "\n",
       "         [[ 91,  92,  93],\n",
       "          [ 94,  95,  96],\n",
       "          [ 97,  98,  99],\n",
       "          [100, 101, 102],\n",
       "          [103, 104, 105]],\n",
       "\n",
       "         [[106, 107, 108],\n",
       "          [109, 110, 111],\n",
       "          [112, 113, 114],\n",
       "          [115, 116, 117],\n",
       "          [118, 119, 120]]],\n",
       "\n",
       "\n",
       "        [[[121, 122, 123],\n",
       "          [124, 125, 126],\n",
       "          [127, 128, 129],\n",
       "          [130, 131, 132],\n",
       "          [133, 134, 135]],\n",
       "\n",
       "         [[136, 137, 138],\n",
       "          [139, 140, 141],\n",
       "          [142, 143, 144],\n",
       "          [145, 146, 147],\n",
       "          [148, 149, 150]],\n",
       "\n",
       "         [[151, 152, 153],\n",
       "          [154, 155, 156],\n",
       "          [157, 158, 159],\n",
       "          [160, 161, 162],\n",
       "          [163, 164, 165]],\n",
       "\n",
       "         [[166, 167, 168],\n",
       "          [169, 170, 171],\n",
       "          [172, 173, 174],\n",
       "          [175, 176, 177],\n",
       "          [178, 179, 180]]]],\n",
       "\n",
       "\n",
       "\n",
       "       [[[[181, 182, 183],\n",
       "          [184, 185, 186],\n",
       "          [187, 188, 189],\n",
       "          [190, 191, 192],\n",
       "          [193, 194, 195]],\n",
       "\n",
       "         [[196, 197, 198],\n",
       "          [199, 200, 201],\n",
       "          [202, 203, 204],\n",
       "          [205, 206, 207],\n",
       "          [208, 209, 210]],\n",
       "\n",
       "         [[211, 212, 213],\n",
       "          [214, 215, 216],\n",
       "          [217, 218, 219],\n",
       "          [220, 221, 222],\n",
       "          [223, 224, 225]],\n",
       "\n",
       "         [[226, 227, 228],\n",
       "          [229, 230, 231],\n",
       "          [232, 233, 234],\n",
       "          [235, 236, 237],\n",
       "          [238, 239, 240]]],\n",
       "\n",
       "\n",
       "        [[[241, 242, 243],\n",
       "          [244, 245, 246],\n",
       "          [247, 248, 249],\n",
       "          [250, 251, 252],\n",
       "          [253, 254, 255]],\n",
       "\n",
       "         [[256, 257, 258],\n",
       "          [259, 260, 261],\n",
       "          [262, 263, 264],\n",
       "          [265, 266, 267],\n",
       "          [268, 269, 270]],\n",
       "\n",
       "         [[271, 272, 273],\n",
       "          [274, 275, 276],\n",
       "          [277, 278, 279],\n",
       "          [280, 281, 282],\n",
       "          [283, 284, 285]],\n",
       "\n",
       "         [[286, 287, 288],\n",
       "          [289, 290, 291],\n",
       "          [292, 293, 294],\n",
       "          [295, 296, 297],\n",
       "          [298, 299, 300]]],\n",
       "\n",
       "\n",
       "        [[[301, 302, 303],\n",
       "          [304, 305, 306],\n",
       "          [307, 308, 309],\n",
       "          [310, 311, 312],\n",
       "          [313, 314, 315]],\n",
       "\n",
       "         [[316, 317, 318],\n",
       "          [319, 320, 321],\n",
       "          [322, 323, 324],\n",
       "          [325, 326, 327],\n",
       "          [328, 329, 330]],\n",
       "\n",
       "         [[331, 332, 333],\n",
       "          [334, 335, 336],\n",
       "          [337, 338, 339],\n",
       "          [340, 341, 342],\n",
       "          [343, 344, 345]],\n",
       "\n",
       "         [[346, 347, 348],\n",
       "          [349, 350, 351],\n",
       "          [352, 353, 354],\n",
       "          [355, 356, 357],\n",
       "          [358, 359, 360]]]],\n",
       "\n",
       "\n",
       "\n",
       "       [[[[361, 362, 363],\n",
       "          [364, 365, 366],\n",
       "          [367, 368, 369],\n",
       "          [370, 371, 372],\n",
       "          [373, 374, 375]],\n",
       "\n",
       "         [[376, 377, 378],\n",
       "          [379, 380, 381],\n",
       "          [382, 383, 384],\n",
       "          [385, 386, 387],\n",
       "          [388, 389, 390]],\n",
       "\n",
       "         [[391, 392, 393],\n",
       "          [394, 395, 396],\n",
       "          [397, 398, 399],\n",
       "          [400, 401, 402],\n",
       "          [403, 404, 405]],\n",
       "\n",
       "         [[406, 407, 408],\n",
       "          [409, 410, 411],\n",
       "          [412, 413, 414],\n",
       "          [415, 416, 417],\n",
       "          [418, 419, 420]]],\n",
       "\n",
       "\n",
       "        [[[421, 422, 423],\n",
       "          [424, 425, 426],\n",
       "          [427, 428, 429],\n",
       "          [430, 431, 432],\n",
       "          [433, 434, 435]],\n",
       "\n",
       "         [[436, 437, 438],\n",
       "          [439, 440, 441],\n",
       "          [442, 443, 444],\n",
       "          [445, 446, 447],\n",
       "          [448, 449, 450]],\n",
       "\n",
       "         [[451, 452, 453],\n",
       "          [454, 455, 456],\n",
       "          [457, 458, 459],\n",
       "          [460, 461, 462],\n",
       "          [463, 464, 465]],\n",
       "\n",
       "         [[466, 467, 468],\n",
       "          [469, 470, 471],\n",
       "          [472, 473, 474],\n",
       "          [475, 476, 477],\n",
       "          [478, 479, 480]]],\n",
       "\n",
       "\n",
       "        [[[481, 482, 483],\n",
       "          [484, 485, 486],\n",
       "          [487, 488, 489],\n",
       "          [490, 491, 492],\n",
       "          [493, 494, 495]],\n",
       "\n",
       "         [[496, 497, 498],\n",
       "          [499, 500, 501],\n",
       "          [502, 503, 504],\n",
       "          [505, 506, 507],\n",
       "          [508, 509, 510]],\n",
       "\n",
       "         [[511, 512, 513],\n",
       "          [514, 515, 516],\n",
       "          [517, 518, 519],\n",
       "          [520, 521, 522],\n",
       "          [523, 524, 525]],\n",
       "\n",
       "         [[526, 527, 528],\n",
       "          [529, 530, 531],\n",
       "          [532, 533, 534],\n",
       "          [535, 536, 537],\n",
       "          [538, 539, 540]]]],\n",
       "\n",
       "\n",
       "\n",
       "       [[[[541, 542, 543],\n",
       "          [544, 545, 546],\n",
       "          [547, 548, 549],\n",
       "          [550, 551, 552],\n",
       "          [553, 554, 555]],\n",
       "\n",
       "         [[556, 557, 558],\n",
       "          [559, 560, 561],\n",
       "          [562, 563, 564],\n",
       "          [565, 566, 567],\n",
       "          [568, 569, 570]],\n",
       "\n",
       "         [[571, 572, 573],\n",
       "          [574, 575, 576],\n",
       "          [577, 578, 579],\n",
       "          [580, 581, 582],\n",
       "          [583, 584, 585]],\n",
       "\n",
       "         [[586, 587, 588],\n",
       "          [589, 590, 591],\n",
       "          [592, 593, 594],\n",
       "          [595, 596, 597],\n",
       "          [598, 599, 600]]],\n",
       "\n",
       "\n",
       "        [[[601, 602, 603],\n",
       "          [604, 605, 606],\n",
       "          [607, 608, 609],\n",
       "          [610, 611, 612],\n",
       "          [613, 614, 615]],\n",
       "\n",
       "         [[616, 617, 618],\n",
       "          [619, 620, 621],\n",
       "          [622, 623, 624],\n",
       "          [625, 626, 627],\n",
       "          [628, 629, 630]],\n",
       "\n",
       "         [[631, 632, 633],\n",
       "          [634, 635, 636],\n",
       "          [637, 638, 639],\n",
       "          [640, 641, 642],\n",
       "          [643, 644, 645]],\n",
       "\n",
       "         [[646, 647, 648],\n",
       "          [649, 650, 651],\n",
       "          [652, 653, 654],\n",
       "          [655, 656, 657],\n",
       "          [658, 659, 660]]],\n",
       "\n",
       "\n",
       "        [[[661, 662, 663],\n",
       "          [664, 665, 666],\n",
       "          [667, 668, 669],\n",
       "          [670, 671, 672],\n",
       "          [673, 674, 675]],\n",
       "\n",
       "         [[676, 677, 678],\n",
       "          [679, 680, 681],\n",
       "          [682, 683, 684],\n",
       "          [685, 686, 687],\n",
       "          [688, 689, 690]],\n",
       "\n",
       "         [[691, 692, 693],\n",
       "          [694, 695, 696],\n",
       "          [697, 698, 699],\n",
       "          [700, 701, 702],\n",
       "          [703, 704, 705]],\n",
       "\n",
       "         [[706, 707, 708],\n",
       "          [709, 710, 711],\n",
       "          [712, 713, 714],\n",
       "          [715, 716, 717],\n",
       "          [718, 719, 720]]]]])"
      ]
     },
     "execution_count": 35,
     "metadata": {},
     "output_type": "execute_result"
    }
   ],
   "source": [
    "np_array8 = np.arange(1,721).reshape((4,3,4,5,-1))\n",
    "np_array8"
   ]
  },
  {
   "cell_type": "code",
   "execution_count": 36,
   "metadata": {},
   "outputs": [
    {
     "ename": "ValueError",
     "evalue": "can only specify one unknown dimension",
     "output_type": "error",
     "traceback": [
      "\u001b[1;31m---------------------------------------------------------------------------\u001b[0m",
      "\u001b[1;31mValueError\u001b[0m                                Traceback (most recent call last)",
      "Cell \u001b[1;32mIn[36], line 1\u001b[0m\n\u001b[1;32m----> 1\u001b[0m np_array8 \u001b[38;5;241m=\u001b[39m np\u001b[38;5;241m.\u001b[39marange(\u001b[38;5;241m1\u001b[39m,\u001b[38;5;241m721\u001b[39m)\u001b[38;5;241m.\u001b[39mreshape((\u001b[38;5;241m4\u001b[39m,\u001b[38;5;241m3\u001b[39m,\u001b[38;5;241m4\u001b[39m,\u001b[38;5;241m-\u001b[39m\u001b[38;5;241m1\u001b[39m,\u001b[38;5;241m-\u001b[39m\u001b[38;5;241m1\u001b[39m))\n\u001b[0;32m      2\u001b[0m np_array8\n",
      "\u001b[1;31mValueError\u001b[0m: can only specify one unknown dimension"
     ]
    }
   ],
   "source": [
    "np_array8 = np.arange(1,721).reshape((4,3,4,-1,-1))\n",
    "np_array8"
   ]
  },
  {
   "cell_type": "markdown",
   "metadata": {},
   "source": [
    "### max,min,argmax,argmin\n",
    "\n",
    "These are useful methods for finding max or min values. Or to find their index locations using argmin or argmax"
   ]
  },
  {
   "cell_type": "code",
   "execution_count": 37,
   "metadata": {},
   "outputs": [
    {
     "name": "stdout",
     "output_type": "stream",
     "text": [
      "[45 67 89 45]\n"
     ]
    }
   ],
   "source": [
    "myArray = np.array([45,67,89,45])\n",
    "print(myArray)"
   ]
  },
  {
   "cell_type": "code",
   "execution_count": 38,
   "metadata": {},
   "outputs": [
    {
     "name": "stdout",
     "output_type": "stream",
     "text": [
      "89\n"
     ]
    }
   ],
   "source": [
    "Maximum = myArray.max()\n",
    "print(Maximum)"
   ]
  },
  {
   "cell_type": "code",
   "execution_count": 39,
   "metadata": {},
   "outputs": [
    {
     "name": "stdout",
     "output_type": "stream",
     "text": [
      "45\n"
     ]
    }
   ],
   "source": [
    "Minimum = myArray.min()\n",
    "print(Minimum)"
   ]
  },
  {
   "cell_type": "code",
   "execution_count": 40,
   "metadata": {},
   "outputs": [
    {
     "data": {
      "text/plain": [
       "2"
      ]
     },
     "execution_count": 40,
     "metadata": {},
     "output_type": "execute_result"
    }
   ],
   "source": [
    "Maximum_ind = myArray.argmax()\n",
    "Maximum_ind"
   ]
  },
  {
   "cell_type": "code",
   "execution_count": 42,
   "metadata": {},
   "outputs": [
    {
     "data": {
      "text/plain": [
       "0"
      ]
     },
     "execution_count": 42,
     "metadata": {},
     "output_type": "execute_result"
    }
   ],
   "source": [
    "Minimum_ind = myArray.argmin()\n",
    "Minimum_ind"
   ]
  },
  {
   "cell_type": "code",
   "execution_count": 43,
   "metadata": {},
   "outputs": [
    {
     "name": "stdout",
     "output_type": "stream",
     "text": [
      "[[ 45  67  89  45]\n",
      " [ 67  56 123  54]\n",
      " [112   3   5   7]]\n"
     ]
    }
   ],
   "source": [
    "# Create a 2-D array and use max,min,argmax,argmin methods\n",
    "\n",
    "myArray = np.array([[45,67,89,45],\n",
    "                    [67,56,123,54],\n",
    "                   [112,3,5,7]])\n",
    "print(myArray)"
   ]
  },
  {
   "cell_type": "code",
   "execution_count": 44,
   "metadata": {},
   "outputs": [
    {
     "name": "stdout",
     "output_type": "stream",
     "text": [
      "Maximum 123\n",
      "Minimum 3\n"
     ]
    }
   ],
   "source": [
    "Max = myArray.max()\n",
    "print(\"Maximum\",Max)\n",
    "\n",
    "Min = myArray.min()\n",
    "print(\"Minimum\",Min)"
   ]
  },
  {
   "cell_type": "markdown",
   "metadata": {},
   "source": [
    "## Shape\n",
    "\n",
    "Shape is an attribute that arrays have (not a method):"
   ]
  },
  {
   "cell_type": "code",
   "execution_count": 50,
   "metadata": {},
   "outputs": [
    {
     "name": "stdout",
     "output_type": "stream",
     "text": [
      "3\n",
      "4\n"
     ]
    }
   ],
   "source": [
    "# Vector\n",
    "\n",
    "rows = myArray.shape[0]\n",
    "columns = myArray.shape[1]\n",
    "print(rows)\n",
    "print(columns)"
   ]
  },
  {
   "cell_type": "code",
   "execution_count": null,
   "metadata": {},
   "outputs": [],
   "source": []
  },
  {
   "cell_type": "markdown",
   "metadata": {},
   "source": [
    "### dtype\n",
    "\n",
    "You can also grab the data type of the object in the array:"
   ]
  },
  {
   "cell_type": "code",
   "execution_count": 51,
   "metadata": {},
   "outputs": [
    {
     "data": {
      "text/plain": [
       "dtype('int32')"
      ]
     },
     "execution_count": 51,
     "metadata": {},
     "output_type": "execute_result"
    }
   ],
   "source": [
    "myArray.dtype"
   ]
  },
  {
   "cell_type": "code",
   "execution_count": 52,
   "metadata": {},
   "outputs": [
    {
     "data": {
      "text/plain": [
       "array([[1.42173718e-312, 9.54898106e-313],\n",
       "       [1.18831764e-312, 1.14587773e-312],\n",
       "       [6.36598743e-314, 1.48539705e-313]])"
      ]
     },
     "execution_count": 52,
     "metadata": {},
     "output_type": "execute_result"
    }
   ],
   "source": [
    "myArray.dtype=float\n",
    "myArray"
   ]
  },
  {
   "cell_type": "code",
   "execution_count": 58,
   "metadata": {},
   "outputs": [
    {
     "data": {
      "text/plain": [
       "array([[6.31e-44, 9.39e-44, 1.25e-43, 6.31e-44],\n",
       "       [9.39e-44, 7.85e-44, 1.72e-43, 7.57e-44],\n",
       "       [1.57e-43, 4.20e-45, 7.01e-45, 9.81e-45]], dtype=float32)"
      ]
     },
     "execution_count": 58,
     "metadata": {},
     "output_type": "execute_result"
    }
   ],
   "source": [
    "myArray.dtype = ('float32')\n",
    "myArray"
   ]
  },
  {
   "cell_type": "code",
   "execution_count": 55,
   "metadata": {},
   "outputs": [
    {
     "data": {
      "text/plain": [
       "numpy.dtype[float64]"
      ]
     },
     "execution_count": 55,
     "metadata": {},
     "output_type": "execute_result"
    }
   ],
   "source": [
    "type(myArray.dtype)"
   ]
  },
  {
   "cell_type": "code",
   "execution_count": 59,
   "metadata": {},
   "outputs": [
    {
     "name": "stdout",
     "output_type": "stream",
     "text": [
      "[[ 45.  67.  89.  45.]\n",
      " [ 67.  56. 123.  54.]\n",
      " [112.   3.   5.   7.]]\n"
     ]
    }
   ],
   "source": [
    "myArray = np.array([[45,67,89,45],\n",
    "                    [67,56,123,54],\n",
    "                   [112,3,5,7]], dtype=float)\n",
    "print(myArray)"
   ]
  },
  {
   "cell_type": "code",
   "execution_count": null,
   "metadata": {},
   "outputs": [],
   "source": []
  }
 ],
 "metadata": {
  "kernelspec": {
   "display_name": "Python 3 (ipykernel)",
   "language": "python",
   "name": "python3"
  },
  "language_info": {
   "codemirror_mode": {
    "name": "ipython",
    "version": 3
   },
   "file_extension": ".py",
   "mimetype": "text/x-python",
   "name": "python",
   "nbconvert_exporter": "python",
   "pygments_lexer": "ipython3",
   "version": "3.11.4"
  }
 },
 "nbformat": 4,
 "nbformat_minor": 1
}
