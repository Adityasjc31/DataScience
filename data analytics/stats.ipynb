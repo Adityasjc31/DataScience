{
 "cells": [
  {
   "cell_type": "markdown",
   "metadata": {},
   "source": [
    "## 29/09/23 - Statistics\n",
    "Population - all the items <br>\n",
    "Sample - portion of population<br>\n",
    "`Two types of datas : `<br>\n",
    "- Primary - Data Collected by ourselves<br>\n",
    "- Secondary - Data given<br>\n",
    "<hr>\n",
    "\n",
    "## Probaility Sample : Simple Random Sample\n",
    " - Every individual or item from the frame has an equal chance of being selected\n",
    "\n",
    " <hr>\n",
    "\n",
    " ## Types of Variables\n",
    "  - Categorical(qualitative)\n",
    "  - Numerical (quantitative)\n",
    "    - Discrete - arises from a counting process\n",
    "    - Continuous - arises from measuring process\n",
    "    If categories have order then it's `oridinal` else it's `nominial` <br>\n",
    "<hr>\n",
    "\n",
    "## Levels of Measurement \n",
    " - Interval scale : difference b/w measurements is a meaningful quantity but the measurements do not have a true zero point . Example : temperature in degree celsius or fahrenheit\n",
    "\n",
    " - Ratio scale - is an ordered scale in which the difference between the measurements is a meaningful quantity and the measurements have a true zero point . Example : Height\n",
    "\n",
    " <hr>\n",
    "\n",
    "## For Visualizing Categorical Data\n",
    " - Bar Chart -  for categories\n",
    " - Pie Chart - for categories\n",
    " - Histogram - Univariate anaylsis\n",
    " - Scatter - relationship\n",
    " - Line Chart - Condition : Time should be their on horizontal axis\n",
    "\n",
    "<hr>\n",
    "\n",
    "## Descriptive Statistics\n",
    " - `Central tendency is the extent to which all the data values group around a typical or central value`\n",
    " - `The variation  is the amount of dispersion or scattering of values / measure of deviation`\n",
    " - `The shape is the pattern of the distribution of values from the lowest value to the highest value`\n",
    "<hr>\n",
    "\n",
    "## Measure of Central Tendency\n",
    " - `Mean/Arthmetic Mean` : (X1+X2+......+Xn)/n ; `Used when their are no outliers`\n",
    " - `Median` - if mean has outliers then we look for median (=n/2 and =(n+1)/2) ; `less sensitive to outliers`\n",
    " - `Mode` - most frequent - used for categorical data that is also nominal data\n",
    "\n",
    "<hr>\n",
    "\n",
    "## Measure of Variation : \n",
    " - Range - X(largest) - X(Smallest) ; `Ignores the way in which data is distributed`; `Senstitive to outliers`\n",
    " - Variance:\n",
    "   - Low variation : more points close to mean\n",
    "   - High variation : more points far from the mean\n",
    " - Standard deviation\n",
    " - Coefficient of variation\n",
    "\n",
    "`Measures of variation give information on the spread/variablity/dispersion of the data values`\n",
    "\n",
    "<hr>\n",
    "\n",
    "## The Sample Variance\n",
    "`Average(approximately) of squared deviations of values from the mean`\n",
    "<hr>\n",
    "\n",
    "## The Sample Standard Deviation\n",
    "`Most commonly used measure of variation`\n",
    "`Shows variation about the mean`\n",
    "`Is the square root of the variation`\n",
    "`Has the same units as the original data `\n",
    "\n",
    "<hr>\n",
    "\n",
    "## Comparing Standard Deviations\n",
    "`Used when two results in same`\n",
    " - Smaller Standard Deviation\n",
    " - Larger Standard Deviation\n",
    "\n",
    "<hr>\n",
    "\n",
    "## Locating Extreme Outliers : Z-Score\n",
    "`Z = X - Mean(X)/S`\n",
    "- |Z|<1 for 68% of data\n",
    "- |Z|<2 for 95% of data\n",
    "- |Z|<3 for 99.7% of data\n",
    "\n",
    "`So, values X with large |Z| can be outliers`"
   ]
  },
  {
   "cell_type": "markdown",
   "metadata": {},
   "source": [
    "## 03/09/23 - Implementation descriptive statistics"
   ]
  },
  {
   "cell_type": "code",
   "execution_count": 3,
   "metadata": {},
   "outputs": [],
   "source": [
    "import pandas as pd\n",
    "import matplotlib.pyplot as plt\n",
    "import seaborn as sns\n",
    "import numpy as np\n",
    "%matplotlib inline\n",
    "import plotly.express as px\n",
    "from wordcloud import WordCloud,STOPWORDS,ImageColorGenerator"
   ]
  },
  {
   "cell_type": "code",
   "execution_count": 4,
   "metadata": {},
   "outputs": [
    {
     "data": {
      "text/html": [
       "<div>\n",
       "<style scoped>\n",
       "    .dataframe tbody tr th:only-of-type {\n",
       "        vertical-align: middle;\n",
       "    }\n",
       "\n",
       "    .dataframe tbody tr th {\n",
       "        vertical-align: top;\n",
       "    }\n",
       "\n",
       "    .dataframe thead th {\n",
       "        text-align: right;\n",
       "    }\n",
       "</style>\n",
       "<table border=\"1\" class=\"dataframe\">\n",
       "  <thead>\n",
       "    <tr style=\"text-align: right;\">\n",
       "      <th></th>\n",
       "      <th>company</th>\n",
       "      <th>rank</th>\n",
       "      <th>rank_change</th>\n",
       "      <th>revenue</th>\n",
       "      <th>profit</th>\n",
       "      <th>num. of employees</th>\n",
       "      <th>sector</th>\n",
       "      <th>city</th>\n",
       "      <th>state</th>\n",
       "      <th>newcomer</th>\n",
       "      <th>ceo_founder</th>\n",
       "      <th>ceo_woman</th>\n",
       "      <th>profitable</th>\n",
       "      <th>prev_rank</th>\n",
       "      <th>CEO</th>\n",
       "      <th>Website</th>\n",
       "      <th>Ticker</th>\n",
       "      <th>Market Cap</th>\n",
       "    </tr>\n",
       "  </thead>\n",
       "  <tbody>\n",
       "    <tr>\n",
       "      <th>0</th>\n",
       "      <td>Walmart</td>\n",
       "      <td>1</td>\n",
       "      <td>0.0</td>\n",
       "      <td>572754.0</td>\n",
       "      <td>13673.0</td>\n",
       "      <td>2300000.0</td>\n",
       "      <td>Retailing</td>\n",
       "      <td>Bentonville</td>\n",
       "      <td>AR</td>\n",
       "      <td>no</td>\n",
       "      <td>no</td>\n",
       "      <td>no</td>\n",
       "      <td>yes</td>\n",
       "      <td>1.0</td>\n",
       "      <td>C. Douglas McMillon</td>\n",
       "      <td>https://www.stock.walmart.com</td>\n",
       "      <td>WMT</td>\n",
       "      <td>352037</td>\n",
       "    </tr>\n",
       "    <tr>\n",
       "      <th>1</th>\n",
       "      <td>Amazon</td>\n",
       "      <td>2</td>\n",
       "      <td>0.0</td>\n",
       "      <td>469822.0</td>\n",
       "      <td>33364.0</td>\n",
       "      <td>1608000.0</td>\n",
       "      <td>Retailing</td>\n",
       "      <td>Seattle</td>\n",
       "      <td>WA</td>\n",
       "      <td>no</td>\n",
       "      <td>no</td>\n",
       "      <td>no</td>\n",
       "      <td>yes</td>\n",
       "      <td>2.0</td>\n",
       "      <td>Andrew R. Jassy</td>\n",
       "      <td>www.amazon.com</td>\n",
       "      <td>AMZN</td>\n",
       "      <td>1202717</td>\n",
       "    </tr>\n",
       "    <tr>\n",
       "      <th>2</th>\n",
       "      <td>Apple</td>\n",
       "      <td>3</td>\n",
       "      <td>0.0</td>\n",
       "      <td>365817.0</td>\n",
       "      <td>94680.0</td>\n",
       "      <td>154000.0</td>\n",
       "      <td>Technology</td>\n",
       "      <td>Cupertino</td>\n",
       "      <td>CA</td>\n",
       "      <td>no</td>\n",
       "      <td>no</td>\n",
       "      <td>no</td>\n",
       "      <td>yes</td>\n",
       "      <td>3.0</td>\n",
       "      <td>Timothy D. Cook</td>\n",
       "      <td>www.apple.com</td>\n",
       "      <td>AAPL</td>\n",
       "      <td>2443962</td>\n",
       "    </tr>\n",
       "    <tr>\n",
       "      <th>3</th>\n",
       "      <td>CVS Health</td>\n",
       "      <td>4</td>\n",
       "      <td>0.0</td>\n",
       "      <td>292111.0</td>\n",
       "      <td>7910.0</td>\n",
       "      <td>258000.0</td>\n",
       "      <td>Health Care</td>\n",
       "      <td>Woonsocket</td>\n",
       "      <td>RI</td>\n",
       "      <td>no</td>\n",
       "      <td>no</td>\n",
       "      <td>yes</td>\n",
       "      <td>yes</td>\n",
       "      <td>4.0</td>\n",
       "      <td>Karen Lynch</td>\n",
       "      <td>https://www.cvshealth.com</td>\n",
       "      <td>CVS</td>\n",
       "      <td>125204</td>\n",
       "    </tr>\n",
       "    <tr>\n",
       "      <th>4</th>\n",
       "      <td>UnitedHealth Group</td>\n",
       "      <td>5</td>\n",
       "      <td>0.0</td>\n",
       "      <td>287597.0</td>\n",
       "      <td>17285.0</td>\n",
       "      <td>350000.0</td>\n",
       "      <td>Health Care</td>\n",
       "      <td>Minnetonka</td>\n",
       "      <td>MN</td>\n",
       "      <td>no</td>\n",
       "      <td>no</td>\n",
       "      <td>no</td>\n",
       "      <td>yes</td>\n",
       "      <td>5.0</td>\n",
       "      <td>Andrew P. Witty</td>\n",
       "      <td>www.unitedhealthgroup.com</td>\n",
       "      <td>UNH</td>\n",
       "      <td>500468</td>\n",
       "    </tr>\n",
       "  </tbody>\n",
       "</table>\n",
       "</div>"
      ],
      "text/plain": [
       "              company  rank  rank_change   revenue   profit  \\\n",
       "0             Walmart     1          0.0  572754.0  13673.0   \n",
       "1              Amazon     2          0.0  469822.0  33364.0   \n",
       "2               Apple     3          0.0  365817.0  94680.0   \n",
       "3          CVS Health     4          0.0  292111.0   7910.0   \n",
       "4  UnitedHealth Group     5          0.0  287597.0  17285.0   \n",
       "\n",
       "   num. of employees       sector         city state newcomer ceo_founder  \\\n",
       "0          2300000.0    Retailing  Bentonville    AR       no          no   \n",
       "1          1608000.0    Retailing      Seattle    WA       no          no   \n",
       "2           154000.0   Technology    Cupertino    CA       no          no   \n",
       "3           258000.0  Health Care   Woonsocket    RI       no          no   \n",
       "4           350000.0  Health Care   Minnetonka    MN       no          no   \n",
       "\n",
       "  ceo_woman profitable prev_rank                  CEO  \\\n",
       "0        no        yes       1.0  C. Douglas McMillon   \n",
       "1        no        yes       2.0      Andrew R. Jassy   \n",
       "2        no        yes       3.0      Timothy D. Cook   \n",
       "3       yes        yes       4.0          Karen Lynch   \n",
       "4        no        yes       5.0      Andrew P. Witty   \n",
       "\n",
       "                         Website Ticker Market Cap  \n",
       "0  https://www.stock.walmart.com    WMT     352037  \n",
       "1                 www.amazon.com   AMZN    1202717  \n",
       "2                  www.apple.com   AAPL    2443962  \n",
       "3      https://www.cvshealth.com    CVS     125204  \n",
       "4      www.unitedhealthgroup.com    UNH     500468  "
      ]
     },
     "execution_count": 4,
     "metadata": {},
     "output_type": "execute_result"
    }
   ],
   "source": [
    "fortune = pd.read_csv(\"../dataset/Fortune_1000.csv\")\n",
    "fortune.head()"
   ]
  },
  {
   "cell_type": "code",
   "execution_count": 6,
   "metadata": {},
   "outputs": [
    {
     "data": {
      "text/plain": [
       "(1000, 18)"
      ]
     },
     "execution_count": 6,
     "metadata": {},
     "output_type": "execute_result"
    }
   ],
   "source": [
    "fortune.shape"
   ]
  },
  {
   "cell_type": "code",
   "execution_count": 8,
   "metadata": {},
   "outputs": [
    {
     "data": {
      "text/plain": [
       "Index(['company', 'rank', 'rank_change', 'revenue', 'profit',\n",
       "       'num. of employees', 'sector', 'city', 'state', 'newcomer',\n",
       "       'ceo_founder', 'ceo_woman', 'profitable', 'prev_rank', 'CEO', 'Website',\n",
       "       'Ticker', 'Market Cap'],\n",
       "      dtype='object')"
      ]
     },
     "execution_count": 8,
     "metadata": {},
     "output_type": "execute_result"
    }
   ],
   "source": [
    "fortune.columns"
   ]
  },
  {
   "cell_type": "code",
   "execution_count": 12,
   "metadata": {},
   "outputs": [
    {
     "name": "stdout",
     "output_type": "stream",
     "text": [
      "<class 'pandas.core.frame.DataFrame'>\n",
      "RangeIndex: 1000 entries, 0 to 999\n",
      "Data columns (total 18 columns):\n",
      " #   Column             Non-Null Count  Dtype  \n",
      "---  ------             --------------  -----  \n",
      " 0   company            1000 non-null   object \n",
      " 1   rank               1000 non-null   int64  \n",
      " 2   rank_change        1000 non-null   float64\n",
      " 3   revenue            1000 non-null   float64\n",
      " 4   profit             997 non-null    float64\n",
      " 5   num. of employees  999 non-null    float64\n",
      " 6   sector             1000 non-null   object \n",
      " 7   city               1000 non-null   object \n",
      " 8   state              1000 non-null   object \n",
      " 9   newcomer           1000 non-null   object \n",
      " 10  ceo_founder        1000 non-null   object \n",
      " 11  ceo_woman          1000 non-null   object \n",
      " 12  profitable         1000 non-null   object \n",
      " 13  prev_rank          1000 non-null   object \n",
      " 14  CEO                1000 non-null   object \n",
      " 15  Website            1000 non-null   object \n",
      " 16  Ticker             951 non-null    object \n",
      " 17  Market Cap         969 non-null    object \n",
      "dtypes: float64(4), int64(1), object(13)\n",
      "memory usage: 140.8+ KB\n"
     ]
    }
   ],
   "source": [
    "fortune.info()"
   ]
  },
  {
   "cell_type": "code",
   "execution_count": 14,
   "metadata": {},
   "outputs": [
    {
     "data": {
      "text/plain": [
       "company               0\n",
       "rank                  0\n",
       "rank_change           0\n",
       "revenue               0\n",
       "profit                3\n",
       "num. of employees     1\n",
       "sector                0\n",
       "city                  0\n",
       "state                 0\n",
       "newcomer              0\n",
       "ceo_founder           0\n",
       "ceo_woman             0\n",
       "profitable            0\n",
       "prev_rank             0\n",
       "CEO                   0\n",
       "Website               0\n",
       "Ticker               49\n",
       "Market Cap           31\n",
       "dtype: int64"
      ]
     },
     "execution_count": 14,
     "metadata": {},
     "output_type": "execute_result"
    }
   ],
   "source": [
    "fortune.isna().sum()"
   ]
  },
  {
   "cell_type": "code",
   "execution_count": 16,
   "metadata": {},
   "outputs": [
    {
     "data": {
      "text/html": [
       "<div>\n",
       "<style scoped>\n",
       "    .dataframe tbody tr th:only-of-type {\n",
       "        vertical-align: middle;\n",
       "    }\n",
       "\n",
       "    .dataframe tbody tr th {\n",
       "        vertical-align: top;\n",
       "    }\n",
       "\n",
       "    .dataframe thead th {\n",
       "        text-align: right;\n",
       "    }\n",
       "</style>\n",
       "<table border=\"1\" class=\"dataframe\">\n",
       "  <thead>\n",
       "    <tr style=\"text-align: right;\">\n",
       "      <th></th>\n",
       "      <th>count</th>\n",
       "      <th>mean</th>\n",
       "      <th>std</th>\n",
       "      <th>min</th>\n",
       "      <th>25%</th>\n",
       "      <th>50%</th>\n",
       "      <th>75%</th>\n",
       "      <th>max</th>\n",
       "    </tr>\n",
       "  </thead>\n",
       "  <tbody>\n",
       "    <tr>\n",
       "      <th>rank</th>\n",
       "      <td>1000.0</td>\n",
       "      <td>500.50</td>\n",
       "      <td>288.82</td>\n",
       "      <td>1.0</td>\n",
       "      <td>250.75</td>\n",
       "      <td>500.5</td>\n",
       "      <td>750.25</td>\n",
       "      <td>1000.0</td>\n",
       "    </tr>\n",
       "    <tr>\n",
       "      <th>rank_change</th>\n",
       "      <td>1000.0</td>\n",
       "      <td>-0.70</td>\n",
       "      <td>31.82</td>\n",
       "      <td>-178.0</td>\n",
       "      <td>-3.00</td>\n",
       "      <td>0.0</td>\n",
       "      <td>0.00</td>\n",
       "      <td>295.0</td>\n",
       "    </tr>\n",
       "    <tr>\n",
       "      <th>revenue</th>\n",
       "      <td>1000.0</td>\n",
       "      <td>17986.80</td>\n",
       "      <td>40813.28</td>\n",
       "      <td>2107.2</td>\n",
       "      <td>3500.75</td>\n",
       "      <td>6375.5</td>\n",
       "      <td>14615.48</td>\n",
       "      <td>572754.0</td>\n",
       "    </tr>\n",
       "    <tr>\n",
       "      <th>profit</th>\n",
       "      <td>997.0</td>\n",
       "      <td>2026.48</td>\n",
       "      <td>6421.58</td>\n",
       "      <td>-6520.0</td>\n",
       "      <td>195.40</td>\n",
       "      <td>572.0</td>\n",
       "      <td>1498.30</td>\n",
       "      <td>94680.0</td>\n",
       "    </tr>\n",
       "    <tr>\n",
       "      <th>num. of employees</th>\n",
       "      <td>999.0</td>\n",
       "      <td>35788.67</td>\n",
       "      <td>104654.65</td>\n",
       "      <td>160.0</td>\n",
       "      <td>6500.00</td>\n",
       "      <td>13530.0</td>\n",
       "      <td>28900.00</td>\n",
       "      <td>2300000.0</td>\n",
       "    </tr>\n",
       "  </tbody>\n",
       "</table>\n",
       "</div>"
      ],
      "text/plain": [
       "                    count      mean        std     min      25%      50%  \\\n",
       "rank               1000.0    500.50     288.82     1.0   250.75    500.5   \n",
       "rank_change        1000.0     -0.70      31.82  -178.0    -3.00      0.0   \n",
       "revenue            1000.0  17986.80   40813.28  2107.2  3500.75   6375.5   \n",
       "profit              997.0   2026.48    6421.58 -6520.0   195.40    572.0   \n",
       "num. of employees   999.0  35788.67  104654.65   160.0  6500.00  13530.0   \n",
       "\n",
       "                        75%        max  \n",
       "rank                 750.25     1000.0  \n",
       "rank_change            0.00      295.0  \n",
       "revenue            14615.48   572754.0  \n",
       "profit              1498.30    94680.0  \n",
       "num. of employees  28900.00  2300000.0  "
      ]
     },
     "execution_count": 16,
     "metadata": {},
     "output_type": "execute_result"
    }
   ],
   "source": [
    "fortune.describe().round(2).T"
   ]
  },
  {
   "cell_type": "code",
   "execution_count": 19,
   "metadata": {},
   "outputs": [
    {
     "data": {
      "text/html": [
       "<div>\n",
       "<style scoped>\n",
       "    .dataframe tbody tr th:only-of-type {\n",
       "        vertical-align: middle;\n",
       "    }\n",
       "\n",
       "    .dataframe tbody tr th {\n",
       "        vertical-align: top;\n",
       "    }\n",
       "\n",
       "    .dataframe thead th {\n",
       "        text-align: right;\n",
       "    }\n",
       "</style>\n",
       "<table border=\"1\" class=\"dataframe\">\n",
       "  <thead>\n",
       "    <tr style=\"text-align: right;\">\n",
       "      <th></th>\n",
       "      <th>count</th>\n",
       "      <th>unique</th>\n",
       "      <th>top</th>\n",
       "      <th>freq</th>\n",
       "    </tr>\n",
       "  </thead>\n",
       "  <tbody>\n",
       "    <tr>\n",
       "      <th>company</th>\n",
       "      <td>1000</td>\n",
       "      <td>1000</td>\n",
       "      <td>Walmart</td>\n",
       "      <td>1</td>\n",
       "    </tr>\n",
       "    <tr>\n",
       "      <th>sector</th>\n",
       "      <td>1000</td>\n",
       "      <td>21</td>\n",
       "      <td>Financials</td>\n",
       "      <td>166</td>\n",
       "    </tr>\n",
       "    <tr>\n",
       "      <th>city</th>\n",
       "      <td>1000</td>\n",
       "      <td>400</td>\n",
       "      <td>New York</td>\n",
       "      <td>68</td>\n",
       "    </tr>\n",
       "    <tr>\n",
       "      <th>state</th>\n",
       "      <td>1000</td>\n",
       "      <td>46</td>\n",
       "      <td>CA</td>\n",
       "      <td>131</td>\n",
       "    </tr>\n",
       "    <tr>\n",
       "      <th>newcomer</th>\n",
       "      <td>1000</td>\n",
       "      <td>2</td>\n",
       "      <td>no</td>\n",
       "      <td>970</td>\n",
       "    </tr>\n",
       "    <tr>\n",
       "      <th>ceo_founder</th>\n",
       "      <td>1000</td>\n",
       "      <td>2</td>\n",
       "      <td>no</td>\n",
       "      <td>944</td>\n",
       "    </tr>\n",
       "    <tr>\n",
       "      <th>ceo_woman</th>\n",
       "      <td>1000</td>\n",
       "      <td>2</td>\n",
       "      <td>no</td>\n",
       "      <td>917</td>\n",
       "    </tr>\n",
       "    <tr>\n",
       "      <th>profitable</th>\n",
       "      <td>1000</td>\n",
       "      <td>2</td>\n",
       "      <td>yes</td>\n",
       "      <td>883</td>\n",
       "    </tr>\n",
       "    <tr>\n",
       "      <th>prev_rank</th>\n",
       "      <td>1000</td>\n",
       "      <td>469</td>\n",
       "      <td></td>\n",
       "      <td>531</td>\n",
       "    </tr>\n",
       "    <tr>\n",
       "      <th>CEO</th>\n",
       "      <td>1000</td>\n",
       "      <td>994</td>\n",
       "      <td>#REF!</td>\n",
       "      <td>5</td>\n",
       "    </tr>\n",
       "    <tr>\n",
       "      <th>Website</th>\n",
       "      <td>1000</td>\n",
       "      <td>1000</td>\n",
       "      <td>https://www.stock.walmart.com</td>\n",
       "      <td>1</td>\n",
       "    </tr>\n",
       "    <tr>\n",
       "      <th>Ticker</th>\n",
       "      <td>951</td>\n",
       "      <td>951</td>\n",
       "      <td>WMT</td>\n",
       "      <td>1</td>\n",
       "    </tr>\n",
       "    <tr>\n",
       "      <th>Market Cap</th>\n",
       "      <td>969</td>\n",
       "      <td>959</td>\n",
       "      <td>-</td>\n",
       "      <td>8</td>\n",
       "    </tr>\n",
       "  </tbody>\n",
       "</table>\n",
       "</div>"
      ],
      "text/plain": [
       "            count unique                            top freq\n",
       "company      1000   1000                        Walmart    1\n",
       "sector       1000     21                     Financials  166\n",
       "city         1000    400                       New York   68\n",
       "state        1000     46                             CA  131\n",
       "newcomer     1000      2                             no  970\n",
       "ceo_founder  1000      2                             no  944\n",
       "ceo_woman    1000      2                             no  917\n",
       "profitable   1000      2                            yes  883\n",
       "prev_rank    1000    469                                 531\n",
       "CEO          1000    994                          #REF!    5\n",
       "Website      1000   1000  https://www.stock.walmart.com    1\n",
       "Ticker        951    951                            WMT    1\n",
       "Market Cap    969    959                              -    8"
      ]
     },
     "execution_count": 19,
     "metadata": {},
     "output_type": "execute_result"
    }
   ],
   "source": [
    "fortune.describe(include=\"object\").T"
   ]
  },
  {
   "cell_type": "code",
   "execution_count": 21,
   "metadata": {},
   "outputs": [
    {
     "data": {
      "text/html": [
       "<div>\n",
       "<style scoped>\n",
       "    .dataframe tbody tr th:only-of-type {\n",
       "        vertical-align: middle;\n",
       "    }\n",
       "\n",
       "    .dataframe tbody tr th {\n",
       "        vertical-align: top;\n",
       "    }\n",
       "\n",
       "    .dataframe thead th {\n",
       "        text-align: right;\n",
       "    }\n",
       "</style>\n",
       "<table border=\"1\" class=\"dataframe\">\n",
       "  <thead>\n",
       "    <tr style=\"text-align: right;\">\n",
       "      <th></th>\n",
       "      <th>count</th>\n",
       "      <th>unique</th>\n",
       "      <th>top</th>\n",
       "      <th>freq</th>\n",
       "      <th>mean</th>\n",
       "      <th>std</th>\n",
       "      <th>min</th>\n",
       "      <th>25%</th>\n",
       "      <th>50%</th>\n",
       "      <th>75%</th>\n",
       "      <th>max</th>\n",
       "    </tr>\n",
       "  </thead>\n",
       "  <tbody>\n",
       "    <tr>\n",
       "      <th>company</th>\n",
       "      <td>1000</td>\n",
       "      <td>1000</td>\n",
       "      <td>Walmart</td>\n",
       "      <td>1</td>\n",
       "      <td>NaN</td>\n",
       "      <td>NaN</td>\n",
       "      <td>NaN</td>\n",
       "      <td>NaN</td>\n",
       "      <td>NaN</td>\n",
       "      <td>NaN</td>\n",
       "      <td>NaN</td>\n",
       "    </tr>\n",
       "    <tr>\n",
       "      <th>rank</th>\n",
       "      <td>1000.0</td>\n",
       "      <td>NaN</td>\n",
       "      <td>NaN</td>\n",
       "      <td>NaN</td>\n",
       "      <td>500.497</td>\n",
       "      <td>288.818067</td>\n",
       "      <td>1.0</td>\n",
       "      <td>250.75</td>\n",
       "      <td>500.5</td>\n",
       "      <td>750.25</td>\n",
       "      <td>1000.0</td>\n",
       "    </tr>\n",
       "    <tr>\n",
       "      <th>rank_change</th>\n",
       "      <td>1000.0</td>\n",
       "      <td>NaN</td>\n",
       "      <td>NaN</td>\n",
       "      <td>NaN</td>\n",
       "      <td>-0.701</td>\n",
       "      <td>31.818674</td>\n",
       "      <td>-178.0</td>\n",
       "      <td>-3.0</td>\n",
       "      <td>0.0</td>\n",
       "      <td>0.0</td>\n",
       "      <td>295.0</td>\n",
       "    </tr>\n",
       "    <tr>\n",
       "      <th>revenue</th>\n",
       "      <td>1000.0</td>\n",
       "      <td>NaN</td>\n",
       "      <td>NaN</td>\n",
       "      <td>NaN</td>\n",
       "      <td>17986.8014</td>\n",
       "      <td>40813.281554</td>\n",
       "      <td>2107.2</td>\n",
       "      <td>3500.75</td>\n",
       "      <td>6375.5</td>\n",
       "      <td>14615.475</td>\n",
       "      <td>572754.0</td>\n",
       "    </tr>\n",
       "    <tr>\n",
       "      <th>profit</th>\n",
       "      <td>997.0</td>\n",
       "      <td>NaN</td>\n",
       "      <td>NaN</td>\n",
       "      <td>NaN</td>\n",
       "      <td>2026.476329</td>\n",
       "      <td>6421.578081</td>\n",
       "      <td>-6520.0</td>\n",
       "      <td>195.4</td>\n",
       "      <td>572.0</td>\n",
       "      <td>1498.3</td>\n",
       "      <td>94680.0</td>\n",
       "    </tr>\n",
       "    <tr>\n",
       "      <th>num. of employees</th>\n",
       "      <td>999.0</td>\n",
       "      <td>NaN</td>\n",
       "      <td>NaN</td>\n",
       "      <td>NaN</td>\n",
       "      <td>35788.668669</td>\n",
       "      <td>104654.648971</td>\n",
       "      <td>160.0</td>\n",
       "      <td>6500.0</td>\n",
       "      <td>13530.0</td>\n",
       "      <td>28900.0</td>\n",
       "      <td>2300000.0</td>\n",
       "    </tr>\n",
       "    <tr>\n",
       "      <th>sector</th>\n",
       "      <td>1000</td>\n",
       "      <td>21</td>\n",
       "      <td>Financials</td>\n",
       "      <td>166</td>\n",
       "      <td>NaN</td>\n",
       "      <td>NaN</td>\n",
       "      <td>NaN</td>\n",
       "      <td>NaN</td>\n",
       "      <td>NaN</td>\n",
       "      <td>NaN</td>\n",
       "      <td>NaN</td>\n",
       "    </tr>\n",
       "    <tr>\n",
       "      <th>city</th>\n",
       "      <td>1000</td>\n",
       "      <td>400</td>\n",
       "      <td>New York</td>\n",
       "      <td>68</td>\n",
       "      <td>NaN</td>\n",
       "      <td>NaN</td>\n",
       "      <td>NaN</td>\n",
       "      <td>NaN</td>\n",
       "      <td>NaN</td>\n",
       "      <td>NaN</td>\n",
       "      <td>NaN</td>\n",
       "    </tr>\n",
       "    <tr>\n",
       "      <th>state</th>\n",
       "      <td>1000</td>\n",
       "      <td>46</td>\n",
       "      <td>CA</td>\n",
       "      <td>131</td>\n",
       "      <td>NaN</td>\n",
       "      <td>NaN</td>\n",
       "      <td>NaN</td>\n",
       "      <td>NaN</td>\n",
       "      <td>NaN</td>\n",
       "      <td>NaN</td>\n",
       "      <td>NaN</td>\n",
       "    </tr>\n",
       "    <tr>\n",
       "      <th>newcomer</th>\n",
       "      <td>1000</td>\n",
       "      <td>2</td>\n",
       "      <td>no</td>\n",
       "      <td>970</td>\n",
       "      <td>NaN</td>\n",
       "      <td>NaN</td>\n",
       "      <td>NaN</td>\n",
       "      <td>NaN</td>\n",
       "      <td>NaN</td>\n",
       "      <td>NaN</td>\n",
       "      <td>NaN</td>\n",
       "    </tr>\n",
       "    <tr>\n",
       "      <th>ceo_founder</th>\n",
       "      <td>1000</td>\n",
       "      <td>2</td>\n",
       "      <td>no</td>\n",
       "      <td>944</td>\n",
       "      <td>NaN</td>\n",
       "      <td>NaN</td>\n",
       "      <td>NaN</td>\n",
       "      <td>NaN</td>\n",
       "      <td>NaN</td>\n",
       "      <td>NaN</td>\n",
       "      <td>NaN</td>\n",
       "    </tr>\n",
       "    <tr>\n",
       "      <th>ceo_woman</th>\n",
       "      <td>1000</td>\n",
       "      <td>2</td>\n",
       "      <td>no</td>\n",
       "      <td>917</td>\n",
       "      <td>NaN</td>\n",
       "      <td>NaN</td>\n",
       "      <td>NaN</td>\n",
       "      <td>NaN</td>\n",
       "      <td>NaN</td>\n",
       "      <td>NaN</td>\n",
       "      <td>NaN</td>\n",
       "    </tr>\n",
       "    <tr>\n",
       "      <th>profitable</th>\n",
       "      <td>1000</td>\n",
       "      <td>2</td>\n",
       "      <td>yes</td>\n",
       "      <td>883</td>\n",
       "      <td>NaN</td>\n",
       "      <td>NaN</td>\n",
       "      <td>NaN</td>\n",
       "      <td>NaN</td>\n",
       "      <td>NaN</td>\n",
       "      <td>NaN</td>\n",
       "      <td>NaN</td>\n",
       "    </tr>\n",
       "    <tr>\n",
       "      <th>prev_rank</th>\n",
       "      <td>1000</td>\n",
       "      <td>469</td>\n",
       "      <td></td>\n",
       "      <td>531</td>\n",
       "      <td>NaN</td>\n",
       "      <td>NaN</td>\n",
       "      <td>NaN</td>\n",
       "      <td>NaN</td>\n",
       "      <td>NaN</td>\n",
       "      <td>NaN</td>\n",
       "      <td>NaN</td>\n",
       "    </tr>\n",
       "    <tr>\n",
       "      <th>CEO</th>\n",
       "      <td>1000</td>\n",
       "      <td>994</td>\n",
       "      <td>#REF!</td>\n",
       "      <td>5</td>\n",
       "      <td>NaN</td>\n",
       "      <td>NaN</td>\n",
       "      <td>NaN</td>\n",
       "      <td>NaN</td>\n",
       "      <td>NaN</td>\n",
       "      <td>NaN</td>\n",
       "      <td>NaN</td>\n",
       "    </tr>\n",
       "    <tr>\n",
       "      <th>Website</th>\n",
       "      <td>1000</td>\n",
       "      <td>1000</td>\n",
       "      <td>https://www.stock.walmart.com</td>\n",
       "      <td>1</td>\n",
       "      <td>NaN</td>\n",
       "      <td>NaN</td>\n",
       "      <td>NaN</td>\n",
       "      <td>NaN</td>\n",
       "      <td>NaN</td>\n",
       "      <td>NaN</td>\n",
       "      <td>NaN</td>\n",
       "    </tr>\n",
       "    <tr>\n",
       "      <th>Ticker</th>\n",
       "      <td>951</td>\n",
       "      <td>951</td>\n",
       "      <td>WMT</td>\n",
       "      <td>1</td>\n",
       "      <td>NaN</td>\n",
       "      <td>NaN</td>\n",
       "      <td>NaN</td>\n",
       "      <td>NaN</td>\n",
       "      <td>NaN</td>\n",
       "      <td>NaN</td>\n",
       "      <td>NaN</td>\n",
       "    </tr>\n",
       "    <tr>\n",
       "      <th>Market Cap</th>\n",
       "      <td>969</td>\n",
       "      <td>959</td>\n",
       "      <td>-</td>\n",
       "      <td>8</td>\n",
       "      <td>NaN</td>\n",
       "      <td>NaN</td>\n",
       "      <td>NaN</td>\n",
       "      <td>NaN</td>\n",
       "      <td>NaN</td>\n",
       "      <td>NaN</td>\n",
       "      <td>NaN</td>\n",
       "    </tr>\n",
       "  </tbody>\n",
       "</table>\n",
       "</div>"
      ],
      "text/plain": [
       "                    count unique                            top freq  \\\n",
       "company              1000   1000                        Walmart    1   \n",
       "rank               1000.0    NaN                            NaN  NaN   \n",
       "rank_change        1000.0    NaN                            NaN  NaN   \n",
       "revenue            1000.0    NaN                            NaN  NaN   \n",
       "profit              997.0    NaN                            NaN  NaN   \n",
       "num. of employees   999.0    NaN                            NaN  NaN   \n",
       "sector               1000     21                     Financials  166   \n",
       "city                 1000    400                       New York   68   \n",
       "state                1000     46                             CA  131   \n",
       "newcomer             1000      2                             no  970   \n",
       "ceo_founder          1000      2                             no  944   \n",
       "ceo_woman            1000      2                             no  917   \n",
       "profitable           1000      2                            yes  883   \n",
       "prev_rank            1000    469                                 531   \n",
       "CEO                  1000    994                          #REF!    5   \n",
       "Website              1000   1000  https://www.stock.walmart.com    1   \n",
       "Ticker                951    951                            WMT    1   \n",
       "Market Cap            969    959                              -    8   \n",
       "\n",
       "                           mean            std     min      25%      50%  \\\n",
       "company                     NaN            NaN     NaN      NaN      NaN   \n",
       "rank                    500.497     288.818067     1.0   250.75    500.5   \n",
       "rank_change              -0.701      31.818674  -178.0     -3.0      0.0   \n",
       "revenue              17986.8014   40813.281554  2107.2  3500.75   6375.5   \n",
       "profit              2026.476329    6421.578081 -6520.0    195.4    572.0   \n",
       "num. of employees  35788.668669  104654.648971   160.0   6500.0  13530.0   \n",
       "sector                      NaN            NaN     NaN      NaN      NaN   \n",
       "city                        NaN            NaN     NaN      NaN      NaN   \n",
       "state                       NaN            NaN     NaN      NaN      NaN   \n",
       "newcomer                    NaN            NaN     NaN      NaN      NaN   \n",
       "ceo_founder                 NaN            NaN     NaN      NaN      NaN   \n",
       "ceo_woman                   NaN            NaN     NaN      NaN      NaN   \n",
       "profitable                  NaN            NaN     NaN      NaN      NaN   \n",
       "prev_rank                   NaN            NaN     NaN      NaN      NaN   \n",
       "CEO                         NaN            NaN     NaN      NaN      NaN   \n",
       "Website                     NaN            NaN     NaN      NaN      NaN   \n",
       "Ticker                      NaN            NaN     NaN      NaN      NaN   \n",
       "Market Cap                  NaN            NaN     NaN      NaN      NaN   \n",
       "\n",
       "                         75%        max  \n",
       "company                  NaN        NaN  \n",
       "rank                  750.25     1000.0  \n",
       "rank_change              0.0      295.0  \n",
       "revenue            14615.475   572754.0  \n",
       "profit                1498.3    94680.0  \n",
       "num. of employees    28900.0  2300000.0  \n",
       "sector                   NaN        NaN  \n",
       "city                     NaN        NaN  \n",
       "state                    NaN        NaN  \n",
       "newcomer                 NaN        NaN  \n",
       "ceo_founder              NaN        NaN  \n",
       "ceo_woman                NaN        NaN  \n",
       "profitable               NaN        NaN  \n",
       "prev_rank                NaN        NaN  \n",
       "CEO                      NaN        NaN  \n",
       "Website                  NaN        NaN  \n",
       "Ticker                   NaN        NaN  \n",
       "Market Cap               NaN        NaN  "
      ]
     },
     "execution_count": 21,
     "metadata": {},
     "output_type": "execute_result"
    }
   ],
   "source": [
    "fortune.describe(include=\"all\").T"
   ]
  },
  {
   "cell_type": "code",
   "execution_count": 26,
   "metadata": {},
   "outputs": [
    {
     "data": {
      "text/plain": [
       "17986.8"
      ]
     },
     "execution_count": 26,
     "metadata": {},
     "output_type": "execute_result"
    }
   ],
   "source": [
    "average_rev= fortune['revenue'].mean()\n",
    "average_rev.round(2)"
   ]
  },
  {
   "cell_type": "code",
   "execution_count": 30,
   "metadata": {},
   "outputs": [
    {
     "data": {
      "text/plain": [
       "6375.5"
      ]
     },
     "execution_count": 30,
     "metadata": {},
     "output_type": "execute_result"
    }
   ],
   "source": [
    "median = fortune['revenue'].median()\n",
    "median"
   ]
  },
  {
   "cell_type": "code",
   "execution_count": 29,
   "metadata": {},
   "outputs": [
    {
     "data": {
      "text/plain": [
       "0    2465.1\n",
       "1    2764.8\n",
       "2    2922.5\n",
       "3    3461.0\n",
       "4    4230.0\n",
       "5    5254.7\n",
       "6    7156.0\n",
       "Name: revenue, dtype: float64"
      ]
     },
     "execution_count": 29,
     "metadata": {},
     "output_type": "execute_result"
    }
   ],
   "source": [
    "mode = fortune['revenue'].mode()\n",
    "mode"
   ]
  },
  {
   "cell_type": "code",
   "execution_count": 32,
   "metadata": {},
   "outputs": [
    {
     "data": {
      "text/plain": [
       "2026.48"
      ]
     },
     "execution_count": 32,
     "metadata": {},
     "output_type": "execute_result"
    }
   ],
   "source": [
    "average_profit = fortune['profit'].mean()\n",
    "average_profit.round(2)"
   ]
  },
  {
   "cell_type": "code",
   "execution_count": null,
   "metadata": {},
   "outputs": [
    {
     "data": {
      "text/plain": [
       "6375.5"
      ]
     },
     "metadata": {},
     "output_type": "display_data"
    }
   ],
   "source": [
    "median = fortune['profit'].median()\n",
    "median"
   ]
  },
  {
   "cell_type": "code",
   "execution_count": 37,
   "metadata": {},
   "outputs": [
    {
     "data": {
      "text/plain": [
       "state\n",
       "CA    131\n",
       "TX     97\n",
       "NY     87\n",
       "IL     62\n",
       "OH     54\n",
       "PA     45\n",
       "FL     38\n",
       "VA     34\n",
       "GA     34\n",
       "MA     33\n",
       "MI     31\n",
       "NC     29\n",
       "MN     27\n",
       "CT     24\n",
       "NJ     23\n",
       "TN     22\n",
       "WI     21\n",
       "MO     21\n",
       "CO     21\n",
       "AZ     20\n",
       "IN     19\n",
       "WA     17\n",
       "NV     10\n",
       "DE      9\n",
       "OK      8\n",
       "MD      8\n",
       "NE      7\n",
       "RI      7\n",
       "AR      6\n",
       "KY      6\n",
       "OR      5\n",
       "IA      5\n",
       "DC      5\n",
       "LA      5\n",
       "UT      5\n",
       "ID      4\n",
       "KS      4\n",
       "AL      3\n",
       "SC      3\n",
       "ME      2\n",
       "HI      2\n",
       "NH      2\n",
       "VT      1\n",
       "ND      1\n",
       "MS      1\n",
       "PR      1\n",
       "Name: count, dtype: int64"
      ]
     },
     "execution_count": 37,
     "metadata": {},
     "output_type": "execute_result"
    }
   ],
   "source": [
    "fortune['state'].value_counts()"
   ]
  },
  {
   "cell_type": "code",
   "execution_count": 42,
   "metadata": {},
   "outputs": [
    {
     "name": "stderr",
     "output_type": "stream",
     "text": [
      "C:\\Users\\adity\\AppData\\Local\\Temp\\ipykernel_24720\\3356802466.py:2: UserWarning: \n",
      "\n",
      "`distplot` is a deprecated function and will be removed in seaborn v0.14.0.\n",
      "\n",
      "Please adapt your code to use either `displot` (a figure-level function with\n",
      "similar flexibility) or `histplot` (an axes-level function for histograms).\n",
      "\n",
      "For a guide to updating your code to use the new functions, please see\n",
      "https://gist.github.com/mwaskom/de44147ed2974457ad6372750bbe5751\n",
      "\n",
      "  sns.distplot(fortune_revenue,bins=10,hist=True,kde=True,label = \"Revenue in dollars\")\n"
     ]
    },
    {
     "data": {
      "text/plain": [
       "<Axes: xlabel='revenue', ylabel='Density'>"
      ]
     },
     "execution_count": 42,
     "metadata": {},
     "output_type": "execute_result"
    },
    {
     "data": {
      "image/png": "[encoded data removed]",
      "text/plain": [
       "<Figure size 640x480 with 1 Axes>"
      ]
     },
     "metadata": {},
     "output_type": "display_data"
    }
   ],
   "source": [
    "fortune_revenue = fortune['revenue']\n",
    "sns.distplot(fortune_revenue,bins=10,hist=True,kde=True,label = \"Revenue in dollars\")"
   ]
  },
  {
   "cell_type": "code",
   "execution_count": 93,
   "metadata": {},
   "outputs": [
    {
     "name": "stderr",
     "output_type": "stream",
     "text": [
      "C:\\Users\\adity\\AppData\\Local\\Temp\\ipykernel_24720\\1362429389.py:2: UserWarning: \n",
      "\n",
      "`distplot` is a deprecated function and will be removed in seaborn v0.14.0.\n",
      "\n",
      "Please adapt your code to use either `displot` (a figure-level function with\n",
      "similar flexibility) or `histplot` (an axes-level function for histograms).\n",
      "\n",
      "For a guide to updating your code to use the new functions, please see\n",
      "https://gist.github.com/mwaskom/de44147ed2974457ad6372750bbe5751\n",
      "\n",
      "  sns.distplot(fortune_profit,bins=10,hist=True,kde=True,label = \"Revenue in dollars\")\n"
     ]
    },
    {
     "data": {
      "text/plain": [
       "<Axes: xlabel='profit', ylabel='Density'>"
      ]
     },
     "execution_count": 93,
     "metadata": {},
     "output_type": "execute_result"
    },
    {
     "data": {
      "image/png": "[encoded data removed]",
      "text/plain": [
       "<Figure size 640x480 with 1 Axes>"
      ]
     },
     "metadata": {},
     "output_type": "display_data"
    }
   ],
   "source": [
    "fortune_profit = fortune['profit']\n",
    "sns.distplot(fortune_profit,bins=10,hist=True,kde=True,label = \"Revenue in dollars\")"
   ]
  },
  {
   "cell_type": "markdown",
   "metadata": {},
   "source": [
    "## Variability"
   ]
  },
  {
   "cell_type": "code",
   "execution_count": 52,
   "metadata": {},
   "outputs": [],
   "source": [
    "min_ = fortune_revenue.min()"
   ]
  },
  {
   "cell_type": "code",
   "execution_count": 53,
   "metadata": {},
   "outputs": [],
   "source": [
    "max_ = fortune_revenue.max()"
   ]
  },
  {
   "cell_type": "code",
   "execution_count": 54,
   "metadata": {},
   "outputs": [
    {
     "data": {
      "text/plain": [
       "570646.8"
      ]
     },
     "execution_count": 54,
     "metadata": {},
     "output_type": "execute_result"
    }
   ],
   "source": [
    "range = max_-min_\n",
    "range"
   ]
  },
  {
   "cell_type": "code",
   "execution_count": 56,
   "metadata": {},
   "outputs": [
    {
     "data": {
      "text/plain": [
       "1665723951.1924706"
      ]
     },
     "execution_count": 56,
     "metadata": {},
     "output_type": "execute_result"
    }
   ],
   "source": [
    "fortune_revenue.var()"
   ]
  },
  {
   "cell_type": "code",
   "execution_count": 58,
   "metadata": {},
   "outputs": [
    {
     "data": {
      "text/plain": [
       "40813.281553833316"
      ]
     },
     "execution_count": 58,
     "metadata": {},
     "output_type": "execute_result"
    }
   ],
   "source": [
    "fortune_revenue.std()"
   ]
  },
  {
   "cell_type": "code",
   "execution_count": 61,
   "metadata": {},
   "outputs": [
    {
     "data": {
      "text/plain": [
       "6375.5"
      ]
     },
     "execution_count": 61,
     "metadata": {},
     "output_type": "execute_result"
    }
   ],
   "source": [
    "Q2 = fortune_revenue.quantile(0.5)\n",
    "Q2"
   ]
  },
  {
   "cell_type": "code",
   "execution_count": 62,
   "metadata": {},
   "outputs": [
    {
     "data": {
      "text/plain": [
       "14615.475"
      ]
     },
     "execution_count": 62,
     "metadata": {},
     "output_type": "execute_result"
    }
   ],
   "source": [
    "Q3 = fortune_revenue.quantile(0.75)\n",
    "Q3"
   ]
  },
  {
   "cell_type": "code",
   "execution_count": 64,
   "metadata": {},
   "outputs": [
    {
     "data": {
      "text/plain": [
       "3500.75"
      ]
     },
     "execution_count": 64,
     "metadata": {},
     "output_type": "execute_result"
    }
   ],
   "source": [
    "Q1 = fortune_revenue.quantile(0.25)\n",
    "Q1"
   ]
  },
  {
   "cell_type": "code",
   "execution_count": 67,
   "metadata": {},
   "outputs": [
    {
     "data": {
      "text/plain": [
       "11114.725"
      ]
     },
     "execution_count": 67,
     "metadata": {},
     "output_type": "execute_result"
    }
   ],
   "source": [
    "iqr = Q3 - Q1\n",
    "iqr"
   ]
  },
  {
   "cell_type": "markdown",
   "metadata": {},
   "source": [
    "<hr>"
   ]
  },
  {
   "cell_type": "code",
   "execution_count": 77,
   "metadata": {},
   "outputs": [],
   "source": [
    "min_ = fortune_profit.min()"
   ]
  },
  {
   "cell_type": "code",
   "execution_count": 78,
   "metadata": {},
   "outputs": [],
   "source": [
    "max_ = fortune_profit.max()"
   ]
  },
  {
   "cell_type": "code",
   "execution_count": 79,
   "metadata": {},
   "outputs": [
    {
     "data": {
      "text/plain": [
       "101200.0"
      ]
     },
     "execution_count": 79,
     "metadata": {},
     "output_type": "execute_result"
    }
   ],
   "source": [
    "range = max_-min_\n",
    "range"
   ]
  },
  {
   "cell_type": "code",
   "execution_count": 80,
   "metadata": {},
   "outputs": [
    {
     "data": {
      "text/plain": [
       "41236665.04459977"
      ]
     },
     "execution_count": 80,
     "metadata": {},
     "output_type": "execute_result"
    }
   ],
   "source": [
    "fortune_profit.var()"
   ]
  },
  {
   "cell_type": "code",
   "execution_count": 81,
   "metadata": {},
   "outputs": [
    {
     "data": {
      "text/plain": [
       "6421.578080549965"
      ]
     },
     "execution_count": 81,
     "metadata": {},
     "output_type": "execute_result"
    }
   ],
   "source": [
    "fortune_profit.std()"
   ]
  },
  {
   "cell_type": "code",
   "execution_count": 82,
   "metadata": {},
   "outputs": [
    {
     "data": {
      "text/plain": [
       "572.0"
      ]
     },
     "execution_count": 82,
     "metadata": {},
     "output_type": "execute_result"
    }
   ],
   "source": [
    "Q2 = fortune_profit.quantile(0.5)\n",
    "Q2"
   ]
  },
  {
   "cell_type": "code",
   "execution_count": 83,
   "metadata": {},
   "outputs": [
    {
     "data": {
      "text/plain": [
       "1498.3"
      ]
     },
     "execution_count": 83,
     "metadata": {},
     "output_type": "execute_result"
    }
   ],
   "source": [
    "Q3 = fortune_profit.quantile(0.75)\n",
    "Q3"
   ]
  },
  {
   "cell_type": "code",
   "execution_count": 84,
   "metadata": {},
   "outputs": [
    {
     "data": {
      "text/plain": [
       "195.4"
      ]
     },
     "execution_count": 84,
     "metadata": {},
     "output_type": "execute_result"
    }
   ],
   "source": [
    "Q1 = fortune_profit.quantile(0.25)\n",
    "Q1"
   ]
  },
  {
   "cell_type": "code",
   "execution_count": 86,
   "metadata": {},
   "outputs": [
    {
     "data": {
      "text/plain": [
       "1302.8999999999999"
      ]
     },
     "execution_count": 86,
     "metadata": {},
     "output_type": "execute_result"
    }
   ],
   "source": [
    "iqr = Q3 - Q1\n",
    "iqr"
   ]
  },
  {
   "cell_type": "code",
   "execution_count": 90,
   "metadata": {},
   "outputs": [
    {
     "data": {
      "image/png": "[encoded data removed]",
      "text/plain": [
       "<Figure size 640x480 with 1 Axes>"
      ]
     },
     "metadata": {},
     "output_type": "display_data"
    }
   ],
   "source": [
    "plt.boxplot(fortune_revenue)\n",
    "plt.show()"
   ]
  },
  {
   "cell_type": "code",
   "execution_count": 96,
   "metadata": {},
   "outputs": [
    {
     "data": {
      "image/png": "[encoded data removed]",
      "text/plain": [
       "<Figure size 640x480 with 1 Axes>"
      ]
     },
     "metadata": {},
     "output_type": "display_data"
    }
   ],
   "source": [
    "plt.boxplot(fortune_profit[fortune_profit>0])\n",
    "plt.show()"
   ]
  },
  {
   "cell_type": "markdown",
   "metadata": {},
   "source": [
    "## Skewness,Kurtosis"
   ]
  },
  {
   "cell_type": "code",
   "execution_count": 98,
   "metadata": {},
   "outputs": [
    {
     "data": {
      "text/plain": [
       "6.845409715756327"
      ]
     },
     "execution_count": 98,
     "metadata": {},
     "output_type": "execute_result"
    }
   ],
   "source": [
    "fortune_revenue.skew()"
   ]
  },
  {
   "cell_type": "code",
   "execution_count": 99,
   "metadata": {},
   "outputs": [
    {
     "data": {
      "text/plain": [
       "64.19728090964593"
      ]
     },
     "execution_count": 99,
     "metadata": {},
     "output_type": "execute_result"
    }
   ],
   "source": [
    "fortune_revenue.kurt()"
   ]
  },
  {
   "cell_type": "markdown",
   "metadata": {},
   "source": [
    "## 05/10/23 - Inferential statistics\n",
    "`drawing conclusion from sample about population`<br>\n",
    "<hr>\n",
    "\n",
    "## Introduction to inferential statistics\n",
    "It allows to draw inference about the population data from the sample data.<br>\n",
    "Do this we do hypothesis testing : `z-test`, `t-test`,`ANOVA` and `Chi-square goodness of fit data`\n",
    "<hr>\n",
    "\n",
    "## Sample vs Population\n",
    " - Population\n",
    "    - population is a collection of all the items in the dataset\n",
    "    - they are usually denoted with an upper case letter N\n",
    "    - the numbers we obtain by using a population are called parameters\n",
    " - Sample\n",
    "    - A sample is a subset of the population\n",
    "    - they are usually denoted with the lower case letter n\n",
    "    - the numbers we obtain by using a sample are called statistic\n",
    "    - they have two key characteristics - randomness and representatives\n",
    "    - `Randomness` means a random sample is collected when each member of the sample is choosen from the population strictly by chance\n",
    "    - `Representativeness` means a representative sample is a subset of the population that accurately reflects the members of the entire population\n",
    "\n",
    "<hr>\n",
    "\n",
    "\n",
    "## Sampling distributions\n",
    "   - Sampling is much more practical but it is prone to sampling error\n",
    "   - A sample non-represntative of the population introduce **bias**. The method chosen for such sampling is called **sampling bias**\n",
    "   - The best technique for reducing bias in sampling is **randomization**\n",
    "   - `Simple random sampling` is the simplest of randomization techniques\n",
    "   - `Cluster sampling` and `Stratified sampling` are other systematic sampling techniques\n",
    "<hr>\n",
    "\n",
    "## Central Limit Theorem\n",
    " - Central Limit Theorem is one of the most important theorems in probability theory and statistics\n",
    " - It states that, under certain condition, the sum of a large number of random variables is approximately normal\n",
    " - A version of the Central Limit Theorem applies to independent identically distributed random variables\n",
    " - Suppose that $X_{1}$,$X_{2}$,......,$X_{n}$ are independent identically distributed random variables with expected values, E[$X_{i}$] = u < `infinity` and variance, Var[$X_{i}$] = $sigma_{2}$ < `infinity`\n",
    " - Then the sample mean has mean u and variance $sigma_{2}$/n\n",
    "\n",
    " ### Assumptions underlying Central Limit Theorem\n",
    "  - The dataset must follow the randomization condition.It must be sampled randomly\n",
    "  - Sample drawn should be independent of each other\n",
    "  - Sample size should not be more that 10% of the population size when sampling is done without replacement\n",
    "  - The sample size should be large enough. In general, a sample size of 30 is considered sufficient when the population is symmetric\n",
    "\n",
    " ### Important points about Central limit theorem\n",
    "  - CLT is applicable irrespective of the type of the distribution of the population\n",
    "  - So, given a dataset with unknown distribution, the sample mean will approximate the normal distribution\n",
    "  - The greater the sample size the lower the standard error. So, the greater the accuracy in determining the population mean from the sample mean\n",
    "<hr>\n",
    "\n",
    "## T - test(Parametric test)\n",
    " - The t-test is a statistical hypothesis test in which the test statistic follows a Student's t-distribution under the null hypothesis\n",
    " - It is used to determine if there is a significant difference between the means of two groups.\n",
    " - It is most likely used when the dataset follow a normal distribution and may have unknown variances\n",
    " - A t-test is used as a hypothesis testing tool, which allows testing of an assumption applicable to a population\n",
    "\n",
    "  ### t-test assumptions\n",
    "   - The sample mean $\\bar X$ follows a normal distribution with mean u and variance $sigma_{2}$/n ,  where u and sigma are the mean and standard deviation of the population and n is the sample size\n",
    "   - The square of the standard error of the mean, $s_{2}$ follows a $x^{2}$ distribution with n-1 degrees of freedom\n",
    "   - The second assumption is that the data is collected from a representative and randomly selected portion of the total population\n",
    "   - The sample size used should be resonably large enough. A large sample size means the distribution of results should approacg a normal bell-shaped curve\n",
    "   - The final assumption is the homogeneity of variance. Homogeneous or equal variance exists when the standard deviations of the samples are approximately equal\n",
    "\n",
    "   ### Decision Criteria\n",
    "    - Alternatively, once the t-value and degrees of freedom are determined, a p-value can be found using the table of values from Student's t-distribution\n",
    "    - If the calculated p-value us below the threshold value for statistical significance, then we reject the null hypothesis in favour of the alternative hypothesis\n",
    "   \n",
    "   By default alpha = 0.05, tolerance limit<br>\n",
    "   Result <0.5 : Alternative is true<br>\n",
    "   Result >0.5 : Null is true<br>\n",
    "\n",
    "   ### Types of t-test\n",
    "   1. One-sample t-Test\n",
    "      - They are appropriate when a sample is being compared to the population from a hypothesis\n",
    "      - The population parameters are known in advance or are calculatedd from the population data\n",
    "      - In testing the null hypothesis ($H_{0}$) that the population mean is equal to a specified value $u_{0}$\n",
    "   2. Independent two sample t-test\n",
    "      - Two-sample t-tests are appropriate for comparing two samples\n",
    "      - These tests are typically experimental and evaluate samples from a controlled experiment\n",
    "      - These two-sample t-test takes sample data from two groups and calculates the t-value\n",
    "      - The 2 - sample t-test requires independent groups for each sample\n",
    "   3. Paired t-test\n",
    "      - This test is used when the samples are dependent\n",
    "      - It is used when there is only one sample that has been tested twice(repeated measures) or when there are two samples that have been matched or \"paired\"\n",
    "      - The degree of freedom used is n-1, where n represents the number of pairs\n",
    "<hr>\n",
    "\n",
    "## ANOVA\n",
    " - Acronym : Anaylsis of Variance\n",
    " - It can be used in cases where we want to compare the means of more than two groups\n",
    " - The ANOVA test allows a comparisonn of more than two groups to determine whether a relationship exists between them\n",
    " - The result of the ANOVA formula, the F-statistic(also called F-ratio) allows for the anaylsis of multiple groups of data to determine the variability between samples and within samples\n",
    " - The null hypothesis ($H_{0}$) is that there is no real difference exists between the tested groups. So, the result  of the ANOVA's F-ratio statistic will be close to 1.\n",
    "\n",
    "   ### Assumptions used in ANOVA\n",
    "    1. The expected values of the errors are zero\n",
    "    2. The variances of all errors are equal to each other\n",
    "    3. The errors are independent\n",
    "    4. They are normally distributed\n",
    "   \n",
    "   ### Types of ANOVA\n",
    "      1. One Way ANOVA\n",
    "         - When we are comparing more than three groups based on one factor variable, then it is said to be One Way ANOVA\n",
    "         - The null hypothesis ($H_{0}$) for the test is that the means of the groups are equal\n",
    "            #### Limitations of one-way ANOVA\n",
    "            - A one way ANOVA test will tell us that atleast two groups were different from each other\n",
    "            - But, it won't tell us what groups were different\n",
    "            - If the test returns a significant f-statistic, we may need to run another test like Least Significant Difference to examine which groups had a difference in means\n",
    "      2. Two Way ANOVA\n",
    "         - A two way ANOVA is just the extension of the one way ANOVA\n",
    "         - When have more than one factor variable, then it is said to be Two way ANOVA\n",
    "         - It is utilized to observe the interaction between the two factors and test the effect of two factors at the same time\n",
    "<hr>\n",
    "\n",
    "## Chi-square goodness of fit test\n",
    "   - The goodness of fit test is used to test if a sample data fits a distribution from a certain population\n",
    "   - Chi-square goodness of fit test is the most common of the goodness of fit test\n",
    "   - The chi-squared test is used to determine whether there is a significant difference between the expected frequencies and the observed frequencies in one or more categories of the data\n",
    "   - It is a non-parametric test that is used to examine how the observed value of a given phenomenon is different from the expected value\n",
    "   - This distribution is denoted by $x^{2}$ random variable\n",
    "   - A random variable is said to have a chi-square distribution with m degrees of freedom if it is the sum of the squares of m independent standard normal random variables\n",
    "   - Used when relation between categorical data\n",
    "<hr>\n",
    "\n",
    "## Linear regression anaylsis\n",
    "   - In this test, a linear algorithm is used to understand the relationship b/w two variables from the data set\n",
    "   - One of those variables is the dependent variable,whike there can be one or more independent variables used\n",
    "   - We try to predict the value of the dependent variable based on the available values of the independent variables\n",
    "   - This is usually represeted by using a scatter plot\n",
    "<hr>\n",
    "\n",
    "## Correlation analysis\n",
    " - Correlation anaylsis is a statistical technique used to evaluate the strength of relationship between two quantitative variables\n",
    " - Correlation anaylsis is performed to identify the strength of relationships between pair of variables\n",
    " - The value of correlation coefficient r varies b/w -1 and 1\n",
    " - A value of -1 or +1 for r indicate a perfect correlation(+1 is for perfect positive correlation while -1 is for perfect negative correlation)\n",
    " - A value of 0 for r indicate no correlation at all\n",
    " - Values of r b/w 0 and 1 indicate partial correlation, which may be significant or not\n",
    " - A high correlation means that two or more variables have a strong relationship with each other, while a weak correlation means that variables are hardly related"
   ]
  }
 ],
 "metadata": {
  "kernelspec": {
   "display_name": "Python 3",
   "language": "python",
   "name": "python3"
  },
  "language_info": {
   "codemirror_mode": {
    "name": "ipython",
    "version": 3
   },
   "file_extension": ".py",
   "mimetype": "text/x-python",
   "name": "python",
   "nbconvert_exporter": "python",
   "pygments_lexer": "ipython3",
   "version": "3.10.6"
  },
  "orig_nbformat": 4
 },
 "nbformat": 4,
 "nbformat_minor": 2
}
