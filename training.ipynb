{
 "cells": [
  {
   "cell_type": "code",
   "execution_count": 2,
   "metadata": {},
   "outputs": [],
   "source": [
    "import pandas as pd\n",
    "import librosa\n",
    "import os"
   ]
  },
  {
   "cell_type": "code",
   "execution_count": 4,
   "metadata": {},
   "outputs": [],
   "source": [
    "audiofiles = os.listdir(\"./dataset/LJSpeech-1.1/wavs/\")\n",
    "audiofiles = [ \"./dataset/LJSpeech-1.1/wavs/\"+ audio for audio in audiofiles ]\n",
    "\n",
    "mfcc_feature = []\n",
    "chroma_feature = []\n",
    "spectral_contrast_feature = []\n",
    "zero_crossing_rate_feature = []\n",
    "spectral_centroid_feature = []\n",
    "\n",
    "for audiofile in audiofiles:\n",
    "    audio, sample_rate = librosa.load(audiofile, sr=None)\n",
    "    mfccs = librosa.feature.mfcc(y=audio, sr=sample_rate, n_mfcc=13)\n",
    "    chroma = librosa.feature.chroma_stft(y=audio, sr=sample_rate)\n",
    "    spectral_contrast = librosa.feature.spectral_contrast(y=audio, sr=sample_rate)\n",
    "    zero_crossing_rate = librosa.feature.zero_crossing_rate(y=audio)\n",
    "    spectral_centroid = librosa.feature.spectral_centroid(y=audio,sr=sample_rate)\n",
    "    \n",
    "    mfcc_feature.append(mfccs.mean(axis=1))\n",
    "    chroma_feature.append(chroma.mean(axis=1))\n",
    "    spectral_contrast_feature.append(spectral_contrast.mean(axis=1))\n",
    "    spectral_centroid_feature.append(spectral_centroid.mean(axis=1))\n",
    "    zero_crossing_rate_feature.append(zero_crossing_rate.mean())\n",
    "\n",
    "print(\"Mfccs feature\",mfcc_feature)\n",
    "print(\"\\nChroma feature\",chroma_feature)\n",
    "print(\"\\nSpectral Contrast feature\",spectral_contrast_feature)\n",
    "print(\"\\nZero Crossing Rate feature\",zero_crossing_rate_feature)\n",
    "print(\"\\nSpectral Centroid feature\",spectral_centroid_feature)"
   ]
  },
  {
   "cell_type": "code",
   "execution_count": 45,
   "metadata": {},
   "outputs": [],
   "source": [
    "mfcc_feature_names = [f'mfcc_{i}' for i in range(1, 14)]\n",
    "chroma_feature_names = [f'chroma_{i}' for i in range(1, len(chroma_feature[0])+1)]\n",
    "spectral_contrast_feature_names = [f'spectral_contrast_{i}' for i in range(1, len(spectral_contrast_feature[0])+1)]\n",
    "spectral_centroid_feature_names = [f'spectral_centroid_{i}' for i in range(1, len(spectral_centroid_feature[0])+1)]\n",
    "mfcc_df = pd.DataFrame(mfcc_feature, columns=mfcc_feature_names)\n",
    "chroma_df = pd.DataFrame(chroma_feature,columns=chroma_feature_names)\n",
    "spectral_contrast_df = pd.DataFrame(spectral_contrast_feature,columns=spectral_contrast_feature_names)\n",
    "zero_crossing_rate_df = pd.DataFrame({'zero_crossing_rate': zero_crossing_rate_feature})\n",
    "spectral_centroid_df = pd.DataFrame(spectral_centroid_feature,columns=spectral_centroid_feature_names)"
   ]
  },
  {
   "cell_type": "code",
   "execution_count": 42,
   "metadata": {},
   "outputs": [],
   "source": [
    "labels = [ f'Class{i}' for i in range(1,len(audiofiles)+1)]\n",
    "mfcc_df['label'] = labels\n",
    "chroma_df['label'] = labels\n",
    "spectral_contrast_df['label'] = labels\n",
    "zero_crossing_rate_df['label'] = labels\n",
    "spectral_centroid_df['label'] = labels"
   ]
  },
  {
   "cell_type": "code",
   "execution_count": 43,
   "metadata": {},
   "outputs": [],
   "source": [
    "with pd.ExcelWriter('./dataset/LJSpeech-1.1/features.xlsx', engine='xlsxwriter') as writer:\n",
    "    mfcc_df.to_excel(writer,sheet_name=\"MFCCs\",index=False,)\n",
    "    chroma_df.to_excel(writer,sheet_name=\"Chroma\",index=False)\n",
    "    spectral_contrast_df.to_excel(writer,sheet_name=\"Spectral Contrast\",index=False)\n",
    "    zero_crossing_rate_df.to_excel(writer,sheet_name=\"Zero Crossing Rate\",index=False)\n",
    "    spectral_centroid_df.to_excel(writer,sheet_name=\"Spectral Centroid\",index=False)"
   ]
  }
 ],
 "metadata": {
  "kernelspec": {
   "display_name": "Python 3",
   "language": "python",
   "name": "python3"
  },
  "language_info": {
   "codemirror_mode": {
    "name": "ipython",
    "version": 3
   },
   "file_extension": ".py",
   "mimetype": "text/x-python",
   "name": "python",
   "nbconvert_exporter": "python",
   "pygments_lexer": "ipython3",
   "version": "3.10.6"
  },
  "orig_nbformat": 4
 },
 "nbformat": 4,
 "nbformat_minor": 2
}
