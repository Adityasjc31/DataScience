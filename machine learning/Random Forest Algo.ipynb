{
 "cells": [
  {
   "cell_type": "markdown",
   "metadata": {},
   "source": [
    "## 19/10/23 - Random Forest\n",
    "\n",
    "It is built over decision tree<br>\n",
    "Its result is always better than decision tree.<br>\n",
    "Random forest is jury whereas decision tree is judge.<br>"
   ]
  }
 ],
 "metadata": {
  "language_info": {
   "name": "python"
  }
 },
 "nbformat": 4,
 "nbformat_minor": 2
}
