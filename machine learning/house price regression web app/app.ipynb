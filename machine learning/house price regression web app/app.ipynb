{
 "cells": [
  {
   "cell_type": "code",
   "execution_count": 1,
   "metadata": {},
   "outputs": [
    {
     "name": "stdout",
     "output_type": "stream",
     "text": [
      " * Serving Flask app '__main__'\n",
      " * Debug mode: off\n"
     ]
    },
    {
     "name": "stderr",
     "output_type": "stream",
     "text": [
      "WARNING: This is a development server. Do not use it in a production deployment. Use a production WSGI server instead.\n",
      " * Running on http://127.0.0.1:8000\n",
      "Press CTRL+C to quit\n",
      "127.0.0.1 - - [29/Nov/2023 11:35:51] \"GET / HTTP/1.1\" 200 -\n",
      "127.0.0.1 - - [29/Nov/2023 11:35:52] \"GET /favicon.ico HTTP/1.1\" 404 -\n"
     ]
    }
   ],
   "source": [
    "from flask import Flask, request, render_template, flash\n",
    "\n",
    "import pickle\n",
    "\n",
    "app = Flask(__name__)\n",
    "app.config['SECRET_KEY'] = 'supersecret'\n",
    "\n",
    "model = pickle.load(open('lr.pkl', 'rb'))\n",
    "\n",
    "@app.route('/', methods=['GET', 'POST'])\n",
    "\n",
    "def home():\n",
    "    prediction = -1\n",
    "    columns = ['bedrooms', 'bathrooms', 'sqft_living', 'sqft_lot', 'floors',\n",
    "       'waterfront', 'view', 'condition', 'grade', 'sqft_above',\n",
    "       'sqft_basement', 'yr_built', 'yr_renovated', 'lat', 'long',\n",
    "       'sqft_living15', 'sqft_lot15']\n",
    "    if request.method == 'POST':\n",
    "        bedrooms = int(request.form.get('bedrooms'))\n",
    "        bathrooms = float(request.form.get('bathrooms'))\n",
    "        sqft_living = int(request.form.get('sqft_living'))\n",
    "        sqft_lot = int(request.form.get('sqft_lot'))\n",
    "        floors = float(request.form.get('floors'))\n",
    "        waterfront = int(request.form.get('waterfront'))\n",
    "        view = int(request.form.get('view'))\n",
    "        condition = int(request.form.get('condition'))\n",
    "        grade = int(request.form.get('grade'))\n",
    "        sqft_above = int(request.form.get('sqft_above'))\n",
    "        sqft_basement = int(request.form.get('sqft_basement'))\n",
    "        yr_built = int(request.form.get('yr_built'))\n",
    "        yr_renovated = int(request.form.get('yr_renovated'))\n",
    "        lat = float(request.form.get('lat'))\n",
    "        long = float(request.form.get('long'))\n",
    "        sqft_living15 = int(request.form.get('sqft_living15'))\n",
    "        sqft_lot15 = int(request.form.get('sqft_lot15'))\n",
    "\n",
    "        input_features = [[bedrooms, bathrooms, sqft_living, sqft_lot, floors,\n",
    "       waterfront, view, condition, grade, sqft_above,\n",
    "       sqft_basement, yr_built, yr_renovated, lat, long,\n",
    "       sqft_living15, sqft_lot15]]\n",
    "        # print(input_features)\n",
    "        prediction = model.predict(input_features)\n",
    "        # print(prediction)\n",
    "        \n",
    "    return render_template('index.html', prediction=prediction,columns = columns,collen = len(columns))\n",
    "\n",
    "if __name__ == '__main__':\n",
    "    app.run(port=8000)"
   ]
  }
 ],
 "metadata": {
  "kernelspec": {
   "display_name": "Python 3",
   "language": "python",
   "name": "python3"
  },
  "language_info": {
   "codemirror_mode": {
    "name": "ipython",
    "version": 3
   },
   "file_extension": ".py",
   "mimetype": "text/x-python",
   "name": "python",
   "nbconvert_exporter": "python",
   "pygments_lexer": "ipython3",
   "version": "3.10.6"
  }
 },
 "nbformat": 4,
 "nbformat_minor": 2
}
