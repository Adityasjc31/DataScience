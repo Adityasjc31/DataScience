{
 "cells": [
  {
   "cell_type": "code",
   "execution_count": null,
   "metadata": {},
   "outputs": [],
   "source": [
    "from flask import Flask, request, render_template, flash\n",
    "\n",
    "import pickle\n",
    "\n",
    "app = Flask(__name__)\n",
    "app.config['SECRET_KEY'] = 'supersecret'\n",
    "\n",
    "scaler = pickle.load(open('scaler.pkl', 'rb'))\n",
    "model = pickle.load(open('svm_model.pkl', 'rb'))\n",
    "\n",
    "@app.route('/', methods=['GET', 'POST'])\n",
    "\n",
    "def home():\n",
    "    prediction = -1\n",
    "    if request.method == 'POST':\n",
    "        pregs = int(request.form.get('pregs'))\n",
    "        gluc = int(request.form.get('gluc'))\n",
    "        bp = int(request.form.get('bp'))\n",
    "        skin = int(request.form.get('skin'))\n",
    "        insulin = float(request.form.get('insulin'))\n",
    "        bmi = float(request.form.get('bmi'))\n",
    "        func = float(request.form.get('func'))\n",
    "        age = int(request.form.get('age'))\n",
    "\n",
    "        input_features = [[pregs, gluc, bp, skin, insulin, bmi, func, age]]\n",
    "        # print(input_features)\n",
    "        prediction = model.predict(scaler.transform(input_features))\n",
    "        # print(prediction)\n",
    "        \n",
    "    return render_template('index.html', prediction=prediction)\n",
    "\n",
    "if __name__ == '__main__':\n",
    "    app.run()"
   ]
  }
 ],
 "metadata": {
  "language_info": {
   "name": "python"
  }
 },
 "nbformat": 4,
 "nbformat_minor": 2
}
