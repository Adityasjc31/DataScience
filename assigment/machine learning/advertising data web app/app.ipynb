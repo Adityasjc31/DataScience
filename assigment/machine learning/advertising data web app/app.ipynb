{
 "cells": [
  {
   "cell_type": "code",
   "execution_count": 2,
   "metadata": {},
   "outputs": [
    {
     "name": "stdout",
     "output_type": "stream",
     "text": [
      " * Serving Flask app '__main__'\n",
      " * Debug mode: off\n"
     ]
    },
    {
     "name": "stderr",
     "output_type": "stream",
     "text": [
      "WARNING: This is a development server. Do not use it in a production deployment. Use a production WSGI server instead.\n",
      " * Running on http://127.0.0.1:8000\n",
      "Press CTRL+C to quit\n",
      "127.0.0.1 - - [30/Nov/2023 18:41:35] \"GET / HTTP/1.1\" 200 -\n",
      "127.0.0.1 - - [30/Nov/2023 18:41:35] \"GET /static/assets/css/main.css HTTP/1.1\" 304 -\n",
      "127.0.0.1 - - [30/Nov/2023 18:41:35] \"GET /static/assets/js/main.js HTTP/1.1\" 304 -\n",
      "127.0.0.1 - - [30/Nov/2023 18:41:35] \"GET /static/assets/css/fontawesome-all.min.css HTTP/1.1\" 304 -\n",
      "127.0.0.1 - - [30/Nov/2023 18:41:35] \"GET /static/images/bg01.jpg HTTP/1.1\" 304 -\n",
      "127.0.0.1 - - [30/Nov/2023 18:41:35] \"GET /static/images/bg02.jpg HTTP/1.1\" 304 -\n",
      "127.0.0.1 - - [30/Nov/2023 18:41:35] \"GET /static/images/bg03.jpg HTTP/1.1\" 304 -\n",
      "c:\\Users\\adity\\AppData\\Local\\Programs\\Python\\Python310\\lib\\site-packages\\sklearn\\base.py:464: UserWarning: X does not have valid feature names, but RandomForestRegressor was fitted with feature names\n",
      "  warnings.warn(\n",
      "127.0.0.1 - - [30/Nov/2023 18:41:54] \"POST / HTTP/1.1\" 200 -\n",
      "127.0.0.1 - - [30/Nov/2023 18:41:54] \"GET /static/assets/webfonts/fa-solid-900.woff2 HTTP/1.1\" 304 -\n"
     ]
    },
    {
     "name": "stdout",
     "output_type": "stream",
     "text": [
      "Received Data : {'TV': '230.1', 'Radio': '37.8', 'Newspaper': '69.2'}\n",
      "[[230.1, 37.8, 69.2]]\n",
      "[21.966]\n"
     ]
    }
   ],
   "source": [
    "from flask import Flask, request, render_template, jsonify\n",
    "\n",
    "import pickle\n",
    "\n",
    "import numpy as np\n",
    "\n",
    "app = Flask(__name__)\n",
    "app.config['SECRET_KEY'] = 'supersecret'\n",
    "# app.config['DEBUG'] = True\n",
    "\n",
    "# app.config['ENV'] = 'development'\n",
    "\n",
    "model = pickle.load(open('model.pkl', 'rb'))\n",
    "\n",
    "@app.route('/', methods=['GET', 'POST'])\n",
    "@app.route(\"/static/\") \n",
    "def home():\n",
    "    prediction = -1\n",
    "    if request.method == 'POST':\n",
    "        data = request.get_json()\n",
    "        print(\"Received Data :\",data)\n",
    "        TV = float(data.get('TV'))\n",
    "        Radio = float(data.get('Radio'))\n",
    "        Newspaper = float(data.get('Newspaper'))\n",
    "        input_features = [[TV ,Radio,Newspaper]]\n",
    "        print(input_features)\n",
    "        prediction = model.predict(input_features)\n",
    "        prediction = np.array2string(prediction)\n",
    "        print(prediction)\n",
    "        return prediction[1:len(prediction)-1]\n",
    "        \n",
    "    return render_template('index.html',prediction=prediction)\n",
    "\n",
    "if __name__ == '__main__':\n",
    "    app.run(port=8000)"
   ]
  }
 ],
 "metadata": {
  "kernelspec": {
   "display_name": "Python 3",
   "language": "python",
   "name": "python3"
  },
  "language_info": {
   "codemirror_mode": {
    "name": "ipython",
    "version": 3
   },
   "file_extension": ".py",
   "mimetype": "text/x-python",
   "name": "python",
   "nbconvert_exporter": "python",
   "pygments_lexer": "ipython3",
   "version": "3.10.6"
  }
 },
 "nbformat": 4,
 "nbformat_minor": 2
}
