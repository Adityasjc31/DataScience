{
 "cells": [
  {
   "cell_type": "code",
   "execution_count": 13,
   "metadata": {},
   "outputs": [
    {
     "name": "stdout",
     "output_type": "stream",
     "text": [
      " * Serving Flask app '__main__'\n",
      " * Debug mode: off\n"
     ]
    },
    {
     "name": "stderr",
     "output_type": "stream",
     "text": [
      "WARNING: This is a development server. Do not use it in a production deployment. Use a production WSGI server instead.\n",
      " * Running on http://127.0.0.1:8000\n",
      "Press CTRL+C to quit\n"
     ]
    },
    {
     "name": "stderr",
     "output_type": "stream",
     "text": [
      "127.0.0.1 - - [29/Nov/2023 22:12:17] \"GET / HTTP/1.1\" 200 -\n",
      "127.0.0.1 - - [29/Nov/2023 22:12:17] \"GET /static/assets/css/main.css HTTP/1.1\" 304 -\n",
      "127.0.0.1 - - [29/Nov/2023 22:12:17] \"GET /static/assets/js/main.js HTTP/1.1\" 304 -\n",
      "127.0.0.1 - - [29/Nov/2023 22:12:17] \"GET /static/assets/css/fontawesome-all.min.css HTTP/1.1\" 304 -\n",
      "127.0.0.1 - - [29/Nov/2023 22:12:17] \"GET /static/images/bg01.jpg HTTP/1.1\" 304 -\n",
      "127.0.0.1 - - [29/Nov/2023 22:12:17] \"GET /static/images/bg02.jpg HTTP/1.1\" 200 -\n",
      "127.0.0.1 - - [29/Nov/2023 22:12:17] \"GET /static/images/bg03.jpg HTTP/1.1\" 200 -\n"
     ]
    }
   ],
   "source": [
    "from flask import Flask, request, render_template, jsonify\n",
    "\n",
    "import pickle\n",
    "\n",
    "import numpy as np\n",
    "\n",
    "app = Flask(__name__)\n",
    "app.config['SECRET_KEY'] = 'supersecret'\n",
    "# app.config['DEBUG'] = True\n",
    "\n",
    "# app.config['ENV'] = 'development'\n",
    "\n",
    "model = pickle.load(open('model.pkl', 'rb'))\n",
    "\n",
    "@app.route('/', methods=['GET', 'POST'])\n",
    "@app.route(\"/static/\") \n",
    "def home():\n",
    "    prediction = -1\n",
    "    if request.method == 'POST':\n",
    "        data = request.get_json()\n",
    "        print(\"Received Data :\",data)\n",
    "        TV = int(data.get('TV'))\n",
    "        Radio = int(data.get('Radio'))\n",
    "        Newspaper = int(data.get('Newspaper'))\n",
    "        input_features = [[TV ,Radio,Newspaper]]\n",
    "        print(input_features)\n",
    "        prediction = model.predict(input_features)\n",
    "        prediction = np.array2string(prediction)\n",
    "        print(prediction)\n",
    "        return prediction[1:len(prediction)-1]\n",
    "        \n",
    "    return render_template('index.html',prediction=prediction)\n",
    "\n",
    "if __name__ == '__main__':\n",
    "    app.run(port=8000)"
   ]
  }
 ],
 "metadata": {
  "kernelspec": {
   "display_name": "Python 3",
   "language": "python",
   "name": "python3"
  },
  "language_info": {
   "codemirror_mode": {
    "name": "ipython",
    "version": 3
   },
   "file_extension": ".py",
   "mimetype": "text/x-python",
   "name": "python",
   "nbconvert_exporter": "python",
   "pygments_lexer": "ipython3",
   "version": "3.10.6"
  }
 },
 "nbformat": 4,
 "nbformat_minor": 2
}
